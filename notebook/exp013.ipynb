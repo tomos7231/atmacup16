{
 "cells": [
  {
   "cell_type": "markdown",
   "id": "cbf3c166-cfe9-4097-9b1b-a7cd07997ec3",
   "metadata": {},
   "source": [
    "Lightgbmを使ったReRankモデルのBaselineです。(LB:0.4158/CV:0.35497)  \n",
    "実際には、Candidate,Feature,ReRankでファイルを分割しています。  \n",
    "深夜の勢いで殴り書きで実装したので、コード汚いのは許して下さい。"
   ]
  },
  {
   "cell_type": "markdown",
   "id": "8ffcbca7-9bb9-481a-a706-0fe03bb82b1a",
   "metadata": {},
   "source": [
    "## Candidate"
   ]
  },
  {
   "cell_type": "code",
   "execution_count": 1,
   "id": "2cb332ae-69a7-4107-ac1d-664325a35cd2",
   "metadata": {},
   "outputs": [],
   "source": [
    "import os\n",
    "from tqdm import tqdm\n",
    "import gc\n",
    "import polars as pl\n",
    "import numpy as np\n",
    "import pandas as pd\n",
    "from pathlib import Path\n",
    "import matplotlib.pyplot as plt\n",
    "from sklearn.model_selection import GroupKFold,KFold\n",
    "import lightgbm as lgb"
   ]
  },
  {
   "cell_type": "code",
   "execution_count": 2,
   "id": "38fc5071-c443-4c36-93ee-b0ec7f60c835",
   "metadata": {},
   "outputs": [],
   "source": [
    "class CFG:\n",
    "    name = \"exp013\"\n",
    "\n",
    "    path_input = Path(\"../input\")\n",
    "    path_output = Path(\"../output\")\n",
    "    seed = 127\n",
    "    fold_num = 5\n",
    "\n",
    "    cat_features = ['yad_no','latest_yad_no','wid_cd','ken_cd','lrg_cd','sml_cd']\n",
    "\n",
    "    lgb_train_params = {\n",
    "        \"num_boost_round\": 999999,\n",
    "    }\n",
    "\n",
    "CFG.path_exp = CFG.path_output / CFG.name\n",
    "CFG.path_exp.mkdir(parents=True, exist_ok=True)"
   ]
  },
  {
   "cell_type": "code",
   "execution_count": 3,
   "id": "4cfca792-e1d3-4045-86cf-1e571f14bedd",
   "metadata": {},
   "outputs": [],
   "source": [
    "train_log = pl.read_csv(CFG.path_input / \"train_log.csv\")\n",
    "label = pl.read_csv(CFG.path_input / \"train_label.csv\")\n",
    "test_log = pl.read_csv(CFG.path_input / \"test_log.csv\")\n",
    "yado = pl.read_csv(CFG.path_input / \"yado.csv\")"
   ]
  },
  {
   "cell_type": "code",
   "execution_count": 4,
   "id": "988d7547-a231-4e67-827b-d129b6b04d5c",
   "metadata": {},
   "outputs": [],
   "source": [
    "# Group Kfold, labelにfold情報を付けておく。\n",
    "kf = KFold(n_splits=CFG.fold_num,shuffle=True,random_state=CFG.seed)\n",
    "fold_assignments = np.full(label.height, -1, dtype=int)\n",
    "for i, (_, valid_index) in enumerate(kf.split(label)):\n",
    "    fold_assignments[valid_index] = i\n",
    "label = label.with_columns(pl.Series(\"fold\", fold_assignments))"
   ]
  },
  {
   "cell_type": "code",
   "execution_count": 5,
   "id": "5c3e999f-9d6c-4c48-b120-b2233d63e303",
   "metadata": {},
   "outputs": [],
   "source": [
    "def create_past_view_yado_candidates(log):\n",
    "    \"\"\"\n",
    "    アクセスした宿をcandidateとして作成。ただし、直近の宿は予約しないので除外する。\n",
    "    \"\"\"\n",
    "    max_seq_no = log.group_by(\"session_id\").agg(pl.max(\"seq_no\").alias(\"max_seq_no\"))\n",
    "    log = log.join(max_seq_no, on=\"session_id\")\n",
    "    # 最大値に該当する行を除外する\n",
    "    past_yado_candidates = log.filter(pl.col(\"seq_no\") != pl.col(\"max_seq_no\"))\n",
    "    past_yado_candidates = past_yado_candidates.select(['session_id','yad_no']).unique()\n",
    "\n",
    "    # 簡易的な特徴量も作成しておく。\n",
    "    # 何個前に見たか 複数回見た時は、直近のみ残す。\n",
    "    past_yado_feature = log.with_columns((pl.col('max_seq_no') - pl.col('seq_no')).alias('max_seq_no_diff')).filter(pl.col(\"seq_no\") != pl.col(\"max_seq_no\"))\n",
    "    past_yado_feature = past_yado_feature.join(past_yado_feature.group_by([\"session_id\", \"yad_no\"]).agg(pl.col(\"max_seq_no_diff\").max().alias(\"max_seq_no_diff\")), on=[\"session_id\", \"yad_no\", \"max_seq_no_diff\"])\n",
    "    # 何回見たか\n",
    "    session_view_count = log.group_by(['session_id','yad_no']).count().rename({'count':'session_view_count'})\n",
    "    past_yado_feature = past_yado_feature.join(session_view_count,how='left',on=['session_id','yad_no']).drop('seq_no')\n",
    "    \n",
    "    return past_yado_candidates,past_yado_feature"
   ]
  },
  {
   "cell_type": "code",
   "execution_count": 6,
   "id": "ead4fa42-74c1-404e-aa5f-da4b3de1eaef",
   "metadata": {},
   "outputs": [],
   "source": [
    "def create_topN_popular_yado_candidates(label,train_test='train',top=10):\n",
    "    \"\"\"\n",
    "    予約された人気宿をcandidateとして作成。train/validでリークしないように注意。\n",
    "    \"\"\"\n",
    "    # labelデータを使うので、学習データはtrain/validで分割して作成。\n",
    "    top10_yado_candidate = pl.DataFrame()\n",
    "    popular_yado_feature = pl.DataFrame()\n",
    "    if train_test == 'train':\n",
    "        for fold in range(CFG.fold_num):\n",
    "            train_label = label.filter(pl.col('fold') != fold)\n",
    "            popular_yado_sort = train_label['yad_no'].value_counts().sort(by='counts',descending=True)\n",
    "\n",
    "            # candidateの作成\n",
    "            top10_yado_candidate_fold = popular_yado_sort.head(top).with_columns(pl.lit(fold).alias('fold')).select(['yad_no','fold'])\n",
    "            top10_yado_candidate = pl.concat([top10_yado_candidate,top10_yado_candidate_fold])\n",
    "\n",
    "            # 簡易的な特徴量も作成しておく。\n",
    "            popular_yado_feature_fold = popular_yado_sort.with_columns(pl.lit(fold).alias('fold'))\n",
    "            popular_yado_feature_fold = popular_yado_feature_fold.with_columns(pl.arange(1,len(popular_yado_sort)+1).alias('popular_rank'))\n",
    "            popular_yado_feature = pl.concat([popular_yado_feature,popular_yado_feature_fold])\n",
    "    else: # testデータはtrainデータ全体で作成する。\n",
    "        # candidateの作成\n",
    "        popular_yado_sort = label['yad_no'].value_counts().sort(by='counts',descending=True)\n",
    "        top10_yado_candidate = popular_yado_sort.head(top).select(['yad_no'])\n",
    "\n",
    "        # 簡易的な特徴量も作成しておく。\n",
    "        popular_yado_feature = popular_yado_sort.with_columns(pl.arange(1,len(popular_yado_sort)+1).alias('popular_rank'))\n",
    "\n",
    "    popular_yado_feature = popular_yado_feature.rename({'counts':'reservation_counts'})\n",
    "    \n",
    "    return top10_yado_candidate,popular_yado_feature"
   ]
  },
  {
   "cell_type": "code",
   "execution_count": 7,
   "id": "5051c13c-5ec6-42c9-a6c0-8d02b8428a19",
   "metadata": {},
   "outputs": [],
   "source": [
    "def create_topN_area_popular_yado_candidates(label,yado,train_test='train',area='wid_cd',top=10):\n",
    "    \"\"\"\n",
    "    エリア単位で予約された人気宿をcandidateとして作成。train/validでリークしないように注意。\n",
    "    \"\"\"\n",
    "    label_yado = label.join(yado,how='left',on='yad_no')\n",
    "    # labelデータを使うので、学習データはtrain/validで分割して作成。\n",
    "    top10_yado_area_candidate = pl.DataFrame()\n",
    "    popular_yado_area_feature = pl.DataFrame()\n",
    "    if train_test == 'train':\n",
    "        for fold in range(CFG.fold_num):\n",
    "            train_label = label_yado.filter(pl.col('fold') != fold)\n",
    "            popular_yado_sort = train_label.group_by([area,'yad_no']).count().sort(by=[area,'count'],descending=[False,True])\n",
    "\n",
    "            # candidateの作成\n",
    "            top10_yado_area_candidate_fold = popular_yado_sort.group_by(area).head(top).with_columns(pl.lit(fold).alias('fold')).select([area,'yad_no','fold'])\n",
    "            top10_yado_area_candidate = pl.concat([top10_yado_area_candidate,top10_yado_area_candidate_fold])\n",
    "\n",
    "            # 簡易的な特徴量も作成しておく。\n",
    "            popular_yado_area_feature_fold = popular_yado_sort.with_columns(pl.lit(fold).alias('fold'))\n",
    "            popular_yado_area_feature_fold = (popular_yado_area_feature_fold\n",
    "                                            .group_by(area)\n",
    "                                            .map_groups(lambda group: group.with_columns(pl.col('count').rank(method='dense',descending=True).over(area).alias(f'popular_{area}_rank'))))\n",
    "            popular_yado_area_feature = pl.concat([popular_yado_area_feature,popular_yado_area_feature_fold])\n",
    "            \n",
    "    else: # testデータはtrainデータ全体で作成する。\n",
    "        # candidateの作成\n",
    "        popular_yado_sort = label_yado.group_by([area,'yad_no']).count().sort(by=[area,'count'],descending=[False,True])\n",
    "        top10_yado_area_candidate = popular_yado_sort.group_by(area).head(top).select([area,'yad_no'])\n",
    "        \n",
    "        # 簡易的な特徴量も作成しておく。\n",
    "        popular_yado_area_feature = (popular_yado_sort\n",
    "                                    .group_by(area)\n",
    "                                    .map_groups(lambda group: group.with_columns(pl.col('count').rank(method='dense',descending=True).over(area).alias(f'popular_{area}_rank'))))\n",
    "\n",
    "    popular_yado_area_feature = popular_yado_area_feature.drop('count')\n",
    "    \n",
    "    return top10_yado_area_candidate,popular_yado_area_feature"
   ]
  },
  {
   "cell_type": "code",
   "execution_count": 8,
   "id": "45716ff6-4d12-445d-a84d-c67045cd936d",
   "metadata": {},
   "outputs": [],
   "source": [
    "def create_latest_next_booking_tonN_candidate(log,label,train_test='train',top=10):\n",
    "    \"\"\"\n",
    "    直近見た宿で、次にどこを予約しやすいか。\n",
    "    \"\"\"\n",
    "    log_latest = train_log.group_by('session_id').tail(1)\n",
    "    log_latest = log_latest.rename({'yad_no':'latest_yad_no'})\n",
    "    log_latest = log_latest.join(label,how='left',on='session_id')\n",
    "\n",
    "    # labelデータを使うので、学習データはtrain/validで分割して作成。\n",
    "    latest_next_booking_tonN_candidate = pl.DataFrame()\n",
    "    latest_next_booking_tonN_feature = pl.DataFrame()\n",
    "    if train_test == 'train':\n",
    "        for fold in range(CFG.fold_num):\n",
    "            train_log_latest = log_latest.filter(pl.col('fold') != fold)\n",
    "            train_log_latest = train_log_latest.group_by(['latest_yad_no','yad_no']).count().sort(by=['latest_yad_no','count'],descending=[False,True])\n",
    "    \n",
    "            # candidateの作成\n",
    "            latest_next_booking_tonN_candidate_fold = train_log_latest.group_by('latest_yad_no').head(top).with_columns(pl.lit(fold).alias('fold')).select(['yad_no','latest_yad_no','fold'])\n",
    "            latest_next_booking_tonN_candidate = pl.concat([latest_next_booking_tonN_candidate,latest_next_booking_tonN_candidate_fold])\n",
    "    \n",
    "            # 簡易的な特徴量も作成しておく。\n",
    "            latest_next_booking_tonN_feature_fold = train_log_latest.with_columns(pl.lit(fold).alias('fold'))\n",
    "            latest_next_booking_tonN_feature_fold = (latest_next_booking_tonN_feature_fold\n",
    "                                                    .group_by('latest_yad_no')\n",
    "                                                    .map_groups(lambda group: group.with_columns(pl.col('count').rank(method='dense',descending=True).over('latest_yad_no').alias(f'latest_next_booking_rank'))))\n",
    "            latest_next_booking_tonN_feature = pl.concat([latest_next_booking_tonN_feature,latest_next_booking_tonN_feature_fold])\n",
    "    else:\n",
    "        log_latest = log_latest.group_by(['latest_yad_no','yad_no']).count().sort(by=['latest_yad_no','count'],descending=[False,True])\n",
    "\n",
    "        # candidateの作成\n",
    "        latest_next_booking_tonN_candidate = log_latest.group_by('latest_yad_no').head(top).select(['yad_no','latest_yad_no'])\n",
    "\n",
    "        # 簡易的な特徴量も作成しておく。\n",
    "        latest_next_booking_tonN_feature = (log_latest\n",
    "                                                    .group_by('latest_yad_no')\n",
    "                                                    .map_groups(lambda group: group.with_columns(pl.col('count').rank(method='dense',descending=True).over('latest_yad_no').alias(f'latest_next_booking_rank'))))\n",
    "    latest_next_booking_tonN_feature = latest_next_booking_tonN_feature.drop('count')\n",
    "    return latest_next_booking_tonN_candidate,latest_next_booking_tonN_feature"
   ]
  },
  {
   "cell_type": "code",
   "execution_count": 9,
   "id": "8485a915-80ec-4d4b-a072-e74e4bd69f98",
   "metadata": {},
   "outputs": [],
   "source": [
    "train_past_view_yado_candidates,train_past_view_yado_feature = create_past_view_yado_candidates(train_log)\n",
    "test_past_view_yado_candidates,test_past_view_yado_feature = create_past_view_yado_candidates(test_log)"
   ]
  },
  {
   "cell_type": "code",
   "execution_count": 10,
   "id": "a288b9fa-ef7b-4fc2-81e1-03015d98da02",
   "metadata": {},
   "outputs": [],
   "source": [
    "train_top20_popular_yado_candidates,train_top20_popular_yado_feature = create_topN_popular_yado_candidates(label,train_test='train',top=20)\n",
    "test_top20_popular_yado_candidates,test_top20_popular_yado_feature = create_topN_popular_yado_candidates(label,train_test='test',top=20)"
   ]
  },
  {
   "cell_type": "code",
   "execution_count": 11,
   "id": "075d98a1-04fe-4610-97d7-f9f0dfb949e3",
   "metadata": {},
   "outputs": [],
   "source": [
    "train_top10_wid_popular_yado_candidates,train_top10_wid_popular_yado_feature = create_topN_area_popular_yado_candidates(label,yado,train_test='train',area='wid_cd',top=10)\n",
    "test_top10_wid_popular_yado_candidates,test_top10_wid_popular_yado_feature = create_topN_area_popular_yado_candidates(label,yado,train_test='test',area='wid_cd',top=10)\n",
    "\n",
    "train_top10_ken_popular_yado_candidates,train_top10_ken_popular_yado_feature = create_topN_area_popular_yado_candidates(label,yado,train_test='train',area='ken_cd',top=10)\n",
    "test_top10_ken_popular_yado_candidates,test_top10_ken_popular_yado_feature = create_topN_area_popular_yado_candidates(label,yado,train_test='test',area='ken_cd',top=10)\n",
    "\n",
    "train_top10_lrg_popular_yado_candidates,train_top10_lrg_popular_yado_feature = create_topN_area_popular_yado_candidates(label,yado,train_test='train',area='lrg_cd',top=10)\n",
    "test_top10_lrg_popular_yado_candidates,test_top10_lrg_popular_yado_feature = create_topN_area_popular_yado_candidates(label,yado,train_test='test',area='lrg_cd',top=10)\n",
    "\n",
    "train_top10_sml_popular_yado_candidates,train_top10_sml_popular_yado_feature = create_topN_area_popular_yado_candidates(label,yado,train_test='train',area='sml_cd',top=10)\n",
    "test_top10_sml_popular_yado_candidates,test_top10_sml_popular_yado_feature = create_topN_area_popular_yado_candidates(label,yado,train_test='test',area='sml_cd',top=10)"
   ]
  },
  {
   "cell_type": "code",
   "execution_count": 12,
   "id": "efb0b05d-4532-4251-87b3-d6360110bea7",
   "metadata": {},
   "outputs": [],
   "source": [
    "train_latest_next_booking_top20_candidate,train_latest_next_booking_top20_feature = create_latest_next_booking_tonN_candidate(train_log,label,train_test='train',top=20)\n",
    "test_latest_next_booking_top20_candidate,test_latest_next_booking_top20_feature = create_latest_next_booking_tonN_candidate(train_log,label,train_test='test',top=20)"
   ]
  },
  {
   "cell_type": "code",
   "execution_count": 13,
   "id": "362e5460-7b4e-4f6d-8c07-6f7a18c91c2a",
   "metadata": {},
   "outputs": [],
   "source": [
    "# parquet形式で保存\n",
    "train_past_view_yado_candidates.write_parquet(CFG.path_exp / \"train_past_view_yado_candidates.parquet\")\n",
    "test_past_view_yado_candidates.write_parquet(CFG.path_exp / \"test_past_view_yado_candidates.parquet\")\n",
    "\n",
    "train_past_view_yado_feature.write_parquet(CFG.path_exp / \"train_past_view_yado_feature.parquet\")\n",
    "test_past_view_yado_feature.write_parquet(CFG.path_exp / \"test_past_view_yado_feature.parquet\")\n",
    "\n",
    "train_top20_popular_yado_candidates.write_parquet(CFG.path_exp / \"train_top20_popular_yado_candidates.parquet\")\n",
    "test_top20_popular_yado_candidates.write_parquet(CFG.path_exp / \"test_top20_popular_yado_candidates.parquet\")\n",
    "\n",
    "train_top20_popular_yado_feature.write_parquet(CFG.path_exp / \"train_top20_popular_yado_feature.parquet\")\n",
    "test_top20_popular_yado_feature.write_parquet(CFG.path_exp / \"test_top20_popular_yado_feature.parquet\")\n",
    "\n",
    "train_top10_wid_popular_yado_candidates.write_parquet(CFG.path_exp / \"train_top10_wid_popular_yado_candidates.parquet\")\n",
    "test_top10_wid_popular_yado_candidates.write_parquet(CFG.path_exp / \"test_top10_wid_popular_yado_candidates.parquet\")\n",
    "\n",
    "train_top10_wid_popular_yado_feature.write_parquet(CFG.path_exp / \"train_top10_wid_popular_yado_feature.parquet\")\n",
    "test_top10_wid_popular_yado_feature.write_parquet(CFG.path_exp / \"test_top10_wid_popular_yado_feature.parquet\")\n",
    "\n",
    "train_top10_ken_popular_yado_candidates.write_parquet(CFG.path_exp / \"train_top10_ken_popular_yado_candidates.parquet\")\n",
    "test_top10_ken_popular_yado_candidates.write_parquet(CFG.path_exp / \"test_top10_ken_popular_yado_candidates.parquet\")\n",
    "\n",
    "train_top10_ken_popular_yado_feature.write_parquet(CFG.path_exp / \"train_top10_ken_popular_yado_feature.parquet\")\n",
    "test_top10_ken_popular_yado_feature.write_parquet(CFG.path_exp / \"test_top10_ken_popular_yado_feature.parquet\")\n",
    "\n",
    "train_top10_lrg_popular_yado_candidates.write_parquet(CFG.path_exp / \"train_top10_lrg_popular_yado_candidates.parquet\")\n",
    "test_top10_lrg_popular_yado_candidates.write_parquet(CFG.path_exp / \"test_top10_lrg_popular_yado_candidates.parquet\")\n",
    "\n",
    "train_top10_lrg_popular_yado_feature.write_parquet(CFG.path_exp / \"train_top10_lrg_popular_yado_feature.parquet\")\n",
    "test_top10_lrg_popular_yado_feature.write_parquet(CFG.path_exp / \"test_top10_lrg_popular_yado_feature.parquet\")\n",
    "\n",
    "train_top10_sml_popular_yado_candidates.write_parquet(CFG.path_exp / \"train_top10_sml_popular_yado_candidates.parquet\")\n",
    "test_top10_sml_popular_yado_candidates.write_parquet(CFG.path_exp / \"test_top10_sml_popular_yado_candidates.parquet\")\n",
    "\n",
    "train_top10_sml_popular_yado_feature.write_parquet(CFG.path_exp / \"train_top10_sml_popular_yado_feature.parquet\")\n",
    "test_top10_sml_popular_yado_feature.write_parquet(CFG.path_exp / \"test_top10_sml_popular_yado_feature.parquet\")\n",
    "\n",
    "train_latest_next_booking_top20_candidate.write_parquet(CFG.path_exp / \"train_latest_next_booking_top20_candidates.parquet\")\n",
    "test_latest_next_booking_top20_candidate.write_parquet(CFG.path_exp / \"test_latest_next_booking_top20_candidates.parquet\")\n",
    "\n",
    "train_latest_next_booking_top20_feature.write_parquet(CFG.path_exp / \"train_latest_next_booking_top20_feature.parquet\")\n",
    "test_latest_next_booking_top20_feature.write_parquet(CFG.path_exp / \"test_latest_next_booking_top20_feature.parquet\")\n"
   ]
  },
  {
   "cell_type": "markdown",
   "id": "3e66ed18-a32f-495c-83c2-93dcc5b1191d",
   "metadata": {},
   "source": [
    "## Feature"
   ]
  },
  {
   "cell_type": "markdown",
   "id": "2bfe1345-b0ad-4588-9e53-a93232c89179",
   "metadata": {},
   "source": [
    "### candidate結合"
   ]
  },
  {
   "cell_type": "code",
   "execution_count": 14,
   "id": "1fc5d4a5-06a4-482e-addd-2f6504353703",
   "metadata": {},
   "outputs": [],
   "source": [
    "# area単位のは多すぎるので、今回は除外。\n",
    "candidate_name_list = ['past_view_yado',\n",
    "                      # 'top20_popular_yado',\n",
    "                      'top10_wid_popular_yado',\n",
    "                      'top10_ken_popular_yado',\n",
    "                      'top10_lrg_popular_yado',\n",
    "                      'top10_sml_popular_yado',\n",
    "                       'latest_next_booking_top20']"
   ]
  },
  {
   "cell_type": "code",
   "execution_count": 15,
   "id": "9f2bf5e3-9e10-4c45-862b-7d729fda8373",
   "metadata": {},
   "outputs": [],
   "source": [
    "def get_session_id_list(log):\n",
    "    return log.group_by('session_id').head(1).select(['session_id'])"
   ]
  },
  {
   "cell_type": "code",
   "execution_count": 16,
   "id": "526879a5-66b8-4108-b8de-5dc099305220",
   "metadata": {},
   "outputs": [],
   "source": [
    "train_session_id = get_session_id_list(train_log)\n",
    "train_session_id = train_session_id.join(label.select(['fold','session_id']),how='left',on='session_id')\n",
    "\n",
    "test_session_id = get_session_id_list(test_log)"
   ]
  },
  {
   "cell_type": "code",
   "execution_count": 17,
   "id": "5aa7b610-6621-4a42-9f4d-09ec37e06e0c",
   "metadata": {},
   "outputs": [
    {
     "name": "stderr",
     "output_type": "stream",
     "text": [
      "  0%|          | 0/6 [00:00<?, ?it/s]"
     ]
    },
    {
     "name": "stdout",
     "output_type": "stream",
     "text": [
      "wid in candidate_name\n"
     ]
    },
    {
     "data": {
      "text/html": [
       "<div><style>\n",
       ".dataframe > thead > tr,\n",
       ".dataframe > tbody > tr {\n",
       "  text-align: right;\n",
       "  white-space: pre-wrap;\n",
       "}\n",
       "</style>\n",
       "<small>shape: (288_698, 15)</small><table border=\"1\" class=\"dataframe\"><thead><tr><th>session_id</th><th>latest_yad_no</th><th>fold</th><th>yad_type</th><th>total_room_cnt</th><th>wireless_lan_flg</th><th>onsen_flg</th><th>kd_stn_5min</th><th>kd_bch_5min</th><th>kd_slp_5min</th><th>kd_conv_walk_5min</th><th>wid_cd</th><th>ken_cd</th><th>lrg_cd</th><th>sml_cd</th></tr><tr><td>str</td><td>i64</td><td>i32</td><td>i64</td><td>f64</td><td>f64</td><td>i64</td><td>f64</td><td>f64</td><td>f64</td><td>f64</td><td>str</td><td>str</td><td>str</td><td>str</td></tr></thead><tbody><tr><td>&quot;bef82444ff28fe…</td><td>1510</td><td>0</td><td>0</td><td>491.0</td><td>1.0</td><td>0</td><td>null</td><td>null</td><td>null</td><td>1.0</td><td>&quot;d86102dd9c232b…</td><td>&quot;b4d2fb4e51ea7b…</td><td>&quot;29b680542fd396…</td><td>&quot;b4b4c63ff87803…</td></tr><tr><td>&quot;5d32dd5626c787…</td><td>9803</td><td>4</td><td>0</td><td>29.0</td><td>1.0</td><td>0</td><td>1.0</td><td>null</td><td>null</td><td>1.0</td><td>&quot;46e33861f921c3…</td><td>&quot;107c7305a74c8d…</td><td>&quot;d91d5d5ccafec0…</td><td>&quot;ef8e39a2c0aa16…</td></tr><tr><td>&quot;7d1a3416e3b677…</td><td>408</td><td>0</td><td>0</td><td>196.0</td><td>1.0</td><td>0</td><td>1.0</td><td>null</td><td>null</td><td>1.0</td><td>&quot;dc414a17890cfc…</td><td>&quot;6920865be128aa…</td><td>&quot;25ba24115c14a3…</td><td>&quot;bab5738ccde47c…</td></tr><tr><td>&quot;fa0b34704157c6…</td><td>8252</td><td>3</td><td>0</td><td>38.0</td><td>1.0</td><td>0</td><td>1.0</td><td>null</td><td>null</td><td>1.0</td><td>&quot;e9316013ee1b03…</td><td>&quot;66c4d01ad8e301…</td><td>&quot;7763c74e2efa67…</td><td>&quot;084c46af580a48…</td></tr><tr><td>&quot;2108db32893387…</td><td>5179</td><td>2</td><td>0</td><td>121.0</td><td>1.0</td><td>0</td><td>1.0</td><td>null</td><td>null</td><td>1.0</td><td>&quot;b07b75d367ebec…</td><td>&quot;0a66f6ab9c0507…</td><td>&quot;9ab5718fd88c6e…</td><td>&quot;7aff71bb47acb7…</td></tr><tr><td>&quot;16b5e3cc1b68d8…</td><td>4398</td><td>3</td><td>0</td><td>191.0</td><td>1.0</td><td>0</td><td>1.0</td><td>null</td><td>null</td><td>1.0</td><td>&quot;46e33861f921c3…</td><td>&quot;c86352f5b57e80…</td><td>&quot;9d6a46da05976c…</td><td>&quot;4a4c8d9d06f383…</td></tr><tr><td>&quot;893839e46204e2…</td><td>9190</td><td>4</td><td>0</td><td>48.0</td><td>1.0</td><td>0</td><td>1.0</td><td>null</td><td>null</td><td>1.0</td><td>&quot;f0112abf369fb0…</td><td>&quot;bd054cc265d68a…</td><td>&quot;dca13b5f308a0a…</td><td>&quot;3267093e6bcad4…</td></tr><tr><td>&quot;2df420591a1fd2…</td><td>13711</td><td>0</td><td>0</td><td>73.0</td><td>1.0</td><td>1</td><td>null</td><td>null</td><td>null</td><td>1.0</td><td>&quot;3300cf6f774b7c…</td><td>&quot;7bc5fba93082f0…</td><td>&quot;6dcf6d57d82bcc…</td><td>&quot;3745ca8206f421…</td></tr><tr><td>&quot;ab810f016fe96c…</td><td>5135</td><td>4</td><td>0</td><td>251.0</td><td>1.0</td><td>0</td><td>1.0</td><td>null</td><td>null</td><td>1.0</td><td>&quot;d86102dd9c232b…</td><td>&quot;3831f43bb997a3…</td><td>&quot;b31fe5b353c025…</td><td>&quot;2d18a3cbadda36…</td></tr><tr><td>&quot;fb370faaf59055…</td><td>1475</td><td>2</td><td>0</td><td>365.0</td><td>null</td><td>0</td><td>1.0</td><td>null</td><td>null</td><td>1.0</td><td>&quot;dc414a17890cfc…</td><td>&quot;6920865be128aa…</td><td>&quot;029040f3b54732…</td><td>&quot;3729f49986eefd…</td></tr><tr><td>&quot;88feb9a1a5ddce…</td><td>1935</td><td>4</td><td>0</td><td>36.0</td><td>null</td><td>1</td><td>null</td><td>null</td><td>null</td><td>null</td><td>&quot;e9316013ee1b03…</td><td>&quot;84efa50e52f9b4…</td><td>&quot;6991a9d2e7fe40…</td><td>&quot;51450d88ac85e2…</td></tr><tr><td>&quot;f7943052e89d7b…</td><td>9443</td><td>3</td><td>0</td><td>72.0</td><td>1.0</td><td>1</td><td>null</td><td>null</td><td>null</td><td>1.0</td><td>&quot;e9316013ee1b03…</td><td>&quot;517061b8165aa6…</td><td>&quot;7e5ebb4d5e3cdf…</td><td>&quot;840f2157ec5bb4…</td></tr><tr><td>&hellip;</td><td>&hellip;</td><td>&hellip;</td><td>&hellip;</td><td>&hellip;</td><td>&hellip;</td><td>&hellip;</td><td>&hellip;</td><td>&hellip;</td><td>&hellip;</td><td>&hellip;</td><td>&hellip;</td><td>&hellip;</td><td>&hellip;</td><td>&hellip;</td></tr><tr><td>&quot;048859cef402b3…</td><td>8066</td><td>1</td><td>0</td><td>104.0</td><td>null</td><td>1</td><td>null</td><td>null</td><td>null</td><td>1.0</td><td>&quot;3300cf6f774b7c…</td><td>&quot;013592a15b9a68…</td><td>&quot;3db7301525fb3b…</td><td>&quot;b8a4aaa1954614…</td></tr><tr><td>&quot;16b59f5b6e757f…</td><td>524</td><td>1</td><td>0</td><td>32.0</td><td>1.0</td><td>0</td><td>null</td><td>null</td><td>null</td><td>1.0</td><td>&quot;e9316013ee1b03…</td><td>&quot;a83f1272a366dd…</td><td>&quot;2fc44cee9cd19d…</td><td>&quot;dd29b77739e8d8…</td></tr><tr><td>&quot;5596fbab21c73e…</td><td>6313</td><td>1</td><td>0</td><td>226.0</td><td>1.0</td><td>0</td><td>1.0</td><td>null</td><td>null</td><td>1.0</td><td>&quot;46e33861f921c3…</td><td>&quot;83522288daa2f3…</td><td>&quot;0ded95208aa971…</td><td>&quot;0163d7c60f870a…</td></tr><tr><td>&quot;361f8507c56a3a…</td><td>9280</td><td>3</td><td>0</td><td>105.0</td><td>null</td><td>0</td><td>null</td><td>null</td><td>null</td><td>1.0</td><td>&quot;e9316013ee1b03…</td><td>&quot;21a8fca4573868…</td><td>&quot;d20208936fbd81…</td><td>&quot;394a5403d8c5d0…</td></tr><tr><td>&quot;b01120f59a7557…</td><td>233</td><td>3</td><td>0</td><td>87.0</td><td>1.0</td><td>1</td><td>1.0</td><td>null</td><td>null</td><td>1.0</td><td>&quot;3300cf6f774b7c…</td><td>&quot;7bc5fba93082f0…</td><td>&quot;54c9d3183b8cc2…</td><td>&quot;037f2ba082a57d…</td></tr><tr><td>&quot;1ec4e971f2263b…</td><td>6881</td><td>0</td><td>0</td><td>100.0</td><td>1.0</td><td>0</td><td>1.0</td><td>null</td><td>null</td><td>1.0</td><td>&quot;c312e07b7a5d45…</td><td>&quot;543ea7c443fdfd…</td><td>&quot;ad1d0da421776a…</td><td>&quot;dbbf6f4fc947c0…</td></tr><tr><td>&quot;51b2c8a42a83ed…</td><td>1533</td><td>0</td><td>0</td><td>26.0</td><td>1.0</td><td>1</td><td>null</td><td>null</td><td>null</td><td>1.0</td><td>&quot;e9316013ee1b03…</td><td>&quot;84efa50e52f9b4…</td><td>&quot;a1370d90ed3b80…</td><td>&quot;d72674f02c5340…</td></tr><tr><td>&quot;ef8d9afbc74d8f…</td><td>11586</td><td>4</td><td>0</td><td>88.0</td><td>1.0</td><td>0</td><td>null</td><td>null</td><td>null</td><td>1.0</td><td>&quot;46e33861f921c3…</td><td>&quot;c86352f5b57e80…</td><td>&quot;30e12d5f9c1a9e…</td><td>&quot;96dca36640fbfb…</td></tr><tr><td>&quot;1b259a2809f7ea…</td><td>7117</td><td>4</td><td>0</td><td>264.0</td><td>null</td><td>1</td><td>1.0</td><td>null</td><td>null</td><td>1.0</td><td>&quot;dc414a17890cfc…</td><td>&quot;31a0f630d36db5…</td><td>&quot;f11d0a982fcea0…</td><td>&quot;199073cb3739d7…</td></tr><tr><td>&quot;2cfcd8fe3d3c29…</td><td>5245</td><td>4</td><td>0</td><td>54.0</td><td>1.0</td><td>0</td><td>null</td><td>null</td><td>null</td><td>null</td><td>&quot;b07b75d367ebec…</td><td>&quot;0a66f6ab9c0507…</td><td>&quot;4713062d683b3b…</td><td>&quot;23a40c053a6e6b…</td></tr><tr><td>&quot;3256aa2a832f3d…</td><td>6277</td><td>3</td><td>0</td><td>105.0</td><td>1.0</td><td>0</td><td>1.0</td><td>null</td><td>null</td><td>1.0</td><td>&quot;dc414a17890cfc…</td><td>&quot;6920865be128aa…</td><td>&quot;029040f3b54732…</td><td>&quot;93c4520208aef9…</td></tr><tr><td>&quot;dd1ca90029fc9c…</td><td>3338</td><td>3</td><td>0</td><td>703.0</td><td>1.0</td><td>0</td><td>1.0</td><td>null</td><td>null</td><td>null</td><td>&quot;46e33861f921c3…</td><td>&quot;572d60f0f5212a…</td><td>&quot;8a623b960557e8…</td><td>&quot;1d9f09b9e2bd43…</td></tr></tbody></table></div>"
      ],
      "text/plain": [
       "shape: (288_698, 15)\n",
       "┌────────────┬────────────┬──────┬──────────┬───┬────────────┬────────────┬────────────┬───────────┐\n",
       "│ session_id ┆ latest_yad ┆ fold ┆ yad_type ┆ … ┆ wid_cd     ┆ ken_cd     ┆ lrg_cd     ┆ sml_cd    │\n",
       "│ ---        ┆ _no        ┆ ---  ┆ ---      ┆   ┆ ---        ┆ ---        ┆ ---        ┆ ---       │\n",
       "│ str        ┆ ---        ┆ i32  ┆ i64      ┆   ┆ str        ┆ str        ┆ str        ┆ str       │\n",
       "│            ┆ i64        ┆      ┆          ┆   ┆            ┆            ┆            ┆           │\n",
       "╞════════════╪════════════╪══════╪══════════╪═══╪════════════╪════════════╪════════════╪═══════════╡\n",
       "│ bef82444ff ┆ 1510       ┆ 0    ┆ 0        ┆ … ┆ d86102dd9c ┆ b4d2fb4e51 ┆ 29b680542f ┆ b4b4c63ff │\n",
       "│ 28fec65e5a ┆            ┆      ┆          ┆   ┆ 232bade9a9 ┆ ea7bca80eb ┆ d3969fea76 ┆ 87803ef0b │\n",
       "│ fdea3fa3e0 ┆            ┆      ┆          ┆   ┆ 7dccad40df ┆ 1270aa474a ┆ 8bfba1d0b5 ┆ 75eaa651f │\n",
       "│ 04         ┆            ┆      ┆          ┆   ┆ 48         ┆ 54         ┆ 0a         ┆ 9f5cf     │\n",
       "│ 5d32dd5626 ┆ 9803       ┆ 4    ┆ 0        ┆ … ┆ 46e33861f9 ┆ 107c7305a7 ┆ d91d5d5cca ┆ ef8e39a2c │\n",
       "│ c787db5df7 ┆            ┆      ┆          ┆   ┆ 21c3e38b81 ┆ 4c8dcc4f14 ┆ fec0ee0ec2 ┆ 0aa168167 │\n",
       "│ 46c75ab330 ┆            ┆      ┆          ┆   ┆ 998fbf283f ┆ 3de208bf7e ┆ 941caac895 ┆ 7f33c0b14 │\n",
       "│ de         ┆            ┆      ┆          ┆   ┆ 01         ┆ c2         ┆ ce         ┆ 5629e     │\n",
       "│ 7d1a3416e3 ┆ 408        ┆ 0    ┆ 0        ┆ … ┆ dc414a1789 ┆ 6920865be1 ┆ 25ba24115c ┆ bab5738cc │\n",
       "│ b67763e208 ┆            ┆      ┆          ┆   ┆ 0cfc17d011 ┆ 28aa148148 ┆ 14a3ce8b8b ┆ de47caccb │\n",
       "│ cbf1e31f1d ┆            ┆      ┆          ┆   ┆ d5038b88ca ┆ 10654738b1 ┆ 6b36b03c75 ┆ 34c7e7a4c │\n",
       "│ f8         ┆            ┆      ┆          ┆   ┆ 93         ┆ 59         ┆ 98         ┆ ceefc     │\n",
       "│ fa0b347041 ┆ 8252       ┆ 3    ┆ 0        ┆ … ┆ e9316013ee ┆ 66c4d01ad8 ┆ 7763c74e2e ┆ 084c46af5 │\n",
       "│ 57c660bfb4 ┆            ┆      ┆          ┆   ┆ 1b03f4525f ┆ e30155582c ┆ fa67a52212 ┆ 80a4871ae │\n",
       "│ 4cf01ef8ad ┆            ┆      ┆          ┆   ┆ e361c46ce9 ┆ f80b1d6559 ┆ 5d9d3d7dde ┆ 2a4921add │\n",
       "│ b0         ┆            ┆      ┆          ┆   ┆ c5         ┆ 86         ┆ 25         ┆ f6e8e     │\n",
       "│ …          ┆ …          ┆ …    ┆ …        ┆ … ┆ …          ┆ …          ┆ …          ┆ …         │\n",
       "│ 1b259a2809 ┆ 7117       ┆ 4    ┆ 0        ┆ … ┆ dc414a1789 ┆ 31a0f630d3 ┆ f11d0a982f ┆ 199073cb3 │\n",
       "│ f7ea90609a ┆            ┆      ┆          ┆   ┆ 0cfc17d011 ┆ 6db568ab23 ┆ cea099947a ┆ 739d73a10 │\n",
       "│ e08a5f031d ┆            ┆      ┆          ┆   ┆ d5038b88ca ┆ c9c1cd80d1 ┆ b41cf04aab ┆ d0d96f0b4 │\n",
       "│ 61         ┆            ┆      ┆          ┆   ┆ 93         ┆ c1         ┆ 3f         ┆ f8555     │\n",
       "│ 2cfcd8fe3d ┆ 5245       ┆ 4    ┆ 0        ┆ … ┆ b07b75d367 ┆ 0a66f6ab9c ┆ 4713062d68 ┆ 23a40c053 │\n",
       "│ 3c2967d135 ┆            ┆      ┆          ┆   ┆ ebece55a23 ┆ 0507059da6 ┆ 3b3be22a00 ┆ a6e6b4db9 │\n",
       "│ 5f699863db ┆            ┆      ┆          ┆   ┆ ceecc939ff ┆ f22a0e1f16 ┆ 131d9546c6 ┆ eb04083b4 │\n",
       "│ 4e         ┆            ┆      ┆          ┆   ┆ f4         ┆ 90         ┆ 6d         ┆ 0431c     │\n",
       "│ 3256aa2a83 ┆ 6277       ┆ 3    ┆ 0        ┆ … ┆ dc414a1789 ┆ 6920865be1 ┆ 029040f3b5 ┆ 93c452020 │\n",
       "│ 2f3dfa0268 ┆            ┆      ┆          ┆   ┆ 0cfc17d011 ┆ 28aa148148 ┆ 47320696bc ┆ 8aef920f9 │\n",
       "│ 5e5e3a2ab4 ┆            ┆      ┆          ┆   ┆ d5038b88ca ┆ 10654738b1 ┆ 845ac2418c ┆ df8e42af8 │\n",
       "│ 97         ┆            ┆      ┆          ┆   ┆ 93         ┆ 59         ┆ 0b         ┆ 35cfc     │\n",
       "│ dd1ca90029 ┆ 3338       ┆ 3    ┆ 0        ┆ … ┆ 46e33861f9 ┆ 572d60f0f5 ┆ 8a623b9605 ┆ 1d9f09b9e │\n",
       "│ fc9cadc5f4 ┆            ┆      ┆          ┆   ┆ 21c3e38b81 ┆ 212aacda51 ┆ 57e87bd1f4 ┆ 2bd43cebc │\n",
       "│ fa0e4a607a ┆            ┆      ┆          ┆   ┆ 998fbf283f ┆ 5ebf81fb0a ┆ edf71b6255 ┆ 9885a4638 │\n",
       "│ ae         ┆            ┆      ┆          ┆   ┆ 01         ┆ 3a         ┆ be         ┆ 8739a     │\n",
       "└────────────┴────────────┴──────┴──────────┴───┴────────────┴────────────┴────────────┴───────────┘"
      ]
     },
     "metadata": {},
     "output_type": "display_data"
    },
    {
     "data": {
      "text/html": [
       "<div><style>\n",
       ".dataframe > thead > tr,\n",
       ".dataframe > tbody > tr {\n",
       "  text-align: right;\n",
       "  white-space: pre-wrap;\n",
       "}\n",
       "</style>\n",
       "<small>shape: (600, 3)</small><table border=\"1\" class=\"dataframe\"><thead><tr><th>wid_cd</th><th>yad_no</th><th>fold</th></tr><tr><td>str</td><td>i64</td><td>i32</td></tr></thead><tbody><tr><td>&quot;89e181a4091476…</td><td>2783</td><td>0</td></tr><tr><td>&quot;89e181a4091476…</td><td>10484</td><td>0</td></tr><tr><td>&quot;89e181a4091476…</td><td>8249</td><td>0</td></tr><tr><td>&quot;89e181a4091476…</td><td>11771</td><td>0</td></tr><tr><td>&quot;89e181a4091476…</td><td>11546</td><td>0</td></tr><tr><td>&quot;89e181a4091476…</td><td>4894</td><td>0</td></tr><tr><td>&quot;89e181a4091476…</td><td>10336</td><td>0</td></tr><tr><td>&quot;89e181a4091476…</td><td>12802</td><td>0</td></tr><tr><td>&quot;89e181a4091476…</td><td>3497</td><td>0</td></tr><tr><td>&quot;89e181a4091476…</td><td>11366</td><td>0</td></tr><tr><td>&quot;e9316013ee1b03…</td><td>9020</td><td>0</td></tr><tr><td>&quot;e9316013ee1b03…</td><td>5713</td><td>0</td></tr><tr><td>&hellip;</td><td>&hellip;</td><td>&hellip;</td></tr><tr><td>&quot;46e33861f921c3…</td><td>13549</td><td>4</td></tr><tr><td>&quot;46e33861f921c3…</td><td>13292</td><td>4</td></tr><tr><td>&quot;dc414a17890cfc…</td><td>2445</td><td>4</td></tr><tr><td>&quot;dc414a17890cfc…</td><td>11407</td><td>4</td></tr><tr><td>&quot;dc414a17890cfc…</td><td>13106</td><td>4</td></tr><tr><td>&quot;dc414a17890cfc…</td><td>12946</td><td>4</td></tr><tr><td>&quot;dc414a17890cfc…</td><td>4744</td><td>4</td></tr><tr><td>&quot;dc414a17890cfc…</td><td>12962</td><td>4</td></tr><tr><td>&quot;dc414a17890cfc…</td><td>5566</td><td>4</td></tr><tr><td>&quot;dc414a17890cfc…</td><td>10868</td><td>4</td></tr><tr><td>&quot;dc414a17890cfc…</td><td>10515</td><td>4</td></tr><tr><td>&quot;dc414a17890cfc…</td><td>11499</td><td>4</td></tr></tbody></table></div>"
      ],
      "text/plain": [
       "shape: (600, 3)\n",
       "┌──────────────────────────────────┬────────┬──────┐\n",
       "│ wid_cd                           ┆ yad_no ┆ fold │\n",
       "│ ---                              ┆ ---    ┆ ---  │\n",
       "│ str                              ┆ i64    ┆ i32  │\n",
       "╞══════════════════════════════════╪════════╪══════╡\n",
       "│ 89e181a40914767dfee00fa2b7c2dcb5 ┆ 2783   ┆ 0    │\n",
       "│ 89e181a40914767dfee00fa2b7c2dcb5 ┆ 10484  ┆ 0    │\n",
       "│ 89e181a40914767dfee00fa2b7c2dcb5 ┆ 8249   ┆ 0    │\n",
       "│ 89e181a40914767dfee00fa2b7c2dcb5 ┆ 11771  ┆ 0    │\n",
       "│ …                                ┆ …      ┆ …    │\n",
       "│ dc414a17890cfc17d011d5038b88ca93 ┆ 5566   ┆ 4    │\n",
       "│ dc414a17890cfc17d011d5038b88ca93 ┆ 10868  ┆ 4    │\n",
       "│ dc414a17890cfc17d011d5038b88ca93 ┆ 10515  ┆ 4    │\n",
       "│ dc414a17890cfc17d011d5038b88ca93 ┆ 11499  ┆ 4    │\n",
       "└──────────────────────────────────┴────────┴──────┘"
      ]
     },
     "metadata": {},
     "output_type": "display_data"
    },
    {
     "data": {
      "text/html": [
       "<div><style>\n",
       ".dataframe > thead > tr,\n",
       ".dataframe > tbody > tr {\n",
       "  text-align: right;\n",
       "  white-space: pre-wrap;\n",
       "}\n",
       "</style>\n",
       "<small>shape: (2_886_980, 16)</small><table border=\"1\" class=\"dataframe\"><thead><tr><th>session_id</th><th>latest_yad_no</th><th>fold</th><th>yad_type</th><th>total_room_cnt</th><th>wireless_lan_flg</th><th>onsen_flg</th><th>kd_stn_5min</th><th>kd_bch_5min</th><th>kd_slp_5min</th><th>kd_conv_walk_5min</th><th>wid_cd</th><th>ken_cd</th><th>lrg_cd</th><th>sml_cd</th><th>yad_no</th></tr><tr><td>str</td><td>i64</td><td>i32</td><td>i64</td><td>f64</td><td>f64</td><td>i64</td><td>f64</td><td>f64</td><td>f64</td><td>f64</td><td>str</td><td>str</td><td>str</td><td>str</td><td>i64</td></tr></thead><tbody><tr><td>&quot;bef82444ff28fe…</td><td>1510</td><td>0</td><td>0</td><td>491.0</td><td>1.0</td><td>0</td><td>null</td><td>null</td><td>null</td><td>1.0</td><td>&quot;d86102dd9c232b…</td><td>&quot;b4d2fb4e51ea7b…</td><td>&quot;29b680542fd396…</td><td>&quot;b4b4c63ff87803…</td><td>6407</td></tr><tr><td>&quot;bef82444ff28fe…</td><td>1510</td><td>0</td><td>0</td><td>491.0</td><td>1.0</td><td>0</td><td>null</td><td>null</td><td>null</td><td>1.0</td><td>&quot;d86102dd9c232b…</td><td>&quot;b4d2fb4e51ea7b…</td><td>&quot;29b680542fd396…</td><td>&quot;b4b4c63ff87803…</td><td>5135</td></tr><tr><td>&quot;bef82444ff28fe…</td><td>1510</td><td>0</td><td>0</td><td>491.0</td><td>1.0</td><td>0</td><td>null</td><td>null</td><td>null</td><td>1.0</td><td>&quot;d86102dd9c232b…</td><td>&quot;b4d2fb4e51ea7b…</td><td>&quot;29b680542fd396…</td><td>&quot;b4b4c63ff87803…</td><td>3789</td></tr><tr><td>&quot;bef82444ff28fe…</td><td>1510</td><td>0</td><td>0</td><td>491.0</td><td>1.0</td><td>0</td><td>null</td><td>null</td><td>null</td><td>1.0</td><td>&quot;d86102dd9c232b…</td><td>&quot;b4d2fb4e51ea7b…</td><td>&quot;29b680542fd396…</td><td>&quot;b4b4c63ff87803…</td><td>13740</td></tr><tr><td>&quot;bef82444ff28fe…</td><td>1510</td><td>0</td><td>0</td><td>491.0</td><td>1.0</td><td>0</td><td>null</td><td>null</td><td>null</td><td>1.0</td><td>&quot;d86102dd9c232b…</td><td>&quot;b4d2fb4e51ea7b…</td><td>&quot;29b680542fd396…</td><td>&quot;b4b4c63ff87803…</td><td>11777</td></tr><tr><td>&quot;bef82444ff28fe…</td><td>1510</td><td>0</td><td>0</td><td>491.0</td><td>1.0</td><td>0</td><td>null</td><td>null</td><td>null</td><td>1.0</td><td>&quot;d86102dd9c232b…</td><td>&quot;b4d2fb4e51ea7b…</td><td>&quot;29b680542fd396…</td><td>&quot;b4b4c63ff87803…</td><td>1510</td></tr><tr><td>&quot;bef82444ff28fe…</td><td>1510</td><td>0</td><td>0</td><td>491.0</td><td>1.0</td><td>0</td><td>null</td><td>null</td><td>null</td><td>1.0</td><td>&quot;d86102dd9c232b…</td><td>&quot;b4d2fb4e51ea7b…</td><td>&quot;29b680542fd396…</td><td>&quot;b4b4c63ff87803…</td><td>6471</td></tr><tr><td>&quot;bef82444ff28fe…</td><td>1510</td><td>0</td><td>0</td><td>491.0</td><td>1.0</td><td>0</td><td>null</td><td>null</td><td>null</td><td>1.0</td><td>&quot;d86102dd9c232b…</td><td>&quot;b4d2fb4e51ea7b…</td><td>&quot;29b680542fd396…</td><td>&quot;b4b4c63ff87803…</td><td>8734</td></tr><tr><td>&quot;bef82444ff28fe…</td><td>1510</td><td>0</td><td>0</td><td>491.0</td><td>1.0</td><td>0</td><td>null</td><td>null</td><td>null</td><td>1.0</td><td>&quot;d86102dd9c232b…</td><td>&quot;b4d2fb4e51ea7b…</td><td>&quot;29b680542fd396…</td><td>&quot;b4b4c63ff87803…</td><td>9292</td></tr><tr><td>&quot;bef82444ff28fe…</td><td>1510</td><td>0</td><td>0</td><td>491.0</td><td>1.0</td><td>0</td><td>null</td><td>null</td><td>null</td><td>1.0</td><td>&quot;d86102dd9c232b…</td><td>&quot;b4d2fb4e51ea7b…</td><td>&quot;29b680542fd396…</td><td>&quot;b4b4c63ff87803…</td><td>511</td></tr><tr><td>&quot;5d32dd5626c787…</td><td>9803</td><td>4</td><td>0</td><td>29.0</td><td>1.0</td><td>0</td><td>1.0</td><td>null</td><td>null</td><td>1.0</td><td>&quot;46e33861f921c3…</td><td>&quot;107c7305a74c8d…</td><td>&quot;d91d5d5ccafec0…</td><td>&quot;ef8e39a2c0aa16…</td><td>10095</td></tr><tr><td>&quot;5d32dd5626c787…</td><td>9803</td><td>4</td><td>0</td><td>29.0</td><td>1.0</td><td>0</td><td>1.0</td><td>null</td><td>null</td><td>1.0</td><td>&quot;46e33861f921c3…</td><td>&quot;107c7305a74c8d…</td><td>&quot;d91d5d5ccafec0…</td><td>&quot;ef8e39a2c0aa16…</td><td>3338</td></tr><tr><td>&hellip;</td><td>&hellip;</td><td>&hellip;</td><td>&hellip;</td><td>&hellip;</td><td>&hellip;</td><td>&hellip;</td><td>&hellip;</td><td>&hellip;</td><td>&hellip;</td><td>&hellip;</td><td>&hellip;</td><td>&hellip;</td><td>&hellip;</td><td>&hellip;</td><td>&hellip;</td></tr><tr><td>&quot;3256aa2a832f3d…</td><td>6277</td><td>3</td><td>0</td><td>105.0</td><td>1.0</td><td>0</td><td>1.0</td><td>null</td><td>null</td><td>1.0</td><td>&quot;dc414a17890cfc…</td><td>&quot;6920865be128aa…</td><td>&quot;029040f3b54732…</td><td>&quot;93c4520208aef9…</td><td>10515</td></tr><tr><td>&quot;3256aa2a832f3d…</td><td>6277</td><td>3</td><td>0</td><td>105.0</td><td>1.0</td><td>0</td><td>1.0</td><td>null</td><td>null</td><td>1.0</td><td>&quot;dc414a17890cfc…</td><td>&quot;6920865be128aa…</td><td>&quot;029040f3b54732…</td><td>&quot;93c4520208aef9…</td><td>3521</td></tr><tr><td>&quot;dd1ca90029fc9c…</td><td>3338</td><td>3</td><td>0</td><td>703.0</td><td>1.0</td><td>0</td><td>1.0</td><td>null</td><td>null</td><td>null</td><td>&quot;46e33861f921c3…</td><td>&quot;572d60f0f5212a…</td><td>&quot;8a623b960557e8…</td><td>&quot;1d9f09b9e2bd43…</td><td>10095</td></tr><tr><td>&quot;dd1ca90029fc9c…</td><td>3338</td><td>3</td><td>0</td><td>703.0</td><td>1.0</td><td>0</td><td>1.0</td><td>null</td><td>null</td><td>null</td><td>&quot;46e33861f921c3…</td><td>&quot;572d60f0f5212a…</td><td>&quot;8a623b960557e8…</td><td>&quot;1d9f09b9e2bd43…</td><td>3338</td></tr><tr><td>&quot;dd1ca90029fc9c…</td><td>3338</td><td>3</td><td>0</td><td>703.0</td><td>1.0</td><td>0</td><td>1.0</td><td>null</td><td>null</td><td>null</td><td>&quot;46e33861f921c3…</td><td>&quot;572d60f0f5212a…</td><td>&quot;8a623b960557e8…</td><td>&quot;1d9f09b9e2bd43…</td><td>12350</td></tr><tr><td>&quot;dd1ca90029fc9c…</td><td>3338</td><td>3</td><td>0</td><td>703.0</td><td>1.0</td><td>0</td><td>1.0</td><td>null</td><td>null</td><td>null</td><td>&quot;46e33861f921c3…</td><td>&quot;572d60f0f5212a…</td><td>&quot;8a623b960557e8…</td><td>&quot;1d9f09b9e2bd43…</td><td>8553</td></tr><tr><td>&quot;dd1ca90029fc9c…</td><td>3338</td><td>3</td><td>0</td><td>703.0</td><td>1.0</td><td>0</td><td>1.0</td><td>null</td><td>null</td><td>null</td><td>&quot;46e33861f921c3…</td><td>&quot;572d60f0f5212a…</td><td>&quot;8a623b960557e8…</td><td>&quot;1d9f09b9e2bd43…</td><td>385</td></tr><tr><td>&quot;dd1ca90029fc9c…</td><td>3338</td><td>3</td><td>0</td><td>703.0</td><td>1.0</td><td>0</td><td>1.0</td><td>null</td><td>null</td><td>null</td><td>&quot;46e33861f921c3…</td><td>&quot;572d60f0f5212a…</td><td>&quot;8a623b960557e8…</td><td>&quot;1d9f09b9e2bd43…</td><td>3848</td></tr><tr><td>&quot;dd1ca90029fc9c…</td><td>3338</td><td>3</td><td>0</td><td>703.0</td><td>1.0</td><td>0</td><td>1.0</td><td>null</td><td>null</td><td>null</td><td>&quot;46e33861f921c3…</td><td>&quot;572d60f0f5212a…</td><td>&quot;8a623b960557e8…</td><td>&quot;1d9f09b9e2bd43…</td><td>13468</td></tr><tr><td>&quot;dd1ca90029fc9c…</td><td>3338</td><td>3</td><td>0</td><td>703.0</td><td>1.0</td><td>0</td><td>1.0</td><td>null</td><td>null</td><td>null</td><td>&quot;46e33861f921c3…</td><td>&quot;572d60f0f5212a…</td><td>&quot;8a623b960557e8…</td><td>&quot;1d9f09b9e2bd43…</td><td>12785</td></tr><tr><td>&quot;dd1ca90029fc9c…</td><td>3338</td><td>3</td><td>0</td><td>703.0</td><td>1.0</td><td>0</td><td>1.0</td><td>null</td><td>null</td><td>null</td><td>&quot;46e33861f921c3…</td><td>&quot;572d60f0f5212a…</td><td>&quot;8a623b960557e8…</td><td>&quot;1d9f09b9e2bd43…</td><td>13549</td></tr><tr><td>&quot;dd1ca90029fc9c…</td><td>3338</td><td>3</td><td>0</td><td>703.0</td><td>1.0</td><td>0</td><td>1.0</td><td>null</td><td>null</td><td>null</td><td>&quot;46e33861f921c3…</td><td>&quot;572d60f0f5212a…</td><td>&quot;8a623b960557e8…</td><td>&quot;1d9f09b9e2bd43…</td><td>1091</td></tr></tbody></table></div>"
      ],
      "text/plain": [
       "shape: (2_886_980, 16)\n",
       "┌─────────────┬─────────────┬──────┬──────────┬───┬─────────────┬────────────┬────────────┬────────┐\n",
       "│ session_id  ┆ latest_yad_ ┆ fold ┆ yad_type ┆ … ┆ ken_cd      ┆ lrg_cd     ┆ sml_cd     ┆ yad_no │\n",
       "│ ---         ┆ no          ┆ ---  ┆ ---      ┆   ┆ ---         ┆ ---        ┆ ---        ┆ ---    │\n",
       "│ str         ┆ ---         ┆ i32  ┆ i64      ┆   ┆ str         ┆ str        ┆ str        ┆ i64    │\n",
       "│             ┆ i64         ┆      ┆          ┆   ┆             ┆            ┆            ┆        │\n",
       "╞═════════════╪═════════════╪══════╪══════════╪═══╪═════════════╪════════════╪════════════╪════════╡\n",
       "│ bef82444ff2 ┆ 1510        ┆ 0    ┆ 0        ┆ … ┆ b4d2fb4e51e ┆ 29b680542f ┆ b4b4c63ff8 ┆ 6407   │\n",
       "│ 8fec65e5afd ┆             ┆      ┆          ┆   ┆ a7bca80eb12 ┆ d3969fea76 ┆ 7803ef0b75 ┆        │\n",
       "│ ea3fa3e004  ┆             ┆      ┆          ┆   ┆ 70aa474a54  ┆ 8bfba1d0b5 ┆ eaa651f9f5 ┆        │\n",
       "│             ┆             ┆      ┆          ┆   ┆             ┆ 0a         ┆ cf         ┆        │\n",
       "│ bef82444ff2 ┆ 1510        ┆ 0    ┆ 0        ┆ … ┆ b4d2fb4e51e ┆ 29b680542f ┆ b4b4c63ff8 ┆ 5135   │\n",
       "│ 8fec65e5afd ┆             ┆      ┆          ┆   ┆ a7bca80eb12 ┆ d3969fea76 ┆ 7803ef0b75 ┆        │\n",
       "│ ea3fa3e004  ┆             ┆      ┆          ┆   ┆ 70aa474a54  ┆ 8bfba1d0b5 ┆ eaa651f9f5 ┆        │\n",
       "│             ┆             ┆      ┆          ┆   ┆             ┆ 0a         ┆ cf         ┆        │\n",
       "│ bef82444ff2 ┆ 1510        ┆ 0    ┆ 0        ┆ … ┆ b4d2fb4e51e ┆ 29b680542f ┆ b4b4c63ff8 ┆ 3789   │\n",
       "│ 8fec65e5afd ┆             ┆      ┆          ┆   ┆ a7bca80eb12 ┆ d3969fea76 ┆ 7803ef0b75 ┆        │\n",
       "│ ea3fa3e004  ┆             ┆      ┆          ┆   ┆ 70aa474a54  ┆ 8bfba1d0b5 ┆ eaa651f9f5 ┆        │\n",
       "│             ┆             ┆      ┆          ┆   ┆             ┆ 0a         ┆ cf         ┆        │\n",
       "│ bef82444ff2 ┆ 1510        ┆ 0    ┆ 0        ┆ … ┆ b4d2fb4e51e ┆ 29b680542f ┆ b4b4c63ff8 ┆ 13740  │\n",
       "│ 8fec65e5afd ┆             ┆      ┆          ┆   ┆ a7bca80eb12 ┆ d3969fea76 ┆ 7803ef0b75 ┆        │\n",
       "│ ea3fa3e004  ┆             ┆      ┆          ┆   ┆ 70aa474a54  ┆ 8bfba1d0b5 ┆ eaa651f9f5 ┆        │\n",
       "│             ┆             ┆      ┆          ┆   ┆             ┆ 0a         ┆ cf         ┆        │\n",
       "│ …           ┆ …           ┆ …    ┆ …        ┆ … ┆ …           ┆ …          ┆ …          ┆ …      │\n",
       "│ dd1ca90029f ┆ 3338        ┆ 3    ┆ 0        ┆ … ┆ 572d60f0f52 ┆ 8a623b9605 ┆ 1d9f09b9e2 ┆ 13468  │\n",
       "│ c9cadc5f4fa ┆             ┆      ┆          ┆   ┆ 12aacda515e ┆ 57e87bd1f4 ┆ bd43cebc98 ┆        │\n",
       "│ 0e4a607aae  ┆             ┆      ┆          ┆   ┆ bf81fb0a3a  ┆ edf71b6255 ┆ 85a4638873 ┆        │\n",
       "│             ┆             ┆      ┆          ┆   ┆             ┆ be         ┆ 9a         ┆        │\n",
       "│ dd1ca90029f ┆ 3338        ┆ 3    ┆ 0        ┆ … ┆ 572d60f0f52 ┆ 8a623b9605 ┆ 1d9f09b9e2 ┆ 12785  │\n",
       "│ c9cadc5f4fa ┆             ┆      ┆          ┆   ┆ 12aacda515e ┆ 57e87bd1f4 ┆ bd43cebc98 ┆        │\n",
       "│ 0e4a607aae  ┆             ┆      ┆          ┆   ┆ bf81fb0a3a  ┆ edf71b6255 ┆ 85a4638873 ┆        │\n",
       "│             ┆             ┆      ┆          ┆   ┆             ┆ be         ┆ 9a         ┆        │\n",
       "│ dd1ca90029f ┆ 3338        ┆ 3    ┆ 0        ┆ … ┆ 572d60f0f52 ┆ 8a623b9605 ┆ 1d9f09b9e2 ┆ 13549  │\n",
       "│ c9cadc5f4fa ┆             ┆      ┆          ┆   ┆ 12aacda515e ┆ 57e87bd1f4 ┆ bd43cebc98 ┆        │\n",
       "│ 0e4a607aae  ┆             ┆      ┆          ┆   ┆ bf81fb0a3a  ┆ edf71b6255 ┆ 85a4638873 ┆        │\n",
       "│             ┆             ┆      ┆          ┆   ┆             ┆ be         ┆ 9a         ┆        │\n",
       "│ dd1ca90029f ┆ 3338        ┆ 3    ┆ 0        ┆ … ┆ 572d60f0f52 ┆ 8a623b9605 ┆ 1d9f09b9e2 ┆ 1091   │\n",
       "│ c9cadc5f4fa ┆             ┆      ┆          ┆   ┆ 12aacda515e ┆ 57e87bd1f4 ┆ bd43cebc98 ┆        │\n",
       "│ 0e4a607aae  ┆             ┆      ┆          ┆   ┆ bf81fb0a3a  ┆ edf71b6255 ┆ 85a4638873 ┆        │\n",
       "│             ┆             ┆      ┆          ┆   ┆             ┆ be         ┆ 9a         ┆        │\n",
       "└─────────────┴─────────────┴──────┴──────────┴───┴─────────────┴────────────┴────────────┴────────┘"
      ]
     },
     "metadata": {},
     "output_type": "display_data"
    },
    {
     "name": "stderr",
     "output_type": "stream",
     "text": [
      " 50%|█████     | 3/6 [00:00<00:00,  6.61it/s]"
     ]
    },
    {
     "name": "stdout",
     "output_type": "stream",
     "text": [
      "ken in candidate_name\n",
      "lrg in candidate_name\n"
     ]
    },
    {
     "name": "stderr",
     "output_type": "stream",
     "text": [
      " 83%|████████▎ | 5/6 [00:00<00:00,  5.53it/s]"
     ]
    },
    {
     "name": "stdout",
     "output_type": "stream",
     "text": [
      "sml in candidate_name\n"
     ]
    },
    {
     "name": "stderr",
     "output_type": "stream",
     "text": [
      "100%|██████████| 6/6 [00:00<00:00,  6.28it/s]\n",
      " 50%|█████     | 3/6 [00:00<00:00, 15.16it/s]"
     ]
    },
    {
     "name": "stdout",
     "output_type": "stream",
     "text": [
      "wid in candidate_name\n",
      "ken in candidate_name\n",
      "lrg in candidate_name\n"
     ]
    },
    {
     "name": "stderr",
     "output_type": "stream",
     "text": [
      "100%|██████████| 6/6 [00:00<00:00, 13.74it/s]"
     ]
    },
    {
     "name": "stdout",
     "output_type": "stream",
     "text": [
      "sml in candidate_name\n"
     ]
    },
    {
     "name": "stderr",
     "output_type": "stream",
     "text": [
      "\n"
     ]
    }
   ],
   "source": [
    "# 各candidateを結合\n",
    "candidate_list = {}\n",
    "candidate_list['train'] = []\n",
    "candidate_list['test'] = []\n",
    "\n",
    "for train_test in ['train','test']:\n",
    "    for candidate_name in tqdm(candidate_name_list):\n",
    "        candidate = pl.read_parquet(CFG.path_exp / f\"{train_test}_{candidate_name}_candidates.parquet\")\n",
    "        if 'session_id' in candidate.columns:\n",
    "            candidate_list[train_test].append(candidate.select(['session_id','yad_no']))\n",
    "        elif 'latest_yad_no' in candidate.columns:\n",
    "            if train_test == 'train':\n",
    "                latest_yad_no = train_log.group_by('session_id').tail(1).select(['session_id','yad_no']).rename({'yad_no':'latest_yad_no'})\n",
    "                latest_yad_no = latest_yad_no.join(label.select(['session_id','fold']),how='left',on='session_id')\n",
    "                latest_yad_no = latest_yad_no.with_columns(pl.col('fold').cast(pl.Int32))\n",
    "                candidate = latest_yad_no.join(candidate,how='inner',on=['latest_yad_no','fold'])\n",
    "            else:\n",
    "                latest_yad_no = test_log.group_by('session_id').tail(1).select(['session_id','yad_no']).rename({'yad_no':'latest_yad_no'})\n",
    "                candidate = latest_yad_no.join(candidate,how='inner',on=['latest_yad_no'])\n",
    "            candidate_list[train_test].append(candidate.select(['session_id','yad_no']))\n",
    "                # エリア系のやつ\n",
    "        elif \"wid\" in candidate_name:\n",
    "            print(\"wid in candidate_name\")\n",
    "            if train_test == \"train\":\n",
    "                latest_yad_no = (\n",
    "                    train_log.group_by(\"session_id\")\n",
    "                    .tail(1)\n",
    "                    .select([\"session_id\", \"yad_no\"])\n",
    "                )\n",
    "                latest_yad_no = latest_yad_no.join(\n",
    "                    label.select([\"session_id\", \"fold\"]),\n",
    "                    how=\"left\",\n",
    "                    on=\"session_id\",\n",
    "                )\n",
    "                latest_yad_no = latest_yad_no.with_columns(\n",
    "                    pl.col(\"fold\").cast(pl.Int32)\n",
    "                )\n",
    "                # yado_dfとマージ\n",
    "                latest_yad_no = latest_yad_no.join(\n",
    "                    yado, how=\"left\", on=\"yad_no\"\n",
    "                )\n",
    "                latest_yad_no = latest_yad_no.rename({'yad_no':'latest_yad_no'})\n",
    "                display(latest_yad_no)\n",
    "                display(candidate)\n",
    "                candidate = latest_yad_no.join(\n",
    "                    candidate, how=\"inner\", on=[\"wid_cd\", \"fold\"]\n",
    "                )\n",
    "                display(candidate)\n",
    "            else:\n",
    "                latest_yad_no = (\n",
    "                    test_log.group_by(\"session_id\")\n",
    "                    .tail(1)\n",
    "                    .select([\"session_id\", \"yad_no\"])\n",
    "                )\n",
    "                latest_yad_no = latest_yad_no.join(\n",
    "                    yado, how=\"left\", on=\"yad_no\"\n",
    "                )\n",
    "                latest_yad_no = latest_yad_no.rename({'yad_no':'latest_yad_no'})\n",
    "                candidate = latest_yad_no.join(\n",
    "                    candidate, how=\"inner\", on=[\"wid_cd\"]\n",
    "                )\n",
    "            candidate_list[train_test].append(\n",
    "                candidate.select([\"session_id\", \"yad_no\"])\n",
    "            )\n",
    "        # エリア系のやつ\n",
    "        elif \"ken\" in candidate_name:\n",
    "            print(\"ken in candidate_name\")\n",
    "            if train_test == \"train\":\n",
    "                latest_yad_no = (\n",
    "                    train_log.group_by(\"session_id\")\n",
    "                    .tail(1)\n",
    "                    .select([\"session_id\", \"yad_no\"])\n",
    "                )\n",
    "                latest_yad_no = latest_yad_no.join(\n",
    "                    label.select([\"session_id\", \"fold\"]),\n",
    "                    how=\"left\",\n",
    "                    on=\"session_id\",\n",
    "                )\n",
    "                latest_yad_no = latest_yad_no.with_columns(\n",
    "                    pl.col(\"fold\").cast(pl.Int32)\n",
    "                )\n",
    "                # yado_dfとマージ\n",
    "                latest_yad_no = latest_yad_no.join(\n",
    "                    yado, how=\"left\", on=\"yad_no\"\n",
    "                )\n",
    "                latest_yad_no = latest_yad_no.rename({'yad_no':'latest_yad_no'})\n",
    "                candidate = latest_yad_no.join(\n",
    "                    candidate, how=\"inner\", on=[\"ken_cd\", \"fold\"]\n",
    "                )\n",
    "            else:\n",
    "                latest_yad_no = (\n",
    "                    test_log.group_by(\"session_id\")\n",
    "                    .tail(1)\n",
    "                    .select([\"session_id\", \"yad_no\"])\n",
    "                )\n",
    "                latest_yad_no = latest_yad_no.join(\n",
    "                    yado, how=\"left\", on=\"yad_no\"\n",
    "                )\n",
    "                latest_yad_no = latest_yad_no.rename({'yad_no':'latest_yad_no'})\n",
    "                candidate = latest_yad_no.join(\n",
    "                    candidate, how=\"inner\", on=[\"ken_cd\"]\n",
    "                )\n",
    "            candidate_list[train_test].append(\n",
    "                candidate.select([\"session_id\", \"yad_no\"])\n",
    "            )\n",
    "        # エリア系のやつ\n",
    "        elif \"lrg\" in candidate_name:\n",
    "            print(\"lrg in candidate_name\")\n",
    "            if train_test == \"train\":\n",
    "                latest_yad_no = (\n",
    "                    train_log.group_by(\"session_id\")\n",
    "                    .tail(1)\n",
    "                    .select([\"session_id\", \"yad_no\"])\n",
    "                )\n",
    "                latest_yad_no = latest_yad_no.join(\n",
    "                    label.select([\"session_id\", \"fold\"]),\n",
    "                    how=\"left\",\n",
    "                    on=\"session_id\",\n",
    "                )\n",
    "                latest_yad_no = latest_yad_no.with_columns(\n",
    "                    pl.col(\"fold\").cast(pl.Int32)\n",
    "                )\n",
    "                # yado_dfとマージ\n",
    "                latest_yad_no = latest_yad_no.join(\n",
    "                    yado, how=\"left\", on=\"yad_no\"\n",
    "                )\n",
    "                latest_yad_no = latest_yad_no.rename({'yad_no':'latest_yad_no'})\n",
    "                candidate = latest_yad_no.join(\n",
    "                    candidate, how=\"inner\", on=[\"lrg_cd\", \"fold\"]\n",
    "                )\n",
    "            else:\n",
    "                latest_yad_no = (\n",
    "                    test_log.group_by(\"session_id\")\n",
    "                    .tail(1)\n",
    "                    .select([\"session_id\", \"yad_no\"])\n",
    "                )\n",
    "                latest_yad_no = latest_yad_no.join(\n",
    "                    yado, how=\"left\", on=\"yad_no\"\n",
    "                )\n",
    "                latest_yad_no = latest_yad_no.rename({'yad_no':'latest_yad_no'})\n",
    "                candidate = latest_yad_no.join(\n",
    "                    candidate, how=\"inner\", on=[\"lrg_cd\"]\n",
    "                )\n",
    "            candidate_list[train_test].append(\n",
    "                candidate.select([\"session_id\", \"yad_no\"])\n",
    "            )\n",
    "        # エリア系のやつ\n",
    "        elif \"sml\" in candidate_name:\n",
    "            print(\"sml in candidate_name\")\n",
    "            if train_test == \"train\":\n",
    "                # 最後に見た宿を取得\n",
    "                latest_yad_no = (\n",
    "                    train_log.group_by(\"session_id\")\n",
    "                    .tail(1)\n",
    "                    .select([\"session_id\", \"yad_no\"])\n",
    "                )\n",
    "                # foldを付与\n",
    "                latest_yad_no = latest_yad_no.join(\n",
    "                    label.select([\"session_id\", \"fold\"]),\n",
    "                    how=\"left\",\n",
    "                    on=\"session_id\",\n",
    "                )\n",
    "                latest_yad_no = latest_yad_no.with_columns(\n",
    "                    pl.col(\"fold\").cast(pl.Int32)\n",
    "                )\n",
    "                # yado_dfとマージ\n",
    "                latest_yad_no = latest_yad_no.join(\n",
    "                    yado, how=\"left\", on=\"yad_no\"\n",
    "                )\n",
    "                latest_yad_no = latest_yad_no.rename({'yad_no':'latest_yad_no'})\n",
    "                candidate = latest_yad_no.join(\n",
    "                    candidate, how=\"inner\", on=[\"sml_cd\", \"fold\"]\n",
    "                )\n",
    "            else:\n",
    "                latest_yad_no = (\n",
    "                    test_log.group_by(\"session_id\")\n",
    "                    .tail(1)\n",
    "                    .select([\"session_id\", \"yad_no\"])\n",
    "                )\n",
    "                latest_yad_no = latest_yad_no.join(\n",
    "                    yado, how=\"left\", on=\"yad_no\"\n",
    "                )\n",
    "                latest_yad_no = latest_yad_no.rename({'yad_no':'latest_yad_no'})\n",
    "                candidate = latest_yad_no.join(\n",
    "                    candidate, how=\"inner\", on=[\"sml_cd\"]\n",
    "                )\n",
    "            candidate_list[train_test].append(\n",
    "                candidate.select([\"session_id\", \"yad_no\"])\n",
    "            )       \n",
    "        else:\n",
    "            if train_test == 'train':\n",
    "                if 'fold' in candidate.columns:\n",
    "                    candidate_all = pl.DataFrame()\n",
    "                    for fold in range(CFG.fold_num):\n",
    "                        candidate_fold = train_session_id.filter(pl.col('fold') == fold).join(candidate.filter(pl.col('fold') == fold).select(['yad_no']),how='cross')\n",
    "                        candidate_all = pl.concat([candidate_all,candidate_fold])\n",
    "            else:\n",
    "                candidate_all = test_session_id.join(candidate.select(['yad_no']),how='cross')\n",
    "            candidate_list[train_test].append(candidate_all.select(['session_id','yad_no']))"
   ]
  },
  {
   "cell_type": "code",
   "execution_count": 18,
   "id": "cf98a40d-e266-431c-90eb-3552fd0238b4",
   "metadata": {},
   "outputs": [],
   "source": [
    "train_candidate = pl.concat(candidate_list['train']).unique()\n",
    "test_candidate = pl.concat(candidate_list['test']).unique()"
   ]
  },
  {
   "cell_type": "code",
   "execution_count": 19,
   "id": "7f49a44f-48b2-43d6-9766-9fec190e55e7",
   "metadata": {},
   "outputs": [
    {
     "data": {
      "text/plain": [
       "0"
      ]
     },
     "execution_count": 19,
     "metadata": {},
     "output_type": "execute_result"
    }
   ],
   "source": [
    "del candidate_list\n",
    "gc.collect()"
   ]
  },
  {
   "cell_type": "markdown",
   "id": "9a06fccf-3a25-49f9-883d-b674554d2ec4",
   "metadata": {},
   "source": [
    "### 特徴量作成"
   ]
  },
  {
   "cell_type": "code",
   "execution_count": 20,
   "id": "87bd2955-0d55-4ba4-94c3-4ca4dc9e9757",
   "metadata": {},
   "outputs": [],
   "source": [
    "train_candidate = train_candidate.join(label.rename({'yad_no':'target'}),how='left',on='session_id')\n",
    "train_candidate = train_candidate.with_columns(pl.col('fold').cast(pl.Int32))\n",
    "train_candidate = train_candidate.with_columns((pl.col('yad_no') == pl.col('target')).alias('target').cast(pl.Int8))"
   ]
  },
  {
   "cell_type": "code",
   "execution_count": 21,
   "id": "fefc1e83-bddc-402d-a459-991fb06e1fd9",
   "metadata": {},
   "outputs": [],
   "source": [
    "train_latest_yad_no = train_log.group_by('session_id').tail(1).select(['session_id','yad_no']).rename({'yad_no':'latest_yad_no'})\n",
    "test_latest_yad_no = test_log.group_by('session_id').tail(1).select(['session_id','yad_no']).rename({'yad_no':'latest_yad_no'})"
   ]
  },
  {
   "cell_type": "code",
   "execution_count": 22,
   "id": "1c70d02c-d881-4cd8-b159-d6a9bf978be4",
   "metadata": {},
   "outputs": [],
   "source": [
    "train_candidate = train_candidate.join(train_latest_yad_no,how='left',on='session_id')\n",
    "test_candidate = test_candidate.join(test_latest_yad_no,how='left',on='session_id')"
   ]
  },
  {
   "cell_type": "code",
   "execution_count": 23,
   "id": "9a66fe65-0c0b-413c-8d71-039ab5f4b8b6",
   "metadata": {},
   "outputs": [],
   "source": [
    "feature_name_list = ['latest_next_booking_top20',\n",
    "                     'past_view_yado',\n",
    "                      'top20_popular_yado',\n",
    "                      'top10_wid_popular_yado',\n",
    "                      'top10_ken_popular_yado',\n",
    "                      'top10_lrg_popular_yado',\n",
    "                      'top10_sml_popular_yado']"
   ]
  },
  {
   "cell_type": "code",
   "execution_count": 24,
   "id": "08610f2e-c905-4293-93db-6a9696095cf1",
   "metadata": {},
   "outputs": [
    {
     "name": "stderr",
     "output_type": "stream",
     "text": [
      "100%|██████████| 7/7 [00:01<00:00,  4.65it/s]\n",
      "100%|██████████| 7/7 [00:00<00:00, 11.32it/s]\n"
     ]
    }
   ],
   "source": [
    "for train_test in ['train','test']:\n",
    "    for feature_name in tqdm(feature_name_list):\n",
    "        feature = pl.read_parquet(CFG.path_exp / f\"{train_test}_{feature_name}_feature.parquet\")\n",
    "        if train_test == 'train':\n",
    "            # for fold in range(CFG.fold_num):\n",
    "            if 'session_id' in feature.columns:\n",
    "                train_candidate = train_candidate.join(feature,how='left',on=['session_id','yad_no'])\n",
    "            elif 'latest_yad_no' in feature.columns:\n",
    "                train_candidate = train_candidate.join(feature,how='left',on=['fold','latest_yad_no','yad_no'])\n",
    "            else:\n",
    "                train_candidate = train_candidate.join(feature,how='left',on=['fold','yad_no'])\n",
    "        else:\n",
    "            if 'session_id' in feature.columns:\n",
    "                test_candidate = test_candidate.join(feature,how='left',on=['session_id','yad_no'])\n",
    "            elif 'latest_yad_no' in feature.columns:\n",
    "                test_candidate = test_candidate.join(feature,how='left',on=['latest_yad_no','yad_no'])\n",
    "            else:\n",
    "                test_candidate = test_candidate.join(feature,how='left',on=['yad_no'])"
   ]
  },
  {
   "cell_type": "code",
   "execution_count": 25,
   "id": "f0cc0013-3df3-4b55-9428-d13117c5b0f0",
   "metadata": {},
   "outputs": [],
   "source": [
    "train_candidate = train_candidate.fill_null(0)\n",
    "test_candidate = test_candidate.fill_null(0)"
   ]
  },
  {
   "cell_type": "code",
   "execution_count": 26,
   "id": "58a1d775-ef9d-42d9-98df-74812f58745a",
   "metadata": {},
   "outputs": [],
   "source": [
    "train_candidate = train_candidate.join(yado.select(['yad_no','yad_type','total_room_cnt','wireless_lan_flg','onsen_flg','kd_stn_5min','kd_bch_5min','kd_slp_5min','kd_conv_walk_5min']),how='left',on='yad_no')\n",
    "test_candidate = test_candidate.join(yado.select(['yad_no','yad_type','total_room_cnt','wireless_lan_flg','onsen_flg','kd_stn_5min','kd_bch_5min','kd_slp_5min','kd_conv_walk_5min']),how='left',on='yad_no')"
   ]
  },
  {
   "cell_type": "code",
   "execution_count": 27,
   "metadata": {},
   "outputs": [],
   "source": [
    "for seq in range(8):\n",
    "    seq_yad_no = train_log.filter(pl.col('seq_no') == seq).select(['session_id','yad_no']).rename({'yad_no':f'seq_{seq}_yad_no'})\n",
    "    train_candidate = train_candidate.join(seq_yad_no,how='left',on='session_id')\n",
    "\n",
    "    seq_yad_no = test_log.filter(pl.col('seq_no') == seq).select(['session_id','yad_no']).rename({'yad_no':f'seq_{seq}_yad_no'})\n",
    "    test_candidate = test_candidate.join(seq_yad_no,how='left',on='session_id')"
   ]
  },
  {
   "cell_type": "code",
   "execution_count": 28,
   "id": "dd404678-f068-4fd1-951d-f4f1bc47f2d8",
   "metadata": {},
   "outputs": [],
   "source": [
    "# 特徴量保存\n",
    "train_candidate.write_parquet(CFG.path_exp / \"train_candidate.parquet\")\n",
    "test_candidate.write_parquet(CFG.path_exp / \"test_candidate.parquet\")"
   ]
  },
  {
   "cell_type": "code",
   "execution_count": 30,
   "metadata": {},
   "outputs": [
    {
     "data": {
      "text/plain": [
       "(9630153, 35)"
      ]
     },
     "execution_count": 30,
     "metadata": {},
     "output_type": "execute_result"
    }
   ],
   "source": [
    "train_candidate.shape"
   ]
  },
  {
   "cell_type": "code",
   "execution_count": 29,
   "id": "be3efe20-6311-41c7-9854-10b8c8d5844b",
   "metadata": {},
   "outputs": [
    {
     "data": {
      "text/plain": [
       "0.6509986213967537"
      ]
     },
     "execution_count": 29,
     "metadata": {},
     "output_type": "execute_result"
    }
   ],
   "source": [
    "train_candidate.get_column(\"target\").sum() / len(label)"
   ]
  },
  {
   "cell_type": "markdown",
   "id": "3e26c682-1ac1-44ea-aefd-13c5b6bb6892",
   "metadata": {},
   "source": [
    "## ReRankモデル"
   ]
  },
  {
   "cell_type": "code",
   "execution_count": 31,
   "id": "2ef91027-dc31-487a-b356-7ad71263eaaa",
   "metadata": {},
   "outputs": [],
   "source": [
    "train = pl.read_parquet(CFG.path_exp / \"train_candidate.parquet\")\n",
    "test = pl.read_parquet(CFG.path_exp / \"test_candidate.parquet\")"
   ]
  },
  {
   "cell_type": "code",
   "execution_count": 32,
   "id": "9cf97e5e-07c0-4023-adbb-7bcfaa4627e2",
   "metadata": {},
   "outputs": [],
   "source": [
    "# session_id単位でtarge=1がなければ、session_idごと削除\n",
    "use_session_ids = train.group_by('session_id').agg(pl.col('target').sum()).filter(pl.col('target') == 1)['session_id']"
   ]
  },
  {
   "cell_type": "markdown",
   "id": "9e68de01-ec52-473c-81a3-16faa7d9eb5f",
   "metadata": {},
   "source": [
    "### Lightgbmで学習"
   ]
  },
  {
   "cell_type": "code",
   "execution_count": 33,
   "id": "bad20397-00d2-4a1f-8e3c-d9102f3f90ac",
   "metadata": {},
   "outputs": [
    {
     "name": "stdout",
     "output_type": "stream",
     "text": [
      "[LightGBM] [Warning] Categorical features with more bins than the configured maximum bin number found.\n",
      "[LightGBM] [Warning] For categorical features, max_bin and max_bin_by_feature may be ignored with a large number of categories.\n",
      "[LightGBM] [Info] Number of positive: 150232, number of negative: 4870276\n",
      "[LightGBM] [Info] Auto-choosing row-wise multi-threading, the overhead of testing was 0.119423 seconds.\n",
      "You can set `force_row_wise=true` to remove the overhead.\n",
      "And if memory is not enough, you can set `force_col_wise=true`.\n",
      "[LightGBM] [Info] Total Bins 20931\n",
      "[LightGBM] [Info] Number of data points in the train set: 5020508, number of used features: 32\n",
      "[LightGBM] [Info] [binary:BoostFromScore]: pavg=0.029924 -> initscore=-3.478725\n",
      "[LightGBM] [Info] Start training from score -3.478725\n",
      "Training until validation scores don't improve for 200 rounds\n",
      "Early stopping, best iteration is:\n",
      "[738]\ttrain's auc: 0.976152\tvalid's auc: 0.915616\n",
      "[LightGBM] [Warning] Categorical features with more bins than the configured maximum bin number found.\n",
      "[LightGBM] [Warning] For categorical features, max_bin and max_bin_by_feature may be ignored with a large number of categories.\n",
      "[LightGBM] [Info] Number of positive: 150409, number of negative: 4876760\n",
      "[LightGBM] [Info] Auto-choosing row-wise multi-threading, the overhead of testing was 0.138505 seconds.\n",
      "You can set `force_row_wise=true` to remove the overhead.\n",
      "And if memory is not enough, you can set `force_col_wise=true`.\n",
      "[LightGBM] [Info] Total Bins 20978\n",
      "[LightGBM] [Info] Number of data points in the train set: 5027169, number of used features: 32\n",
      "[LightGBM] [Info] [binary:BoostFromScore]: pavg=0.029919 -> initscore=-3.478878\n",
      "[LightGBM] [Info] Start training from score -3.478878\n",
      "Training until validation scores don't improve for 200 rounds\n",
      "Early stopping, best iteration is:\n",
      "[676]\ttrain's auc: 0.975188\tvalid's auc: 0.914618\n",
      "[LightGBM] [Warning] Categorical features with more bins than the configured maximum bin number found.\n",
      "[LightGBM] [Warning] For categorical features, max_bin and max_bin_by_feature may be ignored with a large number of categories.\n",
      "[LightGBM] [Info] Number of positive: 150229, number of negative: 4876527\n",
      "[LightGBM] [Info] Auto-choosing row-wise multi-threading, the overhead of testing was 0.128168 seconds.\n",
      "You can set `force_row_wise=true` to remove the overhead.\n",
      "And if memory is not enough, you can set `force_col_wise=true`.\n",
      "[LightGBM] [Info] Total Bins 20907\n",
      "[LightGBM] [Info] Number of data points in the train set: 5026756, number of used features: 32\n",
      "[LightGBM] [Info] [binary:BoostFromScore]: pavg=0.029886 -> initscore=-3.480028\n",
      "[LightGBM] [Info] Start training from score -3.480028\n",
      "Training until validation scores don't improve for 200 rounds\n",
      "Early stopping, best iteration is:\n",
      "[442]\ttrain's auc: 0.968008\tvalid's auc: 0.915073\n",
      "[LightGBM] [Warning] Categorical features with more bins than the configured maximum bin number found.\n",
      "[LightGBM] [Warning] For categorical features, max_bin and max_bin_by_feature may be ignored with a large number of categories.\n",
      "[LightGBM] [Info] Number of positive: 150430, number of negative: 4879781\n",
      "[LightGBM] [Info] Auto-choosing row-wise multi-threading, the overhead of testing was 0.120044 seconds.\n",
      "You can set `force_row_wise=true` to remove the overhead.\n",
      "And if memory is not enough, you can set `force_col_wise=true`.\n",
      "[LightGBM] [Info] Total Bins 21035\n",
      "[LightGBM] [Info] Number of data points in the train set: 5030211, number of used features: 32\n",
      "[LightGBM] [Info] [binary:BoostFromScore]: pavg=0.029905 -> initscore=-3.479358\n",
      "[LightGBM] [Info] Start training from score -3.479358\n",
      "Training until validation scores don't improve for 200 rounds\n"
     ]
    },
    {
     "ename": "KeyboardInterrupt",
     "evalue": "",
     "output_type": "error",
     "traceback": [
      "\u001b[0;31m---------------------------------------------------------------------------\u001b[0m",
      "\u001b[0;31mKeyboardInterrupt\u001b[0m                         Traceback (most recent call last)",
      "\u001b[1;32m/Users/tomoyayanagi/python/atmacup16/notebook/exp013.ipynb セル 40\u001b[0m line \u001b[0;36m2\n\u001b[1;32m     <a href='vscode-notebook-cell:/Users/tomoyayanagi/python/atmacup16/notebook/exp013.ipynb#X53sZmlsZQ%3D%3D?line=25'>26</a>\u001b[0m lgb_train \u001b[39m=\u001b[39m lgb\u001b[39m.\u001b[39mDataset(X_train, Y_train)\n\u001b[1;32m     <a href='vscode-notebook-cell:/Users/tomoyayanagi/python/atmacup16/notebook/exp013.ipynb#X53sZmlsZQ%3D%3D?line=26'>27</a>\u001b[0m lgb_valid \u001b[39m=\u001b[39m lgb\u001b[39m.\u001b[39mDataset(X_valid, Y_valid)\n\u001b[0;32m---> <a href='vscode-notebook-cell:/Users/tomoyayanagi/python/atmacup16/notebook/exp013.ipynb#X53sZmlsZQ%3D%3D?line=27'>28</a>\u001b[0m lgb_model \u001b[39m=\u001b[39m lgb\u001b[39m.\u001b[39;49mtrain(lgbm_params,\n\u001b[1;32m     <a href='vscode-notebook-cell:/Users/tomoyayanagi/python/atmacup16/notebook/exp013.ipynb#X53sZmlsZQ%3D%3D?line=28'>29</a>\u001b[0m                   lgb_train,\n\u001b[1;32m     <a href='vscode-notebook-cell:/Users/tomoyayanagi/python/atmacup16/notebook/exp013.ipynb#X53sZmlsZQ%3D%3D?line=29'>30</a>\u001b[0m                   valid_sets\u001b[39m=\u001b[39;49m[lgb_train, lgb_valid], \n\u001b[1;32m     <a href='vscode-notebook-cell:/Users/tomoyayanagi/python/atmacup16/notebook/exp013.ipynb#X53sZmlsZQ%3D%3D?line=30'>31</a>\u001b[0m                   valid_names\u001b[39m=\u001b[39;49m[\u001b[39m'\u001b[39;49m\u001b[39mtrain\u001b[39;49m\u001b[39m'\u001b[39;49m, \u001b[39m'\u001b[39;49m\u001b[39mvalid\u001b[39;49m\u001b[39m'\u001b[39;49m],\n\u001b[1;32m     <a href='vscode-notebook-cell:/Users/tomoyayanagi/python/atmacup16/notebook/exp013.ipynb#X53sZmlsZQ%3D%3D?line=31'>32</a>\u001b[0m                   callbacks\u001b[39m=\u001b[39;49m[lgb\u001b[39m.\u001b[39;49mearly_stopping(\u001b[39m200\u001b[39;49m), lgb\u001b[39m.\u001b[39;49mlog_evaluation(\u001b[39m1000\u001b[39;49m)],\n\u001b[1;32m     <a href='vscode-notebook-cell:/Users/tomoyayanagi/python/atmacup16/notebook/exp013.ipynb#X53sZmlsZQ%3D%3D?line=32'>33</a>\u001b[0m                   \u001b[39m*\u001b[39;49m\u001b[39m*\u001b[39;49mCFG\u001b[39m.\u001b[39;49mlgb_train_params\n\u001b[1;32m     <a href='vscode-notebook-cell:/Users/tomoyayanagi/python/atmacup16/notebook/exp013.ipynb#X53sZmlsZQ%3D%3D?line=33'>34</a>\u001b[0m                 )\n\u001b[1;32m     <a href='vscode-notebook-cell:/Users/tomoyayanagi/python/atmacup16/notebook/exp013.ipynb#X53sZmlsZQ%3D%3D?line=35'>36</a>\u001b[0m lgb_model_list\u001b[39m.\u001b[39mappend(lgb_model)\n\u001b[1;32m     <a href='vscode-notebook-cell:/Users/tomoyayanagi/python/atmacup16/notebook/exp013.ipynb#X53sZmlsZQ%3D%3D?line=37'>38</a>\u001b[0m \u001b[39mdel\u001b[39;00m X_train,Y_train,X_valid,Y_valid,lgb_train,lgb_valid\n",
      "File \u001b[0;32m~/python/atmacup16/.venv/lib/python3.10/site-packages/lightgbm/engine.py:282\u001b[0m, in \u001b[0;36mtrain\u001b[0;34m(params, train_set, num_boost_round, valid_sets, valid_names, feval, init_model, feature_name, categorical_feature, keep_training_booster, callbacks)\u001b[0m\n\u001b[1;32m    280\u001b[0m \u001b[39mif\u001b[39;00m valid_sets \u001b[39mis\u001b[39;00m \u001b[39mnot\u001b[39;00m \u001b[39mNone\u001b[39;00m:\n\u001b[1;32m    281\u001b[0m     \u001b[39mif\u001b[39;00m is_valid_contain_train:\n\u001b[0;32m--> 282\u001b[0m         evaluation_result_list\u001b[39m.\u001b[39mextend(booster\u001b[39m.\u001b[39;49meval_train(feval))\n\u001b[1;32m    283\u001b[0m     evaluation_result_list\u001b[39m.\u001b[39mextend(booster\u001b[39m.\u001b[39meval_valid(feval))\n\u001b[1;32m    284\u001b[0m \u001b[39mtry\u001b[39;00m:\n",
      "File \u001b[0;32m~/python/atmacup16/.venv/lib/python3.10/site-packages/lightgbm/basic.py:3892\u001b[0m, in \u001b[0;36mBooster.eval_train\u001b[0;34m(self, feval)\u001b[0m\n\u001b[1;32m   3860\u001b[0m \u001b[39mdef\u001b[39;00m \u001b[39meval_train\u001b[39m(\n\u001b[1;32m   3861\u001b[0m     \u001b[39mself\u001b[39m,\n\u001b[1;32m   3862\u001b[0m     feval: Optional[Union[_LGBM_CustomEvalFunction, List[_LGBM_CustomEvalFunction]]] \u001b[39m=\u001b[39m \u001b[39mNone\u001b[39;00m\n\u001b[1;32m   3863\u001b[0m ) \u001b[39m-\u001b[39m\u001b[39m>\u001b[39m List[_LGBM_BoosterEvalMethodResultType]:\n\u001b[1;32m   3864\u001b[0m \u001b[39m    \u001b[39m\u001b[39m\"\"\"Evaluate for training data.\u001b[39;00m\n\u001b[1;32m   3865\u001b[0m \n\u001b[1;32m   3866\u001b[0m \u001b[39m    Parameters\u001b[39;00m\n\u001b[0;32m   (...)\u001b[0m\n\u001b[1;32m   3890\u001b[0m \u001b[39m        List with (train_dataset_name, eval_name, eval_result, is_higher_better) tuples.\u001b[39;00m\n\u001b[1;32m   3891\u001b[0m \u001b[39m    \"\"\"\u001b[39;00m\n\u001b[0;32m-> 3892\u001b[0m     \u001b[39mreturn\u001b[39;00m \u001b[39mself\u001b[39;49m\u001b[39m.\u001b[39;49m__inner_eval(\u001b[39mself\u001b[39;49m\u001b[39m.\u001b[39;49m_train_data_name, \u001b[39m0\u001b[39;49m, feval)\n",
      "File \u001b[0;32m~/python/atmacup16/.venv/lib/python3.10/site-packages/lightgbm/basic.py:4615\u001b[0m, in \u001b[0;36mBooster.__inner_eval\u001b[0;34m(self, data_name, data_idx, feval)\u001b[0m\n\u001b[1;32m   4613\u001b[0m result \u001b[39m=\u001b[39m np\u001b[39m.\u001b[39mempty(\u001b[39mself\u001b[39m\u001b[39m.\u001b[39m__num_inner_eval, dtype\u001b[39m=\u001b[39mnp\u001b[39m.\u001b[39mfloat64)\n\u001b[1;32m   4614\u001b[0m tmp_out_len \u001b[39m=\u001b[39m ctypes\u001b[39m.\u001b[39mc_int(\u001b[39m0\u001b[39m)\n\u001b[0;32m-> 4615\u001b[0m _safe_call(_LIB\u001b[39m.\u001b[39;49mLGBM_BoosterGetEval(\n\u001b[1;32m   4616\u001b[0m     \u001b[39mself\u001b[39;49m\u001b[39m.\u001b[39;49m_handle,\n\u001b[1;32m   4617\u001b[0m     ctypes\u001b[39m.\u001b[39;49mc_int(data_idx),\n\u001b[1;32m   4618\u001b[0m     ctypes\u001b[39m.\u001b[39;49mbyref(tmp_out_len),\n\u001b[1;32m   4619\u001b[0m     result\u001b[39m.\u001b[39;49mctypes\u001b[39m.\u001b[39;49mdata_as(ctypes\u001b[39m.\u001b[39;49mPOINTER(ctypes\u001b[39m.\u001b[39;49mc_double))))\n\u001b[1;32m   4620\u001b[0m \u001b[39mif\u001b[39;00m tmp_out_len\u001b[39m.\u001b[39mvalue \u001b[39m!=\u001b[39m \u001b[39mself\u001b[39m\u001b[39m.\u001b[39m__num_inner_eval:\n\u001b[1;32m   4621\u001b[0m     \u001b[39mraise\u001b[39;00m \u001b[39mValueError\u001b[39;00m(\u001b[39m\"\u001b[39m\u001b[39mWrong length of eval results\u001b[39m\u001b[39m\"\u001b[39m)\n",
      "\u001b[0;31mKeyboardInterrupt\u001b[0m: "
     ]
    }
   ],
   "source": [
    "# Lightgbmで学習\n",
    "lgbm_params = {\n",
    "        'objective': 'binary',\n",
    "        'metric': 'auc',\n",
    "        'boosting_type' : 'gbdt',\n",
    "        'seed' : CFG.seed,\n",
    "        'learning_rate': 0.2, \n",
    "}\n",
    "\n",
    "lgb_model_list = []\n",
    "pred = np.zeros(len(test))\n",
    "for fold in range(CFG.fold_num):\n",
    "    X_train = train.filter((pl.col('session_id').is_in(use_session_ids)) & (pl.col('fold') != fold)).drop(['fold','target','session_id'])\n",
    "    Y_train = train.filter((pl.col('session_id').is_in(use_session_ids)) & (pl.col('fold') != fold))['target'].to_numpy()\n",
    "    X_valid = train.filter((pl.col('session_id').is_in(use_session_ids)) & (pl.col('fold') == fold)).drop(['fold','target','session_id'])\n",
    "    Y_valid = train.filter((pl.col('session_id').is_in(use_session_ids)) & (pl.col('fold') == fold))['target'].to_numpy()\n",
    "\n",
    "\n",
    "    # pandasの方が扱いやすいので変換\n",
    "    X_train = X_train.to_pandas()\n",
    "    X_valid = X_valid.to_pandas()\n",
    "    for feature in CFG.cat_features:\n",
    "        X_train[feature] = X_train[feature].astype('category')\n",
    "        X_valid[feature] = X_valid[feature].astype('category')\n",
    "\n",
    "    lgb_train = lgb.Dataset(X_train, Y_train)\n",
    "    lgb_valid = lgb.Dataset(X_valid, Y_valid)\n",
    "    lgb_model = lgb.train(lgbm_params,\n",
    "                      lgb_train,\n",
    "                      valid_sets=[lgb_train, lgb_valid], \n",
    "                      valid_names=['train', 'valid'],\n",
    "                      callbacks=[lgb.early_stopping(200), lgb.log_evaluation(1000)],\n",
    "                      **CFG.lgb_train_params\n",
    "                    )\n",
    "\n",
    "    lgb_model_list.append(lgb_model)\n",
    "\n",
    "    del X_train,Y_train,X_valid,Y_valid,lgb_train,lgb_valid\n",
    "    gc.collect()"
   ]
  },
  {
   "cell_type": "markdown",
   "id": "5951bc22-4b0c-45d9-9277-84f944d1884b",
   "metadata": {},
   "source": [
    "### 推論"
   ]
  },
  {
   "cell_type": "code",
   "execution_count": 45,
   "id": "54dcc223-6d2c-4b91-93ff-7b745418ed34",
   "metadata": {},
   "outputs": [],
   "source": [
    "def apk(actual, predicted, k=10):\n",
    "    \"\"\"\n",
    "    Computes the average precision at k for a single actual value.\n",
    "\n",
    "    Parameters:\n",
    "    actual : int\n",
    "        The actual value that is to be predicted\n",
    "    predicted : list\n",
    "        A list of predicted elements (order does matter)\n",
    "    k : int, optional\n",
    "        The maximum number of predicted elements\n",
    "\n",
    "    Returns:\n",
    "    float\n",
    "        The average precision at k\n",
    "    \"\"\"\n",
    "    if actual in predicted[:k]:\n",
    "        return 1.0 / (predicted[:k].index(actual) + 1)\n",
    "    return 0.0\n",
    "\n",
    "def mapk(actual, predicted, k=10):\n",
    "    \"\"\"\n",
    "    Computes the mean average precision at k for lists of actual values and predicted values.\n",
    "\n",
    "    Parameters:\n",
    "    actual : list\n",
    "        A list of actual values that are to be predicted\n",
    "    predicted : list\n",
    "        A list of lists of predicted elements (order does matter in the lists)\n",
    "    k : int, optional\n",
    "        The maximum number of predicted elements\n",
    "\n",
    "    Returns:\n",
    "    float\n",
    "        The mean average precision at k\n",
    "    \"\"\"\n",
    "    return sum(apk(a, p, k) for a, p in zip(actual, predicted)) / len(actual)"
   ]
  },
  {
   "cell_type": "code",
   "execution_count": 46,
   "id": "ff113439-a9a1-45ba-918b-0f105c1bcc99",
   "metadata": {},
   "outputs": [],
   "source": [
    "def create_top_10_yad_predict(_df):\n",
    "\n",
    "    # セッションごとに予測確率の高い順に yad_no の配列を作成\n",
    "    _agg = _df.sort_values(\"predict\", ascending=False).groupby(\"session_id\")[\"yad_no\"].apply(list)\n",
    "\n",
    "    out_df = pd.DataFrame(index=_agg.index, data=_agg.values.tolist()).iloc[:, :10]\n",
    "\n",
    "    return out_df"
   ]
  },
  {
   "cell_type": "code",
   "execution_count": 47,
   "id": "9b6023ad-6388-45df-bd44-b5a182784032",
   "metadata": {},
   "outputs": [],
   "source": [
    "oof = pd.DataFrame()\n",
    "test = test.with_columns(pl.lit(0).alias('predict'))\n",
    "X_test = test.drop(['session_id'])\n",
    "X_test = X_test.to_pandas()\n",
    "for feature in CFG.cat_features:\n",
    "    X_test[feature] = X_test[feature].astype('category')\n",
    "\n",
    "for fold in range(CFG.fold_num):\n",
    "    X_valid = train.filter((pl.col('fold') == fold)).drop(['fold','target','session_id'])\n",
    "    Y_valid = train.filter((pl.col('fold') == fold))['target'].to_numpy()\n",
    "\n",
    "    # pandasの方が扱いやすいので変換\n",
    "    X_valid = X_valid.to_pandas()\n",
    "    for feature in CFG.cat_features:\n",
    "        X_valid[feature] = X_valid[feature].astype('category')\n",
    "\n",
    "    X_valid['predict'] = lgb_model_list[fold].predict(X_valid)\n",
    "    X_valid['session_id'] = train.filter((pl.col('fold') == fold))['session_id'].to_numpy()\n",
    "    X_test['predict'] += lgb_model_list[fold].predict(X_test.drop('predict',axis=1))/CFG.fold_num\n",
    "    oof = pd.concat([oof,X_valid[['session_id','predict','yad_no']]])\n",
    "X_test['session_id'] = test['session_id'].to_numpy()"
   ]
  },
  {
   "cell_type": "code",
   "execution_count": 48,
   "id": "403068a8-2d79-4c7e-95af-95d1049f972a",
   "metadata": {},
   "outputs": [],
   "source": [
    "oof = oof.sort_values(['session_id','predict'],ascending=False)\n",
    "oof_ = create_top_10_yad_predict(oof)"
   ]
  },
  {
   "cell_type": "code",
   "execution_count": 50,
   "id": "3c270283-0b6b-49f8-ba72-6fc3ada1b120",
   "metadata": {},
   "outputs": [
    {
     "data": {
      "text/plain": [
       "0.3563668113886093"
      ]
     },
     "execution_count": 50,
     "metadata": {},
     "output_type": "execute_result"
    }
   ],
   "source": [
    "label = pd.read_csv(CFG.path_input / \"train_label.csv\")\n",
    "\n",
    "mapk(actual=label[label['session_id'].isin(oof_.reset_index()['session_id'])].sort_values('session_id',ascending=True)['yad_no'].to_list(),\n",
    "     predicted=oof_.values.tolist(), k=10)"
   ]
  },
  {
   "cell_type": "code",
   "execution_count": 51,
   "id": "e3f53b52-a800-4f37-a5ef-bfa96f9b9cd1",
   "metadata": {},
   "outputs": [],
   "source": [
    "# CV = 0.35497319410061673"
   ]
  },
  {
   "cell_type": "code",
   "execution_count": 52,
   "id": "565087e0-a628-4fa6-8ba4-b4d6241b11ad",
   "metadata": {},
   "outputs": [],
   "source": [
    "sub = create_top_10_yad_predict(X_test)\n",
    "sub.columns = [f'predict_{c}' for c in sub.columns]\n",
    "sub = sub.reset_index(drop=True)"
   ]
  },
  {
   "cell_type": "code",
   "execution_count": 53,
   "id": "44aedbee-c2bb-46ae-936a-b7e702e1a085",
   "metadata": {},
   "outputs": [],
   "source": [
    "sub.to_csv(CFG.path_exp / \"submission.csv\", index=False)"
   ]
  },
  {
   "cell_type": "markdown",
   "id": "d1c84551-da55-43d1-931b-fd442c86934e",
   "metadata": {},
   "source": [
    "## 所感"
   ]
  },
  {
   "cell_type": "markdown",
   "id": "f356d71b-e31c-48a8-b395-7ee158744cde",
   "metadata": {},
   "source": [
    "- session_idに対してtarget=1は1つしかないので、むやみにcanidateを増やしても効果薄そう。(session_idに対して20~30個くらいがベスト？)\n",
    "- まだバグあるかもしれない。"
   ]
  },
  {
   "cell_type": "markdown",
   "id": "6249366e-f7dc-4b1c-9355-7127e14afe8e",
   "metadata": {},
   "source": [
    "## まだやれそうなこと"
   ]
  },
  {
   "cell_type": "markdown",
   "id": "0084e41b-01c4-4bc5-907d-fe8c11968337",
   "metadata": {},
   "source": [
    "#### candidate\n",
    "- item2vec\n",
    "- TOP_NのNを変えてみる。\n",
    "- 過去に見たarea情報から行きたいareaを特定する。\n",
    "\n",
    "#### 特徴量\n",
    "- 各エリアを何回見たか。\n",
    "- 似たseesionの情報\n",
    "\n",
    "#### モデル\n",
    "- xgboost/catboostを試す。\n",
    "- アンサンブル"
   ]
  }
 ],
 "metadata": {
  "kernelspec": {
   "display_name": "Python 3 (ipykernel)",
   "language": "python",
   "name": "python3"
  },
  "language_info": {
   "codemirror_mode": {
    "name": "ipython",
    "version": 3
   },
   "file_extension": ".py",
   "mimetype": "text/x-python",
   "name": "python",
   "nbconvert_exporter": "python",
   "pygments_lexer": "ipython3",
   "version": "3.10.10"
  }
 },
 "nbformat": 4,
 "nbformat_minor": 5
}
