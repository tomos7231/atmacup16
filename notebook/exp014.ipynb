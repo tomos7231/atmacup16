{
 "cells": [
  {
   "cell_type": "markdown",
   "id": "8ffcbca7-9bb9-481a-a706-0fe03bb82b1a",
   "metadata": {},
   "source": [
    "## Candidate"
   ]
  },
  {
   "cell_type": "code",
   "execution_count": 1,
   "id": "2cb332ae-69a7-4107-ac1d-664325a35cd2",
   "metadata": {},
   "outputs": [],
   "source": [
    "import os\n",
    "from tqdm import tqdm\n",
    "import gc\n",
    "import polars as pl\n",
    "import numpy as np\n",
    "import pandas as pd\n",
    "from pathlib import Path\n",
    "import matplotlib.pyplot as plt\n",
    "from sklearn.model_selection import GroupKFold,KFold\n",
    "import lightgbm as lgb"
   ]
  },
  {
   "cell_type": "code",
   "execution_count": 2,
   "id": "38fc5071-c443-4c36-93ee-b0ec7f60c835",
   "metadata": {},
   "outputs": [],
   "source": [
    "class CFG:\n",
    "    name = \"exp014\"\n",
    "\n",
    "    path_input = Path(\"../input\")\n",
    "    path_output = Path(\"../output\")\n",
    "    seed = 127\n",
    "    fold_num = 5\n",
    "\n",
    "    cat_features = ['yad_no','latest_yad_no','wid_cd','ken_cd','lrg_cd','sml_cd']\n",
    "\n",
    "    lgb_train_params = {\n",
    "        \"num_boost_round\": 999999,\n",
    "    }\n",
    "\n",
    "CFG.path_exp = CFG.path_output / CFG.name\n",
    "CFG.path_exp.mkdir(parents=True, exist_ok=True)"
   ]
  },
  {
   "cell_type": "code",
   "execution_count": 3,
   "id": "4cfca792-e1d3-4045-86cf-1e571f14bedd",
   "metadata": {},
   "outputs": [],
   "source": [
    "train_log = pl.read_csv(CFG.path_input / \"train_log.csv\")\n",
    "label = pl.read_csv(CFG.path_input / \"train_label.csv\")\n",
    "test_log = pl.read_csv(CFG.path_input / \"test_log.csv\")\n",
    "yado = pl.read_csv(CFG.path_input / \"yado.csv\")\n",
    "yado_embedding = pl.read_parquet(CFG.path_input / \"image_embeddings.parquet\")"
   ]
  },
  {
   "cell_type": "code",
   "execution_count": 4,
   "id": "988d7547-a231-4e67-827b-d129b6b04d5c",
   "metadata": {},
   "outputs": [],
   "source": [
    "# Group Kfold, labelにfold情報を付けておく。\n",
    "kf = KFold(n_splits=CFG.fold_num,shuffle=True,random_state=CFG.seed)\n",
    "fold_assignments = np.full(label.height, -1, dtype=int)\n",
    "for i, (_, valid_index) in enumerate(kf.split(label)):\n",
    "    fold_assignments[valid_index] = i\n",
    "label = label.with_columns(pl.Series(\"fold\", fold_assignments))"
   ]
  },
  {
   "cell_type": "code",
   "execution_count": 5,
   "id": "5c3e999f-9d6c-4c48-b120-b2233d63e303",
   "metadata": {},
   "outputs": [],
   "source": [
    "def create_past_view_yado_candidates(log):\n",
    "    \"\"\"\n",
    "    アクセスした宿をcandidateとして作成。ただし、直近の宿は予約しないので除外する。\n",
    "    \"\"\"\n",
    "    max_seq_no = log.group_by(\"session_id\").agg(pl.max(\"seq_no\").alias(\"max_seq_no\"))\n",
    "    log = log.join(max_seq_no, on=\"session_id\")\n",
    "    # 最大値に該当する行を除外する\n",
    "    past_yado_candidates = log.filter(pl.col(\"seq_no\") != pl.col(\"max_seq_no\"))\n",
    "    past_yado_candidates = past_yado_candidates.select(['session_id','yad_no']).unique()\n",
    "\n",
    "    # 簡易的な特徴量も作成しておく。\n",
    "    # 何個前に見たか 複数回見た時は、直近のみ残す。\n",
    "    past_yado_feature = log.with_columns((pl.col('max_seq_no') - pl.col('seq_no')).alias('max_seq_no_diff')).filter(pl.col(\"seq_no\") != pl.col(\"max_seq_no\"))\n",
    "    past_yado_feature = past_yado_feature.join(past_yado_feature.group_by([\"session_id\", \"yad_no\"]).agg(pl.col(\"max_seq_no_diff\").max().alias(\"max_seq_no_diff\")), on=[\"session_id\", \"yad_no\", \"max_seq_no_diff\"])\n",
    "    # 何回見たか\n",
    "    session_view_count = log.group_by(['session_id','yad_no']).count().rename({'count':'session_view_count'})\n",
    "    past_yado_feature = past_yado_feature.join(session_view_count,how='left',on=['session_id','yad_no']).drop('seq_no')\n",
    "    \n",
    "    return past_yado_candidates,past_yado_feature"
   ]
  },
  {
   "cell_type": "code",
   "execution_count": 6,
   "id": "ead4fa42-74c1-404e-aa5f-da4b3de1eaef",
   "metadata": {},
   "outputs": [],
   "source": [
    "def create_topN_popular_yado_candidates(label,train_test='train',top=10):\n",
    "    \"\"\"\n",
    "    予約された人気宿をcandidateとして作成。train/validでリークしないように注意。\n",
    "    \"\"\"\n",
    "    # labelデータを使うので、学習データはtrain/validで分割して作成。\n",
    "    top10_yado_candidate = pl.DataFrame()\n",
    "    popular_yado_feature = pl.DataFrame()\n",
    "    if train_test == 'train':\n",
    "        for fold in range(CFG.fold_num):\n",
    "            train_label = label.filter(pl.col('fold') != fold)\n",
    "            popular_yado_sort = train_label['yad_no'].value_counts().sort(by='counts',descending=True)\n",
    "\n",
    "            # candidateの作成\n",
    "            top10_yado_candidate_fold = popular_yado_sort.head(top).with_columns(pl.lit(fold).alias('fold')).select(['yad_no','fold'])\n",
    "            top10_yado_candidate = pl.concat([top10_yado_candidate,top10_yado_candidate_fold])\n",
    "\n",
    "            # 簡易的な特徴量も作成しておく。\n",
    "            popular_yado_feature_fold = popular_yado_sort.with_columns(pl.lit(fold).alias('fold'))\n",
    "            popular_yado_feature_fold = popular_yado_feature_fold.with_columns(pl.arange(1,len(popular_yado_sort)+1).alias('popular_rank'))\n",
    "            popular_yado_feature = pl.concat([popular_yado_feature,popular_yado_feature_fold])\n",
    "    else: # testデータはtrainデータ全体で作成する。\n",
    "        # candidateの作成\n",
    "        popular_yado_sort = label['yad_no'].value_counts().sort(by='counts',descending=True)\n",
    "        top10_yado_candidate = popular_yado_sort.head(top).select(['yad_no'])\n",
    "\n",
    "        # 簡易的な特徴量も作成しておく。\n",
    "        popular_yado_feature = popular_yado_sort.with_columns(pl.arange(1,len(popular_yado_sort)+1).alias('popular_rank'))\n",
    "\n",
    "    popular_yado_feature = popular_yado_feature.rename({'counts':'reservation_counts'})\n",
    "    \n",
    "    return top10_yado_candidate,popular_yado_feature"
   ]
  },
  {
   "cell_type": "code",
   "execution_count": 7,
   "id": "5051c13c-5ec6-42c9-a6c0-8d02b8428a19",
   "metadata": {},
   "outputs": [],
   "source": [
    "def create_topN_area_popular_yado_candidates(label,yado,train_test='train',area='wid_cd',top=10):\n",
    "    \"\"\"\n",
    "    エリア単位で予約された人気宿をcandidateとして作成。train/validでリークしないように注意。\n",
    "    \"\"\"\n",
    "    label_yado = label.join(yado,how='left',on='yad_no')\n",
    "    # labelデータを使うので、学習データはtrain/validで分割して作成。\n",
    "    top10_yado_area_candidate = pl.DataFrame()\n",
    "    popular_yado_area_feature = pl.DataFrame()\n",
    "    if train_test == 'train':\n",
    "        for fold in range(CFG.fold_num):\n",
    "            train_label = label_yado.filter(pl.col('fold') != fold)\n",
    "            popular_yado_sort = train_label.group_by([area,'yad_no']).count().sort(by=[area,'count'],descending=[False,True])\n",
    "\n",
    "            # candidateの作成\n",
    "            top10_yado_area_candidate_fold = popular_yado_sort.group_by(area).head(top).with_columns(pl.lit(fold).alias('fold')).select([area,'yad_no','fold'])\n",
    "            top10_yado_area_candidate = pl.concat([top10_yado_area_candidate,top10_yado_area_candidate_fold])\n",
    "\n",
    "            # 簡易的な特徴量も作成しておく。\n",
    "            popular_yado_area_feature_fold = popular_yado_sort.with_columns(pl.lit(fold).alias('fold'))\n",
    "            popular_yado_area_feature_fold = (popular_yado_area_feature_fold\n",
    "                                            .group_by(area)\n",
    "                                            .map_groups(lambda group: group.with_columns(pl.col('count').rank(method='dense',descending=True).over(area).alias(f'popular_{area}_rank'))))\n",
    "            popular_yado_area_feature = pl.concat([popular_yado_area_feature,popular_yado_area_feature_fold])\n",
    "            \n",
    "    else: # testデータはtrainデータ全体で作成する。\n",
    "        # candidateの作成\n",
    "        popular_yado_sort = label_yado.group_by([area,'yad_no']).count().sort(by=[area,'count'],descending=[False,True])\n",
    "        top10_yado_area_candidate = popular_yado_sort.group_by(area).head(top).select([area,'yad_no'])\n",
    "        \n",
    "        # 簡易的な特徴量も作成しておく。\n",
    "        popular_yado_area_feature = (popular_yado_sort\n",
    "                                    .group_by(area)\n",
    "                                    .map_groups(lambda group: group.with_columns(pl.col('count').rank(method='dense',descending=True).over(area).alias(f'popular_{area}_rank'))))\n",
    "\n",
    "    popular_yado_area_feature = popular_yado_area_feature.drop('count')\n",
    "    \n",
    "    return top10_yado_area_candidate,popular_yado_area_feature"
   ]
  },
  {
   "cell_type": "code",
   "execution_count": 8,
   "id": "45716ff6-4d12-445d-a84d-c67045cd936d",
   "metadata": {},
   "outputs": [],
   "source": [
    "def create_latest_next_booking_tonN_candidate(log,label,train_test='train',top=10):\n",
    "    \"\"\"\n",
    "    直近見た宿で、次にどこを予約しやすいか。\n",
    "    \"\"\"\n",
    "    log_latest = train_log.group_by('session_id').tail(1)\n",
    "    log_latest = log_latest.rename({'yad_no':'latest_yad_no'})\n",
    "    log_latest = log_latest.join(label,how='left',on='session_id')\n",
    "\n",
    "    # labelデータを使うので、学習データはtrain/validで分割して作成。\n",
    "    latest_next_booking_tonN_candidate = pl.DataFrame()\n",
    "    latest_next_booking_tonN_feature = pl.DataFrame()\n",
    "    if train_test == 'train':\n",
    "        for fold in range(CFG.fold_num):\n",
    "            train_log_latest = log_latest.filter(pl.col('fold') != fold)\n",
    "            train_log_latest = train_log_latest.group_by(['latest_yad_no','yad_no']).count().sort(by=['latest_yad_no','count'],descending=[False,True])\n",
    "    \n",
    "            # candidateの作成\n",
    "            latest_next_booking_tonN_candidate_fold = train_log_latest.group_by('latest_yad_no').head(top).with_columns(pl.lit(fold).alias('fold')).select(['yad_no','latest_yad_no','fold'])\n",
    "            latest_next_booking_tonN_candidate = pl.concat([latest_next_booking_tonN_candidate,latest_next_booking_tonN_candidate_fold])\n",
    "    \n",
    "            # 簡易的な特徴量も作成しておく。\n",
    "            latest_next_booking_tonN_feature_fold = train_log_latest.with_columns(pl.lit(fold).alias('fold'))\n",
    "            latest_next_booking_tonN_feature_fold = (latest_next_booking_tonN_feature_fold\n",
    "                                                    .group_by('latest_yad_no')\n",
    "                                                    .map_groups(lambda group: group.with_columns(pl.col('count').rank(method='dense',descending=True).over('latest_yad_no').alias(f'latest_next_booking_rank'))))\n",
    "            latest_next_booking_tonN_feature = pl.concat([latest_next_booking_tonN_feature,latest_next_booking_tonN_feature_fold])\n",
    "    else:\n",
    "        log_latest = log_latest.group_by(['latest_yad_no','yad_no']).count().sort(by=['latest_yad_no','count'],descending=[False,True])\n",
    "\n",
    "        # candidateの作成\n",
    "        latest_next_booking_tonN_candidate = log_latest.group_by('latest_yad_no').head(top).select(['yad_no','latest_yad_no'])\n",
    "\n",
    "        # 簡易的な特徴量も作成しておく。\n",
    "        latest_next_booking_tonN_feature = (log_latest\n",
    "                                                    .group_by('latest_yad_no')\n",
    "                                                    .map_groups(lambda group: group.with_columns(pl.col('count').rank(method='dense',descending=True).over('latest_yad_no').alias(f'latest_next_booking_rank'))))\n",
    "    latest_next_booking_tonN_feature = latest_next_booking_tonN_feature.drop('count')\n",
    "    return latest_next_booking_tonN_candidate,latest_next_booking_tonN_feature"
   ]
  },
  {
   "cell_type": "code",
   "execution_count": 9,
   "id": "8485a915-80ec-4d4b-a072-e74e4bd69f98",
   "metadata": {},
   "outputs": [],
   "source": [
    "train_past_view_yado_candidates,train_past_view_yado_feature = create_past_view_yado_candidates(train_log)\n",
    "test_past_view_yado_candidates,test_past_view_yado_feature = create_past_view_yado_candidates(test_log)"
   ]
  },
  {
   "cell_type": "code",
   "execution_count": 10,
   "id": "a288b9fa-ef7b-4fc2-81e1-03015d98da02",
   "metadata": {},
   "outputs": [],
   "source": [
    "train_top20_popular_yado_candidates,train_top20_popular_yado_feature = create_topN_popular_yado_candidates(label,train_test='train',top=20)\n",
    "test_top20_popular_yado_candidates,test_top20_popular_yado_feature = create_topN_popular_yado_candidates(label,train_test='test',top=20)"
   ]
  },
  {
   "cell_type": "code",
   "execution_count": 11,
   "id": "075d98a1-04fe-4610-97d7-f9f0dfb949e3",
   "metadata": {},
   "outputs": [],
   "source": [
    "train_top10_wid_popular_yado_candidates,train_top10_wid_popular_yado_feature = create_topN_area_popular_yado_candidates(label,yado,train_test='train',area='wid_cd',top=10)\n",
    "test_top10_wid_popular_yado_candidates,test_top10_wid_popular_yado_feature = create_topN_area_popular_yado_candidates(label,yado,train_test='test',area='wid_cd',top=10)\n",
    "\n",
    "train_top10_ken_popular_yado_candidates,train_top10_ken_popular_yado_feature = create_topN_area_popular_yado_candidates(label,yado,train_test='train',area='ken_cd',top=10)\n",
    "test_top10_ken_popular_yado_candidates,test_top10_ken_popular_yado_feature = create_topN_area_popular_yado_candidates(label,yado,train_test='test',area='ken_cd',top=10)\n",
    "\n",
    "train_top10_lrg_popular_yado_candidates,train_top10_lrg_popular_yado_feature = create_topN_area_popular_yado_candidates(label,yado,train_test='train',area='lrg_cd',top=10)\n",
    "test_top10_lrg_popular_yado_candidates,test_top10_lrg_popular_yado_feature = create_topN_area_popular_yado_candidates(label,yado,train_test='test',area='lrg_cd',top=10)\n",
    "\n",
    "train_top10_sml_popular_yado_candidates,train_top10_sml_popular_yado_feature = create_topN_area_popular_yado_candidates(label,yado,train_test='train',area='sml_cd',top=10)\n",
    "test_top10_sml_popular_yado_candidates,test_top10_sml_popular_yado_feature = create_topN_area_popular_yado_candidates(label,yado,train_test='test',area='sml_cd',top=10)"
   ]
  },
  {
   "cell_type": "code",
   "execution_count": 12,
   "id": "efb0b05d-4532-4251-87b3-d6360110bea7",
   "metadata": {},
   "outputs": [],
   "source": [
    "train_latest_next_booking_top20_candidate,train_latest_next_booking_top20_feature = create_latest_next_booking_tonN_candidate(train_log,label,train_test='train',top=20)\n",
    "test_latest_next_booking_top20_candidate,test_latest_next_booking_top20_feature = create_latest_next_booking_tonN_candidate(train_log,label,train_test='test',top=20)"
   ]
  },
  {
   "cell_type": "code",
   "execution_count": 13,
   "id": "362e5460-7b4e-4f6d-8c07-6f7a18c91c2a",
   "metadata": {},
   "outputs": [],
   "source": [
    "# parquet形式で保存\n",
    "train_past_view_yado_candidates.write_parquet(CFG.path_exp / \"train_past_view_yado_candidates.parquet\")\n",
    "test_past_view_yado_candidates.write_parquet(CFG.path_exp / \"test_past_view_yado_candidates.parquet\")\n",
    "\n",
    "train_past_view_yado_feature.write_parquet(CFG.path_exp / \"train_past_view_yado_feature.parquet\")\n",
    "test_past_view_yado_feature.write_parquet(CFG.path_exp / \"test_past_view_yado_feature.parquet\")\n",
    "\n",
    "train_top20_popular_yado_candidates.write_parquet(CFG.path_exp / \"train_top20_popular_yado_candidates.parquet\")\n",
    "test_top20_popular_yado_candidates.write_parquet(CFG.path_exp / \"test_top20_popular_yado_candidates.parquet\")\n",
    "\n",
    "train_top20_popular_yado_feature.write_parquet(CFG.path_exp / \"train_top20_popular_yado_feature.parquet\")\n",
    "test_top20_popular_yado_feature.write_parquet(CFG.path_exp / \"test_top20_popular_yado_feature.parquet\")\n",
    "\n",
    "train_top10_wid_popular_yado_candidates.write_parquet(CFG.path_exp / \"train_top10_wid_popular_yado_candidates.parquet\")\n",
    "test_top10_wid_popular_yado_candidates.write_parquet(CFG.path_exp / \"test_top10_wid_popular_yado_candidates.parquet\")\n",
    "\n",
    "train_top10_wid_popular_yado_feature.write_parquet(CFG.path_exp / \"train_top10_wid_popular_yado_feature.parquet\")\n",
    "test_top10_wid_popular_yado_feature.write_parquet(CFG.path_exp / \"test_top10_wid_popular_yado_feature.parquet\")\n",
    "\n",
    "train_top10_ken_popular_yado_candidates.write_parquet(CFG.path_exp / \"train_top10_ken_popular_yado_candidates.parquet\")\n",
    "test_top10_ken_popular_yado_candidates.write_parquet(CFG.path_exp / \"test_top10_ken_popular_yado_candidates.parquet\")\n",
    "\n",
    "train_top10_ken_popular_yado_feature.write_parquet(CFG.path_exp / \"train_top10_ken_popular_yado_feature.parquet\")\n",
    "test_top10_ken_popular_yado_feature.write_parquet(CFG.path_exp / \"test_top10_ken_popular_yado_feature.parquet\")\n",
    "\n",
    "train_top10_lrg_popular_yado_candidates.write_parquet(CFG.path_exp / \"train_top10_lrg_popular_yado_candidates.parquet\")\n",
    "test_top10_lrg_popular_yado_candidates.write_parquet(CFG.path_exp / \"test_top10_lrg_popular_yado_candidates.parquet\")\n",
    "\n",
    "train_top10_lrg_popular_yado_feature.write_parquet(CFG.path_exp / \"train_top10_lrg_popular_yado_feature.parquet\")\n",
    "test_top10_lrg_popular_yado_feature.write_parquet(CFG.path_exp / \"test_top10_lrg_popular_yado_feature.parquet\")\n",
    "\n",
    "train_top10_sml_popular_yado_candidates.write_parquet(CFG.path_exp / \"train_top10_sml_popular_yado_candidates.parquet\")\n",
    "test_top10_sml_popular_yado_candidates.write_parquet(CFG.path_exp / \"test_top10_sml_popular_yado_candidates.parquet\")\n",
    "\n",
    "train_top10_sml_popular_yado_feature.write_parquet(CFG.path_exp / \"train_top10_sml_popular_yado_feature.parquet\")\n",
    "test_top10_sml_popular_yado_feature.write_parquet(CFG.path_exp / \"test_top10_sml_popular_yado_feature.parquet\")\n",
    "\n",
    "train_latest_next_booking_top20_candidate.write_parquet(CFG.path_exp / \"train_latest_next_booking_top20_candidates.parquet\")\n",
    "test_latest_next_booking_top20_candidate.write_parquet(CFG.path_exp / \"test_latest_next_booking_top20_candidates.parquet\")\n",
    "\n",
    "train_latest_next_booking_top20_feature.write_parquet(CFG.path_exp / \"train_latest_next_booking_top20_feature.parquet\")\n",
    "test_latest_next_booking_top20_feature.write_parquet(CFG.path_exp / \"test_latest_next_booking_top20_feature.parquet\")\n"
   ]
  },
  {
   "cell_type": "markdown",
   "id": "3e66ed18-a32f-495c-83c2-93dcc5b1191d",
   "metadata": {},
   "source": [
    "## Feature"
   ]
  },
  {
   "cell_type": "markdown",
   "id": "2bfe1345-b0ad-4588-9e53-a93232c89179",
   "metadata": {},
   "source": [
    "### candidate結合"
   ]
  },
  {
   "cell_type": "code",
   "execution_count": 14,
   "id": "1fc5d4a5-06a4-482e-addd-2f6504353703",
   "metadata": {},
   "outputs": [],
   "source": [
    "# area単位のは多すぎるので、今回は除外。\n",
    "candidate_name_list = ['past_view_yado',\n",
    "                      # 'top20_popular_yado',\n",
    "                      'top10_wid_popular_yado',\n",
    "                      'top10_ken_popular_yado',\n",
    "                      'top10_lrg_popular_yado',\n",
    "                      'top10_sml_popular_yado',\n",
    "                       'latest_next_booking_top20']"
   ]
  },
  {
   "cell_type": "code",
   "execution_count": 15,
   "id": "9f2bf5e3-9e10-4c45-862b-7d729fda8373",
   "metadata": {},
   "outputs": [],
   "source": [
    "def get_session_id_list(log):\n",
    "    return log.group_by('session_id').head(1).select(['session_id'])"
   ]
  },
  {
   "cell_type": "code",
   "execution_count": 16,
   "id": "526879a5-66b8-4108-b8de-5dc099305220",
   "metadata": {},
   "outputs": [],
   "source": [
    "train_session_id = get_session_id_list(train_log)\n",
    "train_session_id = train_session_id.join(label.select(['fold','session_id']),how='left',on='session_id')\n",
    "\n",
    "test_session_id = get_session_id_list(test_log)"
   ]
  },
  {
   "cell_type": "code",
   "execution_count": 17,
   "id": "5aa7b610-6621-4a42-9f4d-09ec37e06e0c",
   "metadata": {},
   "outputs": [
    {
     "name": "stderr",
     "output_type": "stream",
     "text": [
      "  0%|          | 0/6 [00:00<?, ?it/s]"
     ]
    },
    {
     "name": "stdout",
     "output_type": "stream",
     "text": [
      "wid in candidate_name\n"
     ]
    },
    {
     "data": {
      "text/html": [
       "<div><style>\n",
       ".dataframe > thead > tr,\n",
       ".dataframe > tbody > tr {\n",
       "  text-align: right;\n",
       "  white-space: pre-wrap;\n",
       "}\n",
       "</style>\n",
       "<small>shape: (288_698, 15)</small><table border=\"1\" class=\"dataframe\"><thead><tr><th>session_id</th><th>latest_yad_no</th><th>fold</th><th>yad_type</th><th>total_room_cnt</th><th>wireless_lan_flg</th><th>onsen_flg</th><th>kd_stn_5min</th><th>kd_bch_5min</th><th>kd_slp_5min</th><th>kd_conv_walk_5min</th><th>wid_cd</th><th>ken_cd</th><th>lrg_cd</th><th>sml_cd</th></tr><tr><td>str</td><td>i64</td><td>i32</td><td>i64</td><td>f64</td><td>f64</td><td>i64</td><td>f64</td><td>f64</td><td>f64</td><td>f64</td><td>str</td><td>str</td><td>str</td><td>str</td></tr></thead><tbody><tr><td>&quot;d406e959dfab74…</td><td>10985</td><td>4</td><td>0</td><td>26.0</td><td>null</td><td>1</td><td>null</td><td>null</td><td>null</td><td>null</td><td>&quot;dc414a17890cfc…</td><td>&quot;6920865be128aa…</td><td>&quot;ed31bbb4d1a6dd…</td><td>&quot;2aefae5b4f7ee1…</td></tr><tr><td>&quot;50e08b00e74e19…</td><td>12350</td><td>1</td><td>0</td><td>696.0</td><td>1.0</td><td>0</td><td>null</td><td>null</td><td>null</td><td>null</td><td>&quot;46e33861f921c3…</td><td>&quot;572d60f0f5212a…</td><td>&quot;8a623b960557e8…</td><td>&quot;1d9f09b9e2bd43…</td></tr><tr><td>&quot;65831520bc8ee9…</td><td>12012</td><td>0</td><td>0</td><td>40.0</td><td>1.0</td><td>0</td><td>null</td><td>null</td><td>null</td><td>1.0</td><td>&quot;f0112abf369fb0…</td><td>&quot;072c85e1653e10…</td><td>&quot;52d0a7d917cc19…</td><td>&quot;5423b90b9624bb…</td></tr><tr><td>&quot;ef110707b95521…</td><td>7810</td><td>3</td><td>0</td><td>234.0</td><td>1.0</td><td>0</td><td>1.0</td><td>null</td><td>null</td><td>1.0</td><td>&quot;f0112abf369fb0…</td><td>&quot;ce3aaf25e7e38a…</td><td>&quot;b94b1624f29ace…</td><td>&quot;8cb854e17cd42e…</td></tr><tr><td>&quot;8f2ad79bf186ca…</td><td>10461</td><td>1</td><td>0</td><td>196.0</td><td>1.0</td><td>0</td><td>1.0</td><td>null</td><td>null</td><td>1.0</td><td>&quot;46e33861f921c3…</td><td>&quot;107c7305a74c8d…</td><td>&quot;eb147deb12cb67…</td><td>&quot;247ac4e90c8df7…</td></tr><tr><td>&quot;10306a8f4f1eb8…</td><td>11788</td><td>4</td><td>0</td><td>143.0</td><td>1.0</td><td>0</td><td>1.0</td><td>null</td><td>null</td><td>1.0</td><td>&quot;b07b75d367ebec…</td><td>&quot;0a66f6ab9c0507…</td><td>&quot;0dbb24594ba15f…</td><td>&quot;7d4cba769884ac…</td></tr><tr><td>&quot;8e4586405f8904…</td><td>7071</td><td>1</td><td>0</td><td>104.0</td><td>1.0</td><td>0</td><td>1.0</td><td>null</td><td>null</td><td>1.0</td><td>&quot;b07b75d367ebec…</td><td>&quot;0a66f6ab9c0507…</td><td>&quot;9ab5718fd88c6e…</td><td>&quot;7aff71bb47acb7…</td></tr><tr><td>&quot;6eb346648b83c4…</td><td>544</td><td>1</td><td>0</td><td>170.0</td><td>1.0</td><td>0</td><td>1.0</td><td>null</td><td>null</td><td>1.0</td><td>&quot;dc414a17890cfc…</td><td>&quot;d78f53d0856617…</td><td>&quot;e5cfcc0a43c820…</td><td>&quot;e2f51242791849…</td></tr><tr><td>&quot;dc3cbef952eec4…</td><td>705</td><td>1</td><td>0</td><td>59.0</td><td>1.0</td><td>0</td><td>null</td><td>null</td><td>null</td><td>1.0</td><td>&quot;f0112abf369fb0…</td><td>&quot;ce3aaf25e7e38a…</td><td>&quot;b94b1624f29ace…</td><td>&quot;9dff180c5e5089…</td></tr><tr><td>&quot;a0952b14536782…</td><td>334</td><td>1</td><td>0</td><td>194.0</td><td>null</td><td>0</td><td>1.0</td><td>null</td><td>null</td><td>1.0</td><td>&quot;f0112abf369fb0…</td><td>&quot;072c85e1653e10…</td><td>&quot;810a15fb99b13c…</td><td>&quot;bacd9adfafe9ef…</td></tr><tr><td>&quot;16b1e4db58014c…</td><td>1546</td><td>0</td><td>0</td><td>51.0</td><td>null</td><td>0</td><td>null</td><td>null</td><td>null</td><td>1.0</td><td>&quot;3300cf6f774b7c…</td><td>&quot;7bc5fba93082f0…</td><td>&quot;ef46c8e4376792…</td><td>&quot;106a24de78565e…</td></tr><tr><td>&quot;e230cb7b4af562…</td><td>13195</td><td>3</td><td>0</td><td>133.0</td><td>null</td><td>1</td><td>null</td><td>null</td><td>null</td><td>null</td><td>&quot;d86102dd9c232b…</td><td>&quot;acb04522bdbc05…</td><td>&quot;2b7b6594cc4567…</td><td>&quot;33012c1cad7789…</td></tr><tr><td>&hellip;</td><td>&hellip;</td><td>&hellip;</td><td>&hellip;</td><td>&hellip;</td><td>&hellip;</td><td>&hellip;</td><td>&hellip;</td><td>&hellip;</td><td>&hellip;</td><td>&hellip;</td><td>&hellip;</td><td>&hellip;</td><td>&hellip;</td><td>&hellip;</td></tr><tr><td>&quot;27bf7f175744eb…</td><td>2373</td><td>2</td><td>0</td><td>371.0</td><td>1.0</td><td>0</td><td>null</td><td>null</td><td>null</td><td>1.0</td><td>&quot;46e33861f921c3…</td><td>&quot;107c7305a74c8d…</td><td>&quot;d153c8fd78bfad…</td><td>&quot;93bb8a3bdcfb29…</td></tr><tr><td>&quot;33df4dd90a3452…</td><td>4913</td><td>4</td><td>0</td><td>583.0</td><td>1.0</td><td>1</td><td>null</td><td>null</td><td>null</td><td>1.0</td><td>&quot;46e33861f921c3…</td><td>&quot;572d60f0f5212a…</td><td>&quot;8a623b960557e8…</td><td>&quot;1d9f09b9e2bd43…</td></tr><tr><td>&quot;59748726794d28…</td><td>6695</td><td>4</td><td>0</td><td>91.0</td><td>1.0</td><td>0</td><td>null</td><td>null</td><td>null</td><td>1.0</td><td>&quot;c312e07b7a5d45…</td><td>&quot;a738e672656974…</td><td>&quot;efa89f059010a5…</td><td>&quot;4a7118c6d1dcc2…</td></tr><tr><td>&quot;cee2ddb4c85aeb…</td><td>4893</td><td>3</td><td>0</td><td>210.0</td><td>null</td><td>0</td><td>1.0</td><td>null</td><td>null</td><td>1.0</td><td>&quot;f0112abf369fb0…</td><td>&quot;bd054cc265d68a…</td><td>&quot;1949c8b055b9d7…</td><td>&quot;18de7ad118a65e…</td></tr><tr><td>&quot;d051927965e610…</td><td>1159</td><td>1</td><td>0</td><td>163.0</td><td>1.0</td><td>1</td><td>null</td><td>null</td><td>null</td><td>1.0</td><td>&quot;c312e07b7a5d45…</td><td>&quot;a738e672656974…</td><td>&quot;ee5518ed106a6e…</td><td>&quot;2a8ec22a10c934…</td></tr><tr><td>&quot;0abefcf6aabcf1…</td><td>3106</td><td>1</td><td>0</td><td>58.0</td><td>1.0</td><td>0</td><td>null</td><td>null</td><td>null</td><td>1.0</td><td>&quot;8a1c0d3243bba1…</td><td>&quot;ea4e9c80303b41…</td><td>&quot;fdf7c422972a58…</td><td>&quot;0d3eda185bb0c1…</td></tr><tr><td>&quot;0ea56531376205…</td><td>12688</td><td>3</td><td>0</td><td>175.0</td><td>1.0</td><td>0</td><td>null</td><td>null</td><td>null</td><td>1.0</td><td>&quot;46e33861f921c3…</td><td>&quot;107c7305a74c8d…</td><td>&quot;d153c8fd78bfad…</td><td>&quot;93bb8a3bdcfb29…</td></tr><tr><td>&quot;eec7d65587d8bb…</td><td>12620</td><td>3</td><td>0</td><td>301.0</td><td>1.0</td><td>0</td><td>1.0</td><td>null</td><td>null</td><td>1.0</td><td>&quot;46e33861f921c3…</td><td>&quot;107c7305a74c8d…</td><td>&quot;c9d5e891463e53…</td><td>&quot;7cf2b4f31fb207…</td></tr><tr><td>&quot;48db858d3640be…</td><td>5680</td><td>4</td><td>0</td><td>41.0</td><td>1.0</td><td>0</td><td>1.0</td><td>null</td><td>null</td><td>1.0</td><td>&quot;d86102dd9c232b…</td><td>&quot;b4d2fb4e51ea7b…</td><td>&quot;29b680542fd396…</td><td>&quot;b4b4c63ff87803…</td></tr><tr><td>&quot;885b8fa7d04a75…</td><td>2307</td><td>4</td><td>0</td><td>103.0</td><td>1.0</td><td>0</td><td>1.0</td><td>null</td><td>null</td><td>1.0</td><td>&quot;f0112abf369fb0…</td><td>&quot;ce3aaf25e7e38a…</td><td>&quot;b94b1624f29ace…</td><td>&quot;9dff180c5e5089…</td></tr><tr><td>&quot;786c9e9eaea84f…</td><td>2236</td><td>2</td><td>0</td><td>null</td><td>1.0</td><td>1</td><td>null</td><td>null</td><td>null</td><td>null</td><td>&quot;b07b75d367ebec…</td><td>&quot;0a66f6ab9c0507…</td><td>&quot;103e1be52e08cf…</td><td>&quot;1ab0e581d3b70e…</td></tr><tr><td>&quot;187e758d99865e…</td><td>4053</td><td>2</td><td>0</td><td>221.0</td><td>1.0</td><td>0</td><td>1.0</td><td>null</td><td>null</td><td>1.0</td><td>&quot;f0112abf369fb0…</td><td>&quot;072c85e1653e10…</td><td>&quot;52d0a7d917cc19…</td><td>&quot;5423b90b9624bb…</td></tr></tbody></table></div>"
      ],
      "text/plain": [
       "shape: (288_698, 15)\n",
       "┌────────────┬────────────┬──────┬──────────┬───┬────────────┬────────────┬────────────┬───────────┐\n",
       "│ session_id ┆ latest_yad ┆ fold ┆ yad_type ┆ … ┆ wid_cd     ┆ ken_cd     ┆ lrg_cd     ┆ sml_cd    │\n",
       "│ ---        ┆ _no        ┆ ---  ┆ ---      ┆   ┆ ---        ┆ ---        ┆ ---        ┆ ---       │\n",
       "│ str        ┆ ---        ┆ i32  ┆ i64      ┆   ┆ str        ┆ str        ┆ str        ┆ str       │\n",
       "│            ┆ i64        ┆      ┆          ┆   ┆            ┆            ┆            ┆           │\n",
       "╞════════════╪════════════╪══════╪══════════╪═══╪════════════╪════════════╪════════════╪═══════════╡\n",
       "│ d406e959df ┆ 10985      ┆ 4    ┆ 0        ┆ … ┆ dc414a1789 ┆ 6920865be1 ┆ ed31bbb4d1 ┆ 2aefae5b4 │\n",
       "│ ab745104d6 ┆            ┆      ┆          ┆   ┆ 0cfc17d011 ┆ 28aa148148 ┆ a6dd9adb21 ┆ f7ee101ca │\n",
       "│ 18ec778913 ┆            ┆      ┆          ┆   ┆ d5038b88ca ┆ 10654738b1 ┆ 3bd016fa7e ┆ 05d770963 │\n",
       "│ 72         ┆            ┆      ┆          ┆   ┆ 93         ┆ 59         ┆ 74         ┆ 34ab7     │\n",
       "│ 50e08b00e7 ┆ 12350      ┆ 1    ┆ 0        ┆ … ┆ 46e33861f9 ┆ 572d60f0f5 ┆ 8a623b9605 ┆ 1d9f09b9e │\n",
       "│ 4e198bdb56 ┆            ┆      ┆          ┆   ┆ 21c3e38b81 ┆ 212aacda51 ┆ 57e87bd1f4 ┆ 2bd43cebc │\n",
       "│ 603256e91b ┆            ┆      ┆          ┆   ┆ 998fbf283f ┆ 5ebf81fb0a ┆ edf71b6255 ┆ 9885a4638 │\n",
       "│ 7b         ┆            ┆      ┆          ┆   ┆ 01         ┆ 3a         ┆ be         ┆ 8739a     │\n",
       "│ 65831520bc ┆ 12012      ┆ 0    ┆ 0        ┆ … ┆ f0112abf36 ┆ 072c85e165 ┆ 52d0a7d917 ┆ 5423b90b9 │\n",
       "│ 8ee9042c83 ┆            ┆      ┆          ┆   ┆ 9fb03cdc5f ┆ 3e10c9c7dd ┆ cc19ddf5e0 ┆ 624bbb2b4 │\n",
       "│ dbdedaab2f ┆            ┆      ┆          ┆   ┆ 5309300913 ┆ 065ad00712 ┆ ee208f0acf ┆ 7ce18b63f │\n",
       "│ 61         ┆            ┆      ┆          ┆   ┆ da         ┆ 5a         ┆ ed         ┆ b9a82     │\n",
       "│ ef110707b9 ┆ 7810       ┆ 3    ┆ 0        ┆ … ┆ f0112abf36 ┆ ce3aaf25e7 ┆ b94b1624f2 ┆ 8cb854e17 │\n",
       "│ 5521ccf71a ┆            ┆      ┆          ┆   ┆ 9fb03cdc5f ┆ e38a0c42d3 ┆ 9aceb6511b ┆ cd42e2b44 │\n",
       "│ b1ed4cb56a ┆            ┆      ┆          ┆   ┆ 5309300913 ┆ 73fb148efc ┆ abed280db4 ┆ f0c603da4 │\n",
       "│ b3         ┆            ┆      ┆          ┆   ┆ da         ┆ 86         ┆ d7         ┆ 608d4     │\n",
       "│ …          ┆ …          ┆ …    ┆ …        ┆ … ┆ …          ┆ …          ┆ …          ┆ …         │\n",
       "│ 48db858d36 ┆ 5680       ┆ 4    ┆ 0        ┆ … ┆ d86102dd9c ┆ b4d2fb4e51 ┆ 29b680542f ┆ b4b4c63ff │\n",
       "│ 40be1a8f9b ┆            ┆      ┆          ┆   ┆ 232bade9a9 ┆ ea7bca80eb ┆ d3969fea76 ┆ 87803ef0b │\n",
       "│ 0dc5ef5759 ┆            ┆      ┆          ┆   ┆ 7dccad40df ┆ 1270aa474a ┆ 8bfba1d0b5 ┆ 75eaa651f │\n",
       "│ 56         ┆            ┆      ┆          ┆   ┆ 48         ┆ 54         ┆ 0a         ┆ 9f5cf     │\n",
       "│ 885b8fa7d0 ┆ 2307       ┆ 4    ┆ 0        ┆ … ┆ f0112abf36 ┆ ce3aaf25e7 ┆ b94b1624f2 ┆ 9dff180c5 │\n",
       "│ 4a757281ab ┆            ┆      ┆          ┆   ┆ 9fb03cdc5f ┆ e38a0c42d3 ┆ 9aceb6511b ┆ e5089dfb2 │\n",
       "│ 99981b2893 ┆            ┆      ┆          ┆   ┆ 5309300913 ┆ 73fb148efc ┆ abed280db4 ┆ 6be591000 │\n",
       "│ eb         ┆            ┆      ┆          ┆   ┆ da         ┆ 86         ┆ d7         ┆ b90f1     │\n",
       "│ 786c9e9eae ┆ 2236       ┆ 2    ┆ 0        ┆ … ┆ b07b75d367 ┆ 0a66f6ab9c ┆ 103e1be52e ┆ 1ab0e581d │\n",
       "│ a84fadb375 ┆            ┆      ┆          ┆   ┆ ebece55a23 ┆ 0507059da6 ┆ 08cf356581 ┆ 3b70e98a1 │\n",
       "│ 9d671b27ac ┆            ┆      ┆          ┆   ┆ ceecc939ff ┆ f22a0e1f16 ┆ 06e553bf0b ┆ 09390f12a │\n",
       "│ b1         ┆            ┆      ┆          ┆   ┆ f4         ┆ 90         ┆ 1e         ┆ 1c46d     │\n",
       "│ 187e758d99 ┆ 4053       ┆ 2    ┆ 0        ┆ … ┆ f0112abf36 ┆ 072c85e165 ┆ 52d0a7d917 ┆ 5423b90b9 │\n",
       "│ 865e5a95b1 ┆            ┆      ┆          ┆   ┆ 9fb03cdc5f ┆ 3e10c9c7dd ┆ cc19ddf5e0 ┆ 624bbb2b4 │\n",
       "│ b7003c8f03 ┆            ┆      ┆          ┆   ┆ 5309300913 ┆ 065ad00712 ┆ ee208f0acf ┆ 7ce18b63f │\n",
       "│ 23         ┆            ┆      ┆          ┆   ┆ da         ┆ 5a         ┆ ed         ┆ b9a82     │\n",
       "└────────────┴────────────┴──────┴──────────┴───┴────────────┴────────────┴────────────┴───────────┘"
      ]
     },
     "metadata": {},
     "output_type": "display_data"
    },
    {
     "data": {
      "text/html": [
       "<div><style>\n",
       ".dataframe > thead > tr,\n",
       ".dataframe > tbody > tr {\n",
       "  text-align: right;\n",
       "  white-space: pre-wrap;\n",
       "}\n",
       "</style>\n",
       "<small>shape: (600, 3)</small><table border=\"1\" class=\"dataframe\"><thead><tr><th>wid_cd</th><th>yad_no</th><th>fold</th></tr><tr><td>str</td><td>i64</td><td>i32</td></tr></thead><tbody><tr><td>&quot;d86102dd9c232b…</td><td>6407</td><td>0</td></tr><tr><td>&quot;d86102dd9c232b…</td><td>5135</td><td>0</td></tr><tr><td>&quot;d86102dd9c232b…</td><td>3789</td><td>0</td></tr><tr><td>&quot;d86102dd9c232b…</td><td>13740</td><td>0</td></tr><tr><td>&quot;d86102dd9c232b…</td><td>11777</td><td>0</td></tr><tr><td>&quot;d86102dd9c232b…</td><td>6471</td><td>0</td></tr><tr><td>&quot;d86102dd9c232b…</td><td>1510</td><td>0</td></tr><tr><td>&quot;d86102dd9c232b…</td><td>9292</td><td>0</td></tr><tr><td>&quot;d86102dd9c232b…</td><td>8734</td><td>0</td></tr><tr><td>&quot;d86102dd9c232b…</td><td>5937</td><td>0</td></tr><tr><td>&quot;c312e07b7a5d45…</td><td>13402</td><td>0</td></tr><tr><td>&quot;c312e07b7a5d45…</td><td>10350</td><td>0</td></tr><tr><td>&hellip;</td><td>&hellip;</td><td>&hellip;</td></tr><tr><td>&quot;8a1c0d3243bba1…</td><td>8508</td><td>4</td></tr><tr><td>&quot;8a1c0d3243bba1…</td><td>8740</td><td>4</td></tr><tr><td>&quot;3300cf6f774b7c…</td><td>1724</td><td>4</td></tr><tr><td>&quot;3300cf6f774b7c…</td><td>10541</td><td>4</td></tr><tr><td>&quot;3300cf6f774b7c…</td><td>4522</td><td>4</td></tr><tr><td>&quot;3300cf6f774b7c…</td><td>5542</td><td>4</td></tr><tr><td>&quot;3300cf6f774b7c…</td><td>10922</td><td>4</td></tr><tr><td>&quot;3300cf6f774b7c…</td><td>7649</td><td>4</td></tr><tr><td>&quot;3300cf6f774b7c…</td><td>9006</td><td>4</td></tr><tr><td>&quot;3300cf6f774b7c…</td><td>9693</td><td>4</td></tr><tr><td>&quot;3300cf6f774b7c…</td><td>1227</td><td>4</td></tr><tr><td>&quot;3300cf6f774b7c…</td><td>9047</td><td>4</td></tr></tbody></table></div>"
      ],
      "text/plain": [
       "shape: (600, 3)\n",
       "┌──────────────────────────────────┬────────┬──────┐\n",
       "│ wid_cd                           ┆ yad_no ┆ fold │\n",
       "│ ---                              ┆ ---    ┆ ---  │\n",
       "│ str                              ┆ i64    ┆ i32  │\n",
       "╞══════════════════════════════════╪════════╪══════╡\n",
       "│ d86102dd9c232bade9a97dccad40df48 ┆ 6407   ┆ 0    │\n",
       "│ d86102dd9c232bade9a97dccad40df48 ┆ 5135   ┆ 0    │\n",
       "│ d86102dd9c232bade9a97dccad40df48 ┆ 3789   ┆ 0    │\n",
       "│ d86102dd9c232bade9a97dccad40df48 ┆ 13740  ┆ 0    │\n",
       "│ …                                ┆ …      ┆ …    │\n",
       "│ 3300cf6f774b7c6a5807110f244cbc21 ┆ 9006   ┆ 4    │\n",
       "│ 3300cf6f774b7c6a5807110f244cbc21 ┆ 9693   ┆ 4    │\n",
       "│ 3300cf6f774b7c6a5807110f244cbc21 ┆ 1227   ┆ 4    │\n",
       "│ 3300cf6f774b7c6a5807110f244cbc21 ┆ 9047   ┆ 4    │\n",
       "└──────────────────────────────────┴────────┴──────┘"
      ]
     },
     "metadata": {},
     "output_type": "display_data"
    },
    {
     "data": {
      "text/html": [
       "<div><style>\n",
       ".dataframe > thead > tr,\n",
       ".dataframe > tbody > tr {\n",
       "  text-align: right;\n",
       "  white-space: pre-wrap;\n",
       "}\n",
       "</style>\n",
       "<small>shape: (2_886_980, 16)</small><table border=\"1\" class=\"dataframe\"><thead><tr><th>session_id</th><th>latest_yad_no</th><th>fold</th><th>yad_type</th><th>total_room_cnt</th><th>wireless_lan_flg</th><th>onsen_flg</th><th>kd_stn_5min</th><th>kd_bch_5min</th><th>kd_slp_5min</th><th>kd_conv_walk_5min</th><th>wid_cd</th><th>ken_cd</th><th>lrg_cd</th><th>sml_cd</th><th>yad_no</th></tr><tr><td>str</td><td>i64</td><td>i32</td><td>i64</td><td>f64</td><td>f64</td><td>i64</td><td>f64</td><td>f64</td><td>f64</td><td>f64</td><td>str</td><td>str</td><td>str</td><td>str</td><td>i64</td></tr></thead><tbody><tr><td>&quot;d406e959dfab74…</td><td>10985</td><td>4</td><td>0</td><td>26.0</td><td>null</td><td>1</td><td>null</td><td>null</td><td>null</td><td>null</td><td>&quot;dc414a17890cfc…</td><td>&quot;6920865be128aa…</td><td>&quot;ed31bbb4d1a6dd…</td><td>&quot;2aefae5b4f7ee1…</td><td>2445</td></tr><tr><td>&quot;d406e959dfab74…</td><td>10985</td><td>4</td><td>0</td><td>26.0</td><td>null</td><td>1</td><td>null</td><td>null</td><td>null</td><td>null</td><td>&quot;dc414a17890cfc…</td><td>&quot;6920865be128aa…</td><td>&quot;ed31bbb4d1a6dd…</td><td>&quot;2aefae5b4f7ee1…</td><td>11407</td></tr><tr><td>&quot;d406e959dfab74…</td><td>10985</td><td>4</td><td>0</td><td>26.0</td><td>null</td><td>1</td><td>null</td><td>null</td><td>null</td><td>null</td><td>&quot;dc414a17890cfc…</td><td>&quot;6920865be128aa…</td><td>&quot;ed31bbb4d1a6dd…</td><td>&quot;2aefae5b4f7ee1…</td><td>13106</td></tr><tr><td>&quot;d406e959dfab74…</td><td>10985</td><td>4</td><td>0</td><td>26.0</td><td>null</td><td>1</td><td>null</td><td>null</td><td>null</td><td>null</td><td>&quot;dc414a17890cfc…</td><td>&quot;6920865be128aa…</td><td>&quot;ed31bbb4d1a6dd…</td><td>&quot;2aefae5b4f7ee1…</td><td>12946</td></tr><tr><td>&quot;d406e959dfab74…</td><td>10985</td><td>4</td><td>0</td><td>26.0</td><td>null</td><td>1</td><td>null</td><td>null</td><td>null</td><td>null</td><td>&quot;dc414a17890cfc…</td><td>&quot;6920865be128aa…</td><td>&quot;ed31bbb4d1a6dd…</td><td>&quot;2aefae5b4f7ee1…</td><td>4744</td></tr><tr><td>&quot;d406e959dfab74…</td><td>10985</td><td>4</td><td>0</td><td>26.0</td><td>null</td><td>1</td><td>null</td><td>null</td><td>null</td><td>null</td><td>&quot;dc414a17890cfc…</td><td>&quot;6920865be128aa…</td><td>&quot;ed31bbb4d1a6dd…</td><td>&quot;2aefae5b4f7ee1…</td><td>12962</td></tr><tr><td>&quot;d406e959dfab74…</td><td>10985</td><td>4</td><td>0</td><td>26.0</td><td>null</td><td>1</td><td>null</td><td>null</td><td>null</td><td>null</td><td>&quot;dc414a17890cfc…</td><td>&quot;6920865be128aa…</td><td>&quot;ed31bbb4d1a6dd…</td><td>&quot;2aefae5b4f7ee1…</td><td>10868</td></tr><tr><td>&quot;d406e959dfab74…</td><td>10985</td><td>4</td><td>0</td><td>26.0</td><td>null</td><td>1</td><td>null</td><td>null</td><td>null</td><td>null</td><td>&quot;dc414a17890cfc…</td><td>&quot;6920865be128aa…</td><td>&quot;ed31bbb4d1a6dd…</td><td>&quot;2aefae5b4f7ee1…</td><td>5566</td></tr><tr><td>&quot;d406e959dfab74…</td><td>10985</td><td>4</td><td>0</td><td>26.0</td><td>null</td><td>1</td><td>null</td><td>null</td><td>null</td><td>null</td><td>&quot;dc414a17890cfc…</td><td>&quot;6920865be128aa…</td><td>&quot;ed31bbb4d1a6dd…</td><td>&quot;2aefae5b4f7ee1…</td><td>10515</td></tr><tr><td>&quot;d406e959dfab74…</td><td>10985</td><td>4</td><td>0</td><td>26.0</td><td>null</td><td>1</td><td>null</td><td>null</td><td>null</td><td>null</td><td>&quot;dc414a17890cfc…</td><td>&quot;6920865be128aa…</td><td>&quot;ed31bbb4d1a6dd…</td><td>&quot;2aefae5b4f7ee1…</td><td>11499</td></tr><tr><td>&quot;50e08b00e74e19…</td><td>12350</td><td>1</td><td>0</td><td>696.0</td><td>1.0</td><td>0</td><td>null</td><td>null</td><td>null</td><td>null</td><td>&quot;46e33861f921c3…</td><td>&quot;572d60f0f5212a…</td><td>&quot;8a623b960557e8…</td><td>&quot;1d9f09b9e2bd43…</td><td>10095</td></tr><tr><td>&quot;50e08b00e74e19…</td><td>12350</td><td>1</td><td>0</td><td>696.0</td><td>1.0</td><td>0</td><td>null</td><td>null</td><td>null</td><td>null</td><td>&quot;46e33861f921c3…</td><td>&quot;572d60f0f5212a…</td><td>&quot;8a623b960557e8…</td><td>&quot;1d9f09b9e2bd43…</td><td>3338</td></tr><tr><td>&hellip;</td><td>&hellip;</td><td>&hellip;</td><td>&hellip;</td><td>&hellip;</td><td>&hellip;</td><td>&hellip;</td><td>&hellip;</td><td>&hellip;</td><td>&hellip;</td><td>&hellip;</td><td>&hellip;</td><td>&hellip;</td><td>&hellip;</td><td>&hellip;</td><td>&hellip;</td></tr><tr><td>&quot;786c9e9eaea84f…</td><td>2236</td><td>2</td><td>0</td><td>null</td><td>1.0</td><td>1</td><td>null</td><td>null</td><td>null</td><td>null</td><td>&quot;b07b75d367ebec…</td><td>&quot;0a66f6ab9c0507…</td><td>&quot;103e1be52e08cf…</td><td>&quot;1ab0e581d3b70e…</td><td>1092</td></tr><tr><td>&quot;786c9e9eaea84f…</td><td>2236</td><td>2</td><td>0</td><td>null</td><td>1.0</td><td>1</td><td>null</td><td>null</td><td>null</td><td>null</td><td>&quot;b07b75d367ebec…</td><td>&quot;0a66f6ab9c0507…</td><td>&quot;103e1be52e08cf…</td><td>&quot;1ab0e581d3b70e…</td><td>2259</td></tr><tr><td>&quot;187e758d99865e…</td><td>4053</td><td>2</td><td>0</td><td>221.0</td><td>1.0</td><td>0</td><td>1.0</td><td>null</td><td>null</td><td>1.0</td><td>&quot;f0112abf369fb0…</td><td>&quot;072c85e1653e10…</td><td>&quot;52d0a7d917cc19…</td><td>&quot;5423b90b9624bb…</td><td>13017</td></tr><tr><td>&quot;187e758d99865e…</td><td>4053</td><td>2</td><td>0</td><td>221.0</td><td>1.0</td><td>0</td><td>1.0</td><td>null</td><td>null</td><td>1.0</td><td>&quot;f0112abf369fb0…</td><td>&quot;072c85e1653e10…</td><td>&quot;52d0a7d917cc19…</td><td>&quot;5423b90b9624bb…</td><td>719</td></tr><tr><td>&quot;187e758d99865e…</td><td>4053</td><td>2</td><td>0</td><td>221.0</td><td>1.0</td><td>0</td><td>1.0</td><td>null</td><td>null</td><td>1.0</td><td>&quot;f0112abf369fb0…</td><td>&quot;072c85e1653e10…</td><td>&quot;52d0a7d917cc19…</td><td>&quot;5423b90b9624bb…</td><td>1818</td></tr><tr><td>&quot;187e758d99865e…</td><td>4053</td><td>2</td><td>0</td><td>221.0</td><td>1.0</td><td>0</td><td>1.0</td><td>null</td><td>null</td><td>1.0</td><td>&quot;f0112abf369fb0…</td><td>&quot;072c85e1653e10…</td><td>&quot;52d0a7d917cc19…</td><td>&quot;5423b90b9624bb…</td><td>8567</td></tr><tr><td>&quot;187e758d99865e…</td><td>4053</td><td>2</td><td>0</td><td>221.0</td><td>1.0</td><td>0</td><td>1.0</td><td>null</td><td>null</td><td>1.0</td><td>&quot;f0112abf369fb0…</td><td>&quot;072c85e1653e10…</td><td>&quot;52d0a7d917cc19…</td><td>&quot;5423b90b9624bb…</td><td>9971</td></tr><tr><td>&quot;187e758d99865e…</td><td>4053</td><td>2</td><td>0</td><td>221.0</td><td>1.0</td><td>0</td><td>1.0</td><td>null</td><td>null</td><td>1.0</td><td>&quot;f0112abf369fb0…</td><td>&quot;072c85e1653e10…</td><td>&quot;52d0a7d917cc19…</td><td>&quot;5423b90b9624bb…</td><td>2201</td></tr><tr><td>&quot;187e758d99865e…</td><td>4053</td><td>2</td><td>0</td><td>221.0</td><td>1.0</td><td>0</td><td>1.0</td><td>null</td><td>null</td><td>1.0</td><td>&quot;f0112abf369fb0…</td><td>&quot;072c85e1653e10…</td><td>&quot;52d0a7d917cc19…</td><td>&quot;5423b90b9624bb…</td><td>693</td></tr><tr><td>&quot;187e758d99865e…</td><td>4053</td><td>2</td><td>0</td><td>221.0</td><td>1.0</td><td>0</td><td>1.0</td><td>null</td><td>null</td><td>1.0</td><td>&quot;f0112abf369fb0…</td><td>&quot;072c85e1653e10…</td><td>&quot;52d0a7d917cc19…</td><td>&quot;5423b90b9624bb…</td><td>3988</td></tr><tr><td>&quot;187e758d99865e…</td><td>4053</td><td>2</td><td>0</td><td>221.0</td><td>1.0</td><td>0</td><td>1.0</td><td>null</td><td>null</td><td>1.0</td><td>&quot;f0112abf369fb0…</td><td>&quot;072c85e1653e10…</td><td>&quot;52d0a7d917cc19…</td><td>&quot;5423b90b9624bb…</td><td>1799</td></tr><tr><td>&quot;187e758d99865e…</td><td>4053</td><td>2</td><td>0</td><td>221.0</td><td>1.0</td><td>0</td><td>1.0</td><td>null</td><td>null</td><td>1.0</td><td>&quot;f0112abf369fb0…</td><td>&quot;072c85e1653e10…</td><td>&quot;52d0a7d917cc19…</td><td>&quot;5423b90b9624bb…</td><td>6418</td></tr></tbody></table></div>"
      ],
      "text/plain": [
       "shape: (2_886_980, 16)\n",
       "┌─────────────┬─────────────┬──────┬──────────┬───┬─────────────┬────────────┬────────────┬────────┐\n",
       "│ session_id  ┆ latest_yad_ ┆ fold ┆ yad_type ┆ … ┆ ken_cd      ┆ lrg_cd     ┆ sml_cd     ┆ yad_no │\n",
       "│ ---         ┆ no          ┆ ---  ┆ ---      ┆   ┆ ---         ┆ ---        ┆ ---        ┆ ---    │\n",
       "│ str         ┆ ---         ┆ i32  ┆ i64      ┆   ┆ str         ┆ str        ┆ str        ┆ i64    │\n",
       "│             ┆ i64         ┆      ┆          ┆   ┆             ┆            ┆            ┆        │\n",
       "╞═════════════╪═════════════╪══════╪══════════╪═══╪═════════════╪════════════╪════════════╪════════╡\n",
       "│ d406e959dfa ┆ 10985       ┆ 4    ┆ 0        ┆ … ┆ 6920865be12 ┆ ed31bbb4d1 ┆ 2aefae5b4f ┆ 2445   │\n",
       "│ b745104d618 ┆             ┆      ┆          ┆   ┆ 8aa14814810 ┆ a6dd9adb21 ┆ 7ee101ca05 ┆        │\n",
       "│ ec77891372  ┆             ┆      ┆          ┆   ┆ 654738b159  ┆ 3bd016fa7e ┆ d77096334a ┆        │\n",
       "│             ┆             ┆      ┆          ┆   ┆             ┆ 74         ┆ b7         ┆        │\n",
       "│ d406e959dfa ┆ 10985       ┆ 4    ┆ 0        ┆ … ┆ 6920865be12 ┆ ed31bbb4d1 ┆ 2aefae5b4f ┆ 11407  │\n",
       "│ b745104d618 ┆             ┆      ┆          ┆   ┆ 8aa14814810 ┆ a6dd9adb21 ┆ 7ee101ca05 ┆        │\n",
       "│ ec77891372  ┆             ┆      ┆          ┆   ┆ 654738b159  ┆ 3bd016fa7e ┆ d77096334a ┆        │\n",
       "│             ┆             ┆      ┆          ┆   ┆             ┆ 74         ┆ b7         ┆        │\n",
       "│ d406e959dfa ┆ 10985       ┆ 4    ┆ 0        ┆ … ┆ 6920865be12 ┆ ed31bbb4d1 ┆ 2aefae5b4f ┆ 13106  │\n",
       "│ b745104d618 ┆             ┆      ┆          ┆   ┆ 8aa14814810 ┆ a6dd9adb21 ┆ 7ee101ca05 ┆        │\n",
       "│ ec77891372  ┆             ┆      ┆          ┆   ┆ 654738b159  ┆ 3bd016fa7e ┆ d77096334a ┆        │\n",
       "│             ┆             ┆      ┆          ┆   ┆             ┆ 74         ┆ b7         ┆        │\n",
       "│ d406e959dfa ┆ 10985       ┆ 4    ┆ 0        ┆ … ┆ 6920865be12 ┆ ed31bbb4d1 ┆ 2aefae5b4f ┆ 12946  │\n",
       "│ b745104d618 ┆             ┆      ┆          ┆   ┆ 8aa14814810 ┆ a6dd9adb21 ┆ 7ee101ca05 ┆        │\n",
       "│ ec77891372  ┆             ┆      ┆          ┆   ┆ 654738b159  ┆ 3bd016fa7e ┆ d77096334a ┆        │\n",
       "│             ┆             ┆      ┆          ┆   ┆             ┆ 74         ┆ b7         ┆        │\n",
       "│ …           ┆ …           ┆ …    ┆ …        ┆ … ┆ …           ┆ …          ┆ …          ┆ …      │\n",
       "│ 187e758d998 ┆ 4053        ┆ 2    ┆ 0        ┆ … ┆ 072c85e1653 ┆ 52d0a7d917 ┆ 5423b90b96 ┆ 693    │\n",
       "│ 65e5a95b1b7 ┆             ┆      ┆          ┆   ┆ e10c9c7dd06 ┆ cc19ddf5e0 ┆ 24bbb2b47c ┆        │\n",
       "│ 003c8f0323  ┆             ┆      ┆          ┆   ┆ 5ad007125a  ┆ ee208f0acf ┆ e18b63fb9a ┆        │\n",
       "│             ┆             ┆      ┆          ┆   ┆             ┆ ed         ┆ 82         ┆        │\n",
       "│ 187e758d998 ┆ 4053        ┆ 2    ┆ 0        ┆ … ┆ 072c85e1653 ┆ 52d0a7d917 ┆ 5423b90b96 ┆ 3988   │\n",
       "│ 65e5a95b1b7 ┆             ┆      ┆          ┆   ┆ e10c9c7dd06 ┆ cc19ddf5e0 ┆ 24bbb2b47c ┆        │\n",
       "│ 003c8f0323  ┆             ┆      ┆          ┆   ┆ 5ad007125a  ┆ ee208f0acf ┆ e18b63fb9a ┆        │\n",
       "│             ┆             ┆      ┆          ┆   ┆             ┆ ed         ┆ 82         ┆        │\n",
       "│ 187e758d998 ┆ 4053        ┆ 2    ┆ 0        ┆ … ┆ 072c85e1653 ┆ 52d0a7d917 ┆ 5423b90b96 ┆ 1799   │\n",
       "│ 65e5a95b1b7 ┆             ┆      ┆          ┆   ┆ e10c9c7dd06 ┆ cc19ddf5e0 ┆ 24bbb2b47c ┆        │\n",
       "│ 003c8f0323  ┆             ┆      ┆          ┆   ┆ 5ad007125a  ┆ ee208f0acf ┆ e18b63fb9a ┆        │\n",
       "│             ┆             ┆      ┆          ┆   ┆             ┆ ed         ┆ 82         ┆        │\n",
       "│ 187e758d998 ┆ 4053        ┆ 2    ┆ 0        ┆ … ┆ 072c85e1653 ┆ 52d0a7d917 ┆ 5423b90b96 ┆ 6418   │\n",
       "│ 65e5a95b1b7 ┆             ┆      ┆          ┆   ┆ e10c9c7dd06 ┆ cc19ddf5e0 ┆ 24bbb2b47c ┆        │\n",
       "│ 003c8f0323  ┆             ┆      ┆          ┆   ┆ 5ad007125a  ┆ ee208f0acf ┆ e18b63fb9a ┆        │\n",
       "│             ┆             ┆      ┆          ┆   ┆             ┆ ed         ┆ 82         ┆        │\n",
       "└─────────────┴─────────────┴──────┴──────────┴───┴─────────────┴────────────┴────────────┴────────┘"
      ]
     },
     "metadata": {},
     "output_type": "display_data"
    },
    {
     "name": "stderr",
     "output_type": "stream",
     "text": [
      " 50%|█████     | 3/6 [00:00<00:00,  7.02it/s]"
     ]
    },
    {
     "name": "stdout",
     "output_type": "stream",
     "text": [
      "ken in candidate_name\n",
      "lrg in candidate_name\n"
     ]
    },
    {
     "name": "stderr",
     "output_type": "stream",
     "text": [
      " 67%|██████▋   | 4/6 [00:00<00:00,  6.32it/s]"
     ]
    },
    {
     "name": "stdout",
     "output_type": "stream",
     "text": [
      "sml in candidate_name\n"
     ]
    },
    {
     "name": "stderr",
     "output_type": "stream",
     "text": [
      "100%|██████████| 6/6 [00:00<00:00,  6.38it/s]\n",
      "  0%|          | 0/6 [00:00<?, ?it/s]"
     ]
    },
    {
     "name": "stdout",
     "output_type": "stream",
     "text": [
      "wid in candidate_name\n",
      "ken in candidate_name\n"
     ]
    },
    {
     "name": "stderr",
     "output_type": "stream",
     "text": [
      " 50%|█████     | 3/6 [00:00<00:00, 14.02it/s]"
     ]
    },
    {
     "name": "stdout",
     "output_type": "stream",
     "text": [
      "lrg in candidate_name\n",
      "sml in candidate_name\n"
     ]
    },
    {
     "name": "stderr",
     "output_type": "stream",
     "text": [
      "100%|██████████| 6/6 [00:00<00:00, 11.80it/s]\n"
     ]
    }
   ],
   "source": [
    "# 各candidateを結合\n",
    "candidate_list = {}\n",
    "candidate_list['train'] = []\n",
    "candidate_list['test'] = []\n",
    "\n",
    "for train_test in ['train','test']:\n",
    "    for candidate_name in tqdm(candidate_name_list):\n",
    "        candidate = pl.read_parquet(CFG.path_exp / f\"{train_test}_{candidate_name}_candidates.parquet\")\n",
    "        if 'session_id' in candidate.columns:\n",
    "            candidate_list[train_test].append(candidate.select(['session_id','yad_no']))\n",
    "        elif 'latest_yad_no' in candidate.columns:\n",
    "            if train_test == 'train':\n",
    "                latest_yad_no = train_log.group_by('session_id').tail(1).select(['session_id','yad_no']).rename({'yad_no':'latest_yad_no'})\n",
    "                latest_yad_no = latest_yad_no.join(label.select(['session_id','fold']),how='left',on='session_id')\n",
    "                latest_yad_no = latest_yad_no.with_columns(pl.col('fold').cast(pl.Int32))\n",
    "                candidate = latest_yad_no.join(candidate,how='inner',on=['latest_yad_no','fold'])\n",
    "            else:\n",
    "                latest_yad_no = test_log.group_by('session_id').tail(1).select(['session_id','yad_no']).rename({'yad_no':'latest_yad_no'})\n",
    "                candidate = latest_yad_no.join(candidate,how='inner',on=['latest_yad_no'])\n",
    "            candidate_list[train_test].append(candidate.select(['session_id','yad_no']))\n",
    "                # エリア系のやつ\n",
    "        elif \"wid\" in candidate_name:\n",
    "            print(\"wid in candidate_name\")\n",
    "            if train_test == \"train\":\n",
    "                latest_yad_no = (\n",
    "                    train_log.group_by(\"session_id\")\n",
    "                    .tail(1)\n",
    "                    .select([\"session_id\", \"yad_no\"])\n",
    "                )\n",
    "                latest_yad_no = latest_yad_no.join(\n",
    "                    label.select([\"session_id\", \"fold\"]),\n",
    "                    how=\"left\",\n",
    "                    on=\"session_id\",\n",
    "                )\n",
    "                latest_yad_no = latest_yad_no.with_columns(\n",
    "                    pl.col(\"fold\").cast(pl.Int32)\n",
    "                )\n",
    "                # yado_dfとマージ\n",
    "                latest_yad_no = latest_yad_no.join(\n",
    "                    yado, how=\"left\", on=\"yad_no\"\n",
    "                )\n",
    "                latest_yad_no = latest_yad_no.rename({'yad_no':'latest_yad_no'})\n",
    "                display(latest_yad_no)\n",
    "                display(candidate)\n",
    "                candidate = latest_yad_no.join(\n",
    "                    candidate, how=\"inner\", on=[\"wid_cd\", \"fold\"]\n",
    "                )\n",
    "                display(candidate)\n",
    "            else:\n",
    "                latest_yad_no = (\n",
    "                    test_log.group_by(\"session_id\")\n",
    "                    .tail(1)\n",
    "                    .select([\"session_id\", \"yad_no\"])\n",
    "                )\n",
    "                latest_yad_no = latest_yad_no.join(\n",
    "                    yado, how=\"left\", on=\"yad_no\"\n",
    "                )\n",
    "                latest_yad_no = latest_yad_no.rename({'yad_no':'latest_yad_no'})\n",
    "                candidate = latest_yad_no.join(\n",
    "                    candidate, how=\"inner\", on=[\"wid_cd\"]\n",
    "                )\n",
    "            candidate_list[train_test].append(\n",
    "                candidate.select([\"session_id\", \"yad_no\"])\n",
    "            )\n",
    "        # エリア系のやつ\n",
    "        elif \"ken\" in candidate_name:\n",
    "            print(\"ken in candidate_name\")\n",
    "            if train_test == \"train\":\n",
    "                latest_yad_no = (\n",
    "                    train_log.group_by(\"session_id\")\n",
    "                    .tail(1)\n",
    "                    .select([\"session_id\", \"yad_no\"])\n",
    "                )\n",
    "                latest_yad_no = latest_yad_no.join(\n",
    "                    label.select([\"session_id\", \"fold\"]),\n",
    "                    how=\"left\",\n",
    "                    on=\"session_id\",\n",
    "                )\n",
    "                latest_yad_no = latest_yad_no.with_columns(\n",
    "                    pl.col(\"fold\").cast(pl.Int32)\n",
    "                )\n",
    "                # yado_dfとマージ\n",
    "                latest_yad_no = latest_yad_no.join(\n",
    "                    yado, how=\"left\", on=\"yad_no\"\n",
    "                )\n",
    "                latest_yad_no = latest_yad_no.rename({'yad_no':'latest_yad_no'})\n",
    "                candidate = latest_yad_no.join(\n",
    "                    candidate, how=\"inner\", on=[\"ken_cd\", \"fold\"]\n",
    "                )\n",
    "            else:\n",
    "                latest_yad_no = (\n",
    "                    test_log.group_by(\"session_id\")\n",
    "                    .tail(1)\n",
    "                    .select([\"session_id\", \"yad_no\"])\n",
    "                )\n",
    "                latest_yad_no = latest_yad_no.join(\n",
    "                    yado, how=\"left\", on=\"yad_no\"\n",
    "                )\n",
    "                latest_yad_no = latest_yad_no.rename({'yad_no':'latest_yad_no'})\n",
    "                candidate = latest_yad_no.join(\n",
    "                    candidate, how=\"inner\", on=[\"ken_cd\"]\n",
    "                )\n",
    "            candidate_list[train_test].append(\n",
    "                candidate.select([\"session_id\", \"yad_no\"])\n",
    "            )\n",
    "        # エリア系のやつ\n",
    "        elif \"lrg\" in candidate_name:\n",
    "            print(\"lrg in candidate_name\")\n",
    "            if train_test == \"train\":\n",
    "                latest_yad_no = (\n",
    "                    train_log.group_by(\"session_id\")\n",
    "                    .tail(1)\n",
    "                    .select([\"session_id\", \"yad_no\"])\n",
    "                )\n",
    "                latest_yad_no = latest_yad_no.join(\n",
    "                    label.select([\"session_id\", \"fold\"]),\n",
    "                    how=\"left\",\n",
    "                    on=\"session_id\",\n",
    "                )\n",
    "                latest_yad_no = latest_yad_no.with_columns(\n",
    "                    pl.col(\"fold\").cast(pl.Int32)\n",
    "                )\n",
    "                # yado_dfとマージ\n",
    "                latest_yad_no = latest_yad_no.join(\n",
    "                    yado, how=\"left\", on=\"yad_no\"\n",
    "                )\n",
    "                latest_yad_no = latest_yad_no.rename({'yad_no':'latest_yad_no'})\n",
    "                candidate = latest_yad_no.join(\n",
    "                    candidate, how=\"inner\", on=[\"lrg_cd\", \"fold\"]\n",
    "                )\n",
    "            else:\n",
    "                latest_yad_no = (\n",
    "                    test_log.group_by(\"session_id\")\n",
    "                    .tail(1)\n",
    "                    .select([\"session_id\", \"yad_no\"])\n",
    "                )\n",
    "                latest_yad_no = latest_yad_no.join(\n",
    "                    yado, how=\"left\", on=\"yad_no\"\n",
    "                )\n",
    "                latest_yad_no = latest_yad_no.rename({'yad_no':'latest_yad_no'})\n",
    "                candidate = latest_yad_no.join(\n",
    "                    candidate, how=\"inner\", on=[\"lrg_cd\"]\n",
    "                )\n",
    "            candidate_list[train_test].append(\n",
    "                candidate.select([\"session_id\", \"yad_no\"])\n",
    "            )\n",
    "        # エリア系のやつ\n",
    "        elif \"sml\" in candidate_name:\n",
    "            print(\"sml in candidate_name\")\n",
    "            if train_test == \"train\":\n",
    "                # 最後に見た宿を取得\n",
    "                latest_yad_no = (\n",
    "                    train_log.group_by(\"session_id\")\n",
    "                    .tail(1)\n",
    "                    .select([\"session_id\", \"yad_no\"])\n",
    "                )\n",
    "                # foldを付与\n",
    "                latest_yad_no = latest_yad_no.join(\n",
    "                    label.select([\"session_id\", \"fold\"]),\n",
    "                    how=\"left\",\n",
    "                    on=\"session_id\",\n",
    "                )\n",
    "                latest_yad_no = latest_yad_no.with_columns(\n",
    "                    pl.col(\"fold\").cast(pl.Int32)\n",
    "                )\n",
    "                # yado_dfとマージ\n",
    "                latest_yad_no = latest_yad_no.join(\n",
    "                    yado, how=\"left\", on=\"yad_no\"\n",
    "                )\n",
    "                latest_yad_no = latest_yad_no.rename({'yad_no':'latest_yad_no'})\n",
    "                candidate = latest_yad_no.join(\n",
    "                    candidate, how=\"inner\", on=[\"sml_cd\", \"fold\"]\n",
    "                )\n",
    "            else:\n",
    "                latest_yad_no = (\n",
    "                    test_log.group_by(\"session_id\")\n",
    "                    .tail(1)\n",
    "                    .select([\"session_id\", \"yad_no\"])\n",
    "                )\n",
    "                latest_yad_no = latest_yad_no.join(\n",
    "                    yado, how=\"left\", on=\"yad_no\"\n",
    "                )\n",
    "                latest_yad_no = latest_yad_no.rename({'yad_no':'latest_yad_no'})\n",
    "                candidate = latest_yad_no.join(\n",
    "                    candidate, how=\"inner\", on=[\"sml_cd\"]\n",
    "                )\n",
    "            candidate_list[train_test].append(\n",
    "                candidate.select([\"session_id\", \"yad_no\"])\n",
    "            )       \n",
    "        else:\n",
    "            if train_test == 'train':\n",
    "                if 'fold' in candidate.columns:\n",
    "                    candidate_all = pl.DataFrame()\n",
    "                    for fold in range(CFG.fold_num):\n",
    "                        candidate_fold = train_session_id.filter(pl.col('fold') == fold).join(candidate.filter(pl.col('fold') == fold).select(['yad_no']),how='cross')\n",
    "                        candidate_all = pl.concat([candidate_all,candidate_fold])\n",
    "            else:\n",
    "                candidate_all = test_session_id.join(candidate.select(['yad_no']),how='cross')\n",
    "            candidate_list[train_test].append(candidate_all.select(['session_id','yad_no']))"
   ]
  },
  {
   "cell_type": "code",
   "execution_count": 18,
   "id": "cf98a40d-e266-431c-90eb-3552fd0238b4",
   "metadata": {},
   "outputs": [],
   "source": [
    "train_candidate = pl.concat(candidate_list['train']).unique()\n",
    "test_candidate = pl.concat(candidate_list['test']).unique()"
   ]
  },
  {
   "cell_type": "code",
   "execution_count": 19,
   "id": "7f49a44f-48b2-43d6-9766-9fec190e55e7",
   "metadata": {},
   "outputs": [
    {
     "data": {
      "text/plain": [
       "0"
      ]
     },
     "execution_count": 19,
     "metadata": {},
     "output_type": "execute_result"
    }
   ],
   "source": [
    "del candidate_list\n",
    "gc.collect()"
   ]
  },
  {
   "cell_type": "markdown",
   "id": "9a06fccf-3a25-49f9-883d-b674554d2ec4",
   "metadata": {},
   "source": [
    "### 特徴量作成"
   ]
  },
  {
   "cell_type": "code",
   "execution_count": 20,
   "id": "87bd2955-0d55-4ba4-94c3-4ca4dc9e9757",
   "metadata": {},
   "outputs": [],
   "source": [
    "train_candidate = train_candidate.join(label.rename({'yad_no':'target'}),how='left',on='session_id')\n",
    "train_candidate = train_candidate.with_columns(pl.col('fold').cast(pl.Int32))\n",
    "train_candidate = train_candidate.with_columns((pl.col('yad_no') == pl.col('target')).alias('target').cast(pl.Int8))"
   ]
  },
  {
   "cell_type": "code",
   "execution_count": 21,
   "id": "fefc1e83-bddc-402d-a459-991fb06e1fd9",
   "metadata": {},
   "outputs": [],
   "source": [
    "train_latest_yad_no = train_log.group_by('session_id').tail(1).select(['session_id','yad_no']).rename({'yad_no':'latest_yad_no'})\n",
    "test_latest_yad_no = test_log.group_by('session_id').tail(1).select(['session_id','yad_no']).rename({'yad_no':'latest_yad_no'})"
   ]
  },
  {
   "cell_type": "code",
   "execution_count": 22,
   "id": "1c70d02c-d881-4cd8-b159-d6a9bf978be4",
   "metadata": {},
   "outputs": [],
   "source": [
    "train_candidate = train_candidate.join(train_latest_yad_no,how='left',on='session_id')\n",
    "test_candidate = test_candidate.join(test_latest_yad_no,how='left',on='session_id')"
   ]
  },
  {
   "cell_type": "code",
   "execution_count": 23,
   "id": "9a66fe65-0c0b-413c-8d71-039ab5f4b8b6",
   "metadata": {},
   "outputs": [],
   "source": [
    "feature_name_list = ['latest_next_booking_top20',\n",
    "                     'past_view_yado',\n",
    "                      'top20_popular_yado',\n",
    "                      'top10_wid_popular_yado',\n",
    "                      'top10_ken_popular_yado',\n",
    "                      'top10_lrg_popular_yado',\n",
    "                      'top10_sml_popular_yado']"
   ]
  },
  {
   "cell_type": "code",
   "execution_count": 24,
   "id": "08610f2e-c905-4293-93db-6a9696095cf1",
   "metadata": {},
   "outputs": [
    {
     "name": "stderr",
     "output_type": "stream",
     "text": [
      "100%|██████████| 7/7 [00:01<00:00,  5.06it/s]\n",
      "100%|██████████| 7/7 [00:00<00:00, 11.31it/s]\n"
     ]
    }
   ],
   "source": [
    "for train_test in ['train','test']:\n",
    "    for feature_name in tqdm(feature_name_list):\n",
    "        feature = pl.read_parquet(CFG.path_exp / f\"{train_test}_{feature_name}_feature.parquet\")\n",
    "        if train_test == 'train':\n",
    "            # for fold in range(CFG.fold_num):\n",
    "            if 'session_id' in feature.columns:\n",
    "                train_candidate = train_candidate.join(feature,how='left',on=['session_id','yad_no'])\n",
    "            elif 'latest_yad_no' in feature.columns:\n",
    "                train_candidate = train_candidate.join(feature,how='left',on=['fold','latest_yad_no','yad_no'])\n",
    "            else:\n",
    "                train_candidate = train_candidate.join(feature,how='left',on=['fold','yad_no'])\n",
    "        else:\n",
    "            if 'session_id' in feature.columns:\n",
    "                test_candidate = test_candidate.join(feature,how='left',on=['session_id','yad_no'])\n",
    "            elif 'latest_yad_no' in feature.columns:\n",
    "                test_candidate = test_candidate.join(feature,how='left',on=['latest_yad_no','yad_no'])\n",
    "            else:\n",
    "                test_candidate = test_candidate.join(feature,how='left',on=['yad_no'])"
   ]
  },
  {
   "cell_type": "code",
   "execution_count": 25,
   "id": "f0cc0013-3df3-4b55-9428-d13117c5b0f0",
   "metadata": {},
   "outputs": [],
   "source": [
    "train_candidate = train_candidate.fill_null(0)\n",
    "test_candidate = test_candidate.fill_null(0)"
   ]
  },
  {
   "cell_type": "code",
   "execution_count": 26,
   "id": "58a1d775-ef9d-42d9-98df-74812f58745a",
   "metadata": {},
   "outputs": [],
   "source": [
    "train_candidate = train_candidate.join(yado.select(['yad_no','yad_type','total_room_cnt','wireless_lan_flg','onsen_flg','kd_stn_5min','kd_bch_5min','kd_slp_5min','kd_conv_walk_5min']),how='left',on='yad_no')\n",
    "test_candidate = test_candidate.join(yado.select(['yad_no','yad_type','total_room_cnt','wireless_lan_flg','onsen_flg','kd_stn_5min','kd_bch_5min','kd_slp_5min','kd_conv_walk_5min']),how='left',on='yad_no')"
   ]
  },
  {
   "cell_type": "code",
   "execution_count": 27,
   "metadata": {},
   "outputs": [],
   "source": [
    "# 各seqで見た宿を特徴量にする\n",
    "for seq in range(8):\n",
    "    seq_yad_no = train_log.filter(pl.col('seq_no') == seq).select(['session_id','yad_no']).rename({'yad_no':f'seq_{seq}_yad_no'})\n",
    "    train_candidate = train_candidate.join(seq_yad_no,how='left',on='session_id')\n",
    "\n",
    "    seq_yad_no = test_log.filter(pl.col('seq_no') == seq).select(['session_id','yad_no']).rename({'yad_no':f'seq_{seq}_yad_no'})\n",
    "    test_candidate = test_candidate.join(seq_yad_no,how='left',on='session_id')"
   ]
  },
  {
   "cell_type": "code",
   "execution_count": 28,
   "metadata": {},
   "outputs": [],
   "source": [
    "def create_num_picture_df(yado_df):\n",
    "    # yad_noとcategoryごとのデータ件数\n",
    "    _df = yado_df.group_by([\"yad_no\", \"category\"]).count()\n",
    "\n",
    "    # ピボットテーブルに変換\n",
    "    num_picture_df = _df.pivot(\"count\", \"yad_no\", \"category\", \"sum\").sort(\"yad_no\")\n",
    "\n",
    "    # 欠損を0で埋める\n",
    "    num_picture_df = num_picture_df.fill_null(0)\n",
    "\n",
    "    return num_picture_df"
   ]
  },
  {
   "cell_type": "code",
   "execution_count": 29,
   "metadata": {},
   "outputs": [],
   "source": [
    "# 各カテゴリの画像枚数\n",
    "num_picture_df = create_num_picture_df(yado_embedding)\n",
    "\n",
    "# 画像枚数を結合\n",
    "train_candidate = train_candidate.join(num_picture_df, how=\"left\", on=\"yad_no\")\n",
    "test_candidate = test_candidate.join(num_picture_df, how=\"left\", on=\"yad_no\")"
   ]
  },
  {
   "cell_type": "code",
   "execution_count": 30,
   "metadata": {},
   "outputs": [
    {
     "data": {
      "text/html": [
       "<div><style>\n",
       ".dataframe > thead > tr,\n",
       ".dataframe > tbody > tr {\n",
       "  text-align: right;\n",
       "  white-space: pre-wrap;\n",
       "}\n",
       "</style>\n",
       "<small>shape: (9_623_201, 40)</small><table border=\"1\" class=\"dataframe\"><thead><tr><th>session_id</th><th>yad_no</th><th>target</th><th>fold</th><th>latest_yad_no</th><th>latest_next_booking_rank</th><th>max_seq_no</th><th>max_seq_no_diff</th><th>session_view_count</th><th>reservation_counts</th><th>popular_rank</th><th>wid_cd</th><th>popular_wid_cd_rank</th><th>ken_cd</th><th>popular_ken_cd_rank</th><th>lrg_cd</th><th>popular_lrg_cd_rank</th><th>sml_cd</th><th>popular_sml_cd_rank</th><th>yad_type</th><th>total_room_cnt</th><th>wireless_lan_flg</th><th>onsen_flg</th><th>kd_stn_5min</th><th>kd_bch_5min</th><th>kd_slp_5min</th><th>kd_conv_walk_5min</th><th>seq_0_yad_no</th><th>seq_1_yad_no</th><th>seq_2_yad_no</th><th>seq_3_yad_no</th><th>seq_4_yad_no</th><th>seq_5_yad_no</th><th>seq_6_yad_no</th><th>seq_7_yad_no</th><th>room</th><th>facility</th><th>food</th><th>exterior</th><th>others</th></tr><tr><td>str</td><td>i64</td><td>i8</td><td>i32</td><td>i64</td><td>u32</td><td>i64</td><td>i64</td><td>u32</td><td>u32</td><td>i64</td><td>str</td><td>u32</td><td>str</td><td>u32</td><td>str</td><td>u32</td><td>str</td><td>u32</td><td>i64</td><td>f64</td><td>f64</td><td>i64</td><td>f64</td><td>f64</td><td>f64</td><td>f64</td><td>i64</td><td>i64</td><td>i64</td><td>i64</td><td>i64</td><td>i64</td><td>i64</td><td>i64</td><td>u32</td><td>u32</td><td>u32</td><td>u32</td><td>u32</td></tr></thead><tbody><tr><td>&quot;005d9c6b7d2b81…</td><td>13757</td><td>1</td><td>3</td><td>6378</td><td>6</td><td>1</td><td>1</td><td>1</td><td>44</td><td>1368</td><td>&quot;46e33861f921c3…</td><td>117</td><td>&quot;107c7305a74c8d…</td><td>83</td><td>&quot;e2034d4f2fbe08…</td><td>40</td><td>&quot;086904b20a91b5…</td><td>33</td><td>0</td><td>130.0</td><td>1.0</td><td>0</td><td>1.0</td><td>null</td><td>null</td><td>1.0</td><td>13757</td><td>6378</td><td>null</td><td>null</td><td>null</td><td>null</td><td>null</td><td>null</td><td>3</td><td>3</td><td>0</td><td>3</td><td>0</td></tr><tr><td>&quot;00b7614e6f6dbb…</td><td>5169</td><td>1</td><td>1</td><td>990</td><td>2</td><td>1</td><td>1</td><td>1</td><td>28</td><td>2749</td><td>&quot;f0112abf369fb0…</td><td>113</td><td>&quot;fec19ba0016c01…</td><td>11</td><td>&quot;9cb0bdd21ca9db…</td><td>3</td><td>&quot;4e1d384ad60758…</td><td>3</td><td>0</td><td>113.0</td><td>1.0</td><td>0</td><td>1.0</td><td>null</td><td>null</td><td>1.0</td><td>5169</td><td>990</td><td>null</td><td>null</td><td>null</td><td>null</td><td>null</td><td>null</td><td>3</td><td>3</td><td>3</td><td>3</td><td>3</td></tr><tr><td>&quot;00bc5b5004cec6…</td><td>532</td><td>0</td><td>4</td><td>13468</td><td>3</td><td>1</td><td>1</td><td>1</td><td>202</td><td>21</td><td>&quot;46e33861f921c3…</td><td>13</td><td>&quot;572d60f0f5212a…</td><td>8</td><td>&quot;8a623b960557e8…</td><td>8</td><td>&quot;1d9f09b9e2bd43…</td><td>7</td><td>0</td><td>427.0</td><td>1.0</td><td>0</td><td>1.0</td><td>null</td><td>null</td><td>null</td><td>532</td><td>13468</td><td>null</td><td>null</td><td>null</td><td>null</td><td>null</td><td>null</td><td>2</td><td>2</td><td>2</td><td>3</td><td>2</td></tr><tr><td>&quot;00c364a9d0297c…</td><td>7500</td><td>1</td><td>2</td><td>8387</td><td>4</td><td>1</td><td>1</td><td>1</td><td>33</td><td>2150</td><td>&quot;321b69d5eec98f…</td><td>37</td><td>&quot;39c3eb151762dd…</td><td>11</td><td>&quot;d9c4641b191036…</td><td>11</td><td>&quot;4a22094c55f841…</td><td>11</td><td>0</td><td>165.0</td><td>1.0</td><td>0</td><td>1.0</td><td>null</td><td>null</td><td>1.0</td><td>7500</td><td>8387</td><td>null</td><td>null</td><td>null</td><td>null</td><td>null</td><td>null</td><td>3</td><td>3</td><td>3</td><td>3</td><td>0</td></tr><tr><td>&quot;01105b9be97cda…</td><td>5944</td><td>1</td><td>0</td><td>6199</td><td>0</td><td>1</td><td>1</td><td>1</td><td>65</td><td>574</td><td>&quot;46e33861f921c3…</td><td>84</td><td>&quot;c86352f5b57e80…</td><td>35</td><td>&quot;9d6a46da05976c…</td><td>30</td><td>&quot;568887ea1e1d8c…</td><td>23</td><td>0</td><td>2311.0</td><td>1.0</td><td>0</td><td>1.0</td><td>null</td><td>null</td><td>1.0</td><td>5944</td><td>6199</td><td>null</td><td>null</td><td>null</td><td>null</td><td>null</td><td>null</td><td>2</td><td>3</td><td>1</td><td>3</td><td>3</td></tr><tr><td>&quot;0122e6a77b1d1d…</td><td>6874</td><td>1</td><td>0</td><td>899</td><td>3</td><td>1</td><td>1</td><td>1</td><td>55</td><td>859</td><td>&quot;3300cf6f774b7c…</td><td>20</td><td>&quot;013592a15b9a68…</td><td>7</td><td>&quot;989ce3ae2fc5f1…</td><td>2</td><td>&quot;ed85e7b17b271d…</td><td>2</td><td>0</td><td>212.0</td><td>1.0</td><td>0</td><td>1.0</td><td>null</td><td>null</td><td>1.0</td><td>6874</td><td>899</td><td>null</td><td>null</td><td>null</td><td>null</td><td>null</td><td>null</td><td>3</td><td>3</td><td>3</td><td>2</td><td>3</td></tr><tr><td>&quot;013f4c724e4859…</td><td>3684</td><td>0</td><td>0</td><td>3684</td><td>0</td><td>2</td><td>2</td><td>2</td><td>27</td><td>2898</td><td>&quot;8a1c0d3243bba1…</td><td>47</td><td>&quot;ce83563814cff3…</td><td>39</td><td>&quot;bd351c18d73441…</td><td>7</td><td>&quot;6b2f1db7e5052f…</td><td>7</td><td>0</td><td>110.0</td><td>1.0</td><td>0</td><td>1.0</td><td>null</td><td>null</td><td>1.0</td><td>3684</td><td>4724</td><td>3684</td><td>null</td><td>null</td><td>null</td><td>null</td><td>null</td><td>3</td><td>2</td><td>3</td><td>3</td><td>3</td></tr><tr><td>&quot;0162c0cd66b027…</td><td>6867</td><td>1</td><td>0</td><td>301</td><td>2</td><td>1</td><td>1</td><td>1</td><td>26</td><td>3007</td><td>&quot;43875109d1dab9…</td><td>36</td><td>&quot;3b09a7ce9934c0…</td><td>19</td><td>&quot;c0e203c17b3a41…</td><td>19</td><td>&quot;991bd5d1842a49…</td><td>6</td><td>0</td><td>43.0</td><td>1.0</td><td>1</td><td>1.0</td><td>null</td><td>null</td><td>1.0</td><td>6867</td><td>301</td><td>null</td><td>null</td><td>null</td><td>null</td><td>null</td><td>null</td><td>3</td><td>3</td><td>3</td><td>3</td><td>2</td></tr><tr><td>&quot;017dd1525b8161…</td><td>5905</td><td>0</td><td>4</td><td>1571</td><td>2</td><td>1</td><td>1</td><td>1</td><td>16</td><td>4728</td><td>&quot;f0112abf369fb0…</td><td>128</td><td>&quot;ade0e32ad9713b…</td><td>28</td><td>&quot;c7e01c55c5c28c…</td><td>1</td><td>&quot;0ea610f6ce9d4b…</td><td>1</td><td>0</td><td>82.0</td><td>1.0</td><td>0</td><td>null</td><td>null</td><td>null</td><td>1.0</td><td>5905</td><td>1571</td><td>null</td><td>null</td><td>null</td><td>null</td><td>null</td><td>null</td><td>1</td><td>2</td><td>1</td><td>3</td><td>3</td></tr><tr><td>&quot;018799b8512f88…</td><td>9121</td><td>1</td><td>4</td><td>2198</td><td>2</td><td>1</td><td>1</td><td>1</td><td>13</td><td>5353</td><td>&quot;321b69d5eec98f…</td><td>62</td><td>&quot;0745a2107686fc…</td><td>49</td><td>&quot;bd9ca9b95bfc52…</td><td>17</td><td>&quot;b731123b3a8076…</td><td>15</td><td>0</td><td>116.0</td><td>1.0</td><td>1</td><td>null</td><td>null</td><td>null</td><td>1.0</td><td>9121</td><td>2198</td><td>null</td><td>null</td><td>null</td><td>null</td><td>null</td><td>null</td><td>3</td><td>2</td><td>3</td><td>3</td><td>3</td></tr><tr><td>&quot;01a15d68370f36…</td><td>4785</td><td>1</td><td>2</td><td>1022</td><td>0</td><td>1</td><td>1</td><td>1</td><td>54</td><td>882</td><td>&quot;3300cf6f774b7c…</td><td>18</td><td>&quot;013592a15b9a68…</td><td>6</td><td>&quot;6d7e40c7eae769…</td><td>2</td><td>&quot;73d0b2ebb84e0a…</td><td>2</td><td>0</td><td>31.0</td><td>1.0</td><td>1</td><td>null</td><td>null</td><td>null</td><td>1.0</td><td>4785</td><td>1022</td><td>null</td><td>null</td><td>null</td><td>null</td><td>null</td><td>null</td><td>3</td><td>3</td><td>3</td><td>3</td><td>2</td></tr><tr><td>&quot;01ee52bad90f33…</td><td>3416</td><td>0</td><td>1</td><td>12689</td><td>3</td><td>2</td><td>1</td><td>1</td><td>12</td><td>5558</td><td>&quot;c312e07b7a5d45…</td><td>86</td><td>&quot;3acaaea4dab889…</td><td>39</td><td>&quot;fba1987cb5056b…</td><td>4</td><td>&quot;887439999a3cdf…</td><td>4</td><td>0</td><td>74.0</td><td>1.0</td><td>0</td><td>1.0</td><td>null</td><td>null</td><td>1.0</td><td>11294</td><td>3416</td><td>12689</td><td>null</td><td>null</td><td>null</td><td>null</td><td>null</td><td>3</td><td>3</td><td>3</td><td>3</td><td>3</td></tr><tr><td>&hellip;</td><td>&hellip;</td><td>&hellip;</td><td>&hellip;</td><td>&hellip;</td><td>&hellip;</td><td>&hellip;</td><td>&hellip;</td><td>&hellip;</td><td>&hellip;</td><td>&hellip;</td><td>&hellip;</td><td>&hellip;</td><td>&hellip;</td><td>&hellip;</td><td>&hellip;</td><td>&hellip;</td><td>&hellip;</td><td>&hellip;</td><td>&hellip;</td><td>&hellip;</td><td>&hellip;</td><td>&hellip;</td><td>&hellip;</td><td>&hellip;</td><td>&hellip;</td><td>&hellip;</td><td>&hellip;</td><td>&hellip;</td><td>&hellip;</td><td>&hellip;</td><td>&hellip;</td><td>&hellip;</td><td>&hellip;</td><td>&hellip;</td><td>&hellip;</td><td>&hellip;</td><td>&hellip;</td><td>&hellip;</td><td>&hellip;</td></tr><tr><td>&quot;4ddceaefe411ec…</td><td>4065</td><td>0</td><td>4</td><td>13803</td><td>3</td><td>0</td><td>0</td><td>0</td><td>89</td><td>252</td><td>&quot;dc414a17890cfc…</td><td>21</td><td>&quot;d78f53d0856617…</td><td>21</td><td>&quot;e5cfcc0a43c820…</td><td>21</td><td>&quot;1a0132cb9c2c6d…</td><td>15</td><td>0</td><td>230.0</td><td>1.0</td><td>0</td><td>1.0</td><td>null</td><td>null</td><td>1.0</td><td>13803</td><td>null</td><td>null</td><td>null</td><td>null</td><td>null</td><td>null</td><td>null</td><td>3</td><td>0</td><td>3</td><td>3</td><td>1</td></tr><tr><td>&quot;23850a1b10757b…</td><td>3389</td><td>0</td><td>4</td><td>13804</td><td>2</td><td>0</td><td>0</td><td>0</td><td>8</td><td>6852</td><td>&quot;d86102dd9c232b…</td><td>97</td><td>&quot;7d76599bd27ff9…</td><td>33</td><td>&quot;c5fe8848b6ab39…</td><td>26</td><td>&quot;b3eab50ccf6ffb…</td><td>25</td><td>0</td><td>16.0</td><td>null</td><td>1</td><td>null</td><td>1.0</td><td>null</td><td>1.0</td><td>13804</td><td>null</td><td>null</td><td>null</td><td>null</td><td>null</td><td>null</td><td>null</td><td>3</td><td>3</td><td>2</td><td>3</td><td>3</td></tr><tr><td>&quot;23850a1b10757b…</td><td>6349</td><td>0</td><td>4</td><td>13804</td><td>3</td><td>0</td><td>0</td><td>0</td><td>21</td><td>3711</td><td>&quot;d86102dd9c232b…</td><td>80</td><td>&quot;7d76599bd27ff9…</td><td>18</td><td>&quot;c5fe8848b6ab39…</td><td>14</td><td>&quot;b3eab50ccf6ffb…</td><td>13</td><td>0</td><td>55.0</td><td>null</td><td>1</td><td>null</td><td>1.0</td><td>null</td><td>1.0</td><td>13804</td><td>null</td><td>null</td><td>null</td><td>null</td><td>null</td><td>null</td><td>null</td><td>3</td><td>3</td><td>3</td><td>3</td><td>2</td></tr><tr><td>&quot;8e18f47edfad72…</td><td>11383</td><td>0</td><td>4</td><td>13804</td><td>3</td><td>0</td><td>0</td><td>0</td><td>18</td><td>4189</td><td>&quot;d86102dd9c232b…</td><td>82</td><td>&quot;7d76599bd27ff9…</td><td>20</td><td>&quot;c5fe8848b6ab39…</td><td>15</td><td>&quot;b3eab50ccf6ffb…</td><td>14</td><td>0</td><td>50.0</td><td>1.0</td><td>0</td><td>1.0</td><td>null</td><td>null</td><td>1.0</td><td>13804</td><td>null</td><td>null</td><td>null</td><td>null</td><td>null</td><td>null</td><td>null</td><td>3</td><td>3</td><td>3</td><td>3</td><td>3</td></tr><tr><td>&quot;2a0a73d4b5a388…</td><td>10727</td><td>0</td><td>4</td><td>13804</td><td>3</td><td>0</td><td>0</td><td>0</td><td>14</td><td>5104</td><td>&quot;d86102dd9c232b…</td><td>82</td><td>&quot;7d76599bd27ff9…</td><td>20</td><td>&quot;c5fe8848b6ab39…</td><td>15</td><td>&quot;b3eab50ccf6ffb…</td><td>14</td><td>0</td><td>27.0</td><td>null</td><td>0</td><td>null</td><td>null</td><td>null</td><td>null</td><td>9181</td><td>13804</td><td>null</td><td>null</td><td>null</td><td>null</td><td>null</td><td>null</td><td>3</td><td>3</td><td>3</td><td>2</td><td>3</td></tr><tr><td>&quot;3d79dd87e6377e…</td><td>10137</td><td>0</td><td>4</td><td>13804</td><td>3</td><td>0</td><td>0</td><td>0</td><td>30</td><td>2563</td><td>&quot;d86102dd9c232b…</td><td>73</td><td>&quot;7d76599bd27ff9…</td><td>13</td><td>&quot;c5fe8848b6ab39…</td><td>11</td><td>&quot;b3eab50ccf6ffb…</td><td>10</td><td>0</td><td>220.0</td><td>null</td><td>0</td><td>1.0</td><td>null</td><td>null</td><td>1.0</td><td>518</td><td>13804</td><td>null</td><td>null</td><td>null</td><td>null</td><td>null</td><td>null</td><td>3</td><td>3</td><td>3</td><td>3</td><td>3</td></tr><tr><td>&quot;23850a1b10757b…</td><td>8908</td><td>0</td><td>4</td><td>13804</td><td>3</td><td>0</td><td>0</td><td>0</td><td>15</td><td>4788</td><td>&quot;d86102dd9c232b…</td><td>85</td><td>&quot;7d76599bd27ff9…</td><td>21</td><td>&quot;c5fe8848b6ab39…</td><td>16</td><td>&quot;b3eab50ccf6ffb…</td><td>15</td><td>0</td><td>66.0</td><td>1.0</td><td>1</td><td>null</td><td>1.0</td><td>null</td><td>1.0</td><td>13804</td><td>null</td><td>null</td><td>null</td><td>null</td><td>null</td><td>null</td><td>null</td><td>3</td><td>3</td><td>2</td><td>3</td><td>2</td></tr><tr><td>&quot;3d79dd87e6377e…</td><td>8908</td><td>0</td><td>4</td><td>13804</td><td>3</td><td>0</td><td>0</td><td>0</td><td>15</td><td>4788</td><td>&quot;d86102dd9c232b…</td><td>85</td><td>&quot;7d76599bd27ff9…</td><td>21</td><td>&quot;c5fe8848b6ab39…</td><td>16</td><td>&quot;b3eab50ccf6ffb…</td><td>15</td><td>0</td><td>66.0</td><td>1.0</td><td>1</td><td>null</td><td>1.0</td><td>null</td><td>1.0</td><td>518</td><td>13804</td><td>null</td><td>null</td><td>null</td><td>null</td><td>null</td><td>null</td><td>3</td><td>3</td><td>2</td><td>3</td><td>2</td></tr><tr><td>&quot;23850a1b10757b…</td><td>376</td><td>0</td><td>4</td><td>13804</td><td>3</td><td>0</td><td>0</td><td>0</td><td>16</td><td>4580</td><td>&quot;d86102dd9c232b…</td><td>86</td><td>&quot;7d76599bd27ff9…</td><td>22</td><td>&quot;c5fe8848b6ab39…</td><td>17</td><td>&quot;b3eab50ccf6ffb…</td><td>16</td><td>0</td><td>32.0</td><td>1.0</td><td>1</td><td>null</td><td>1.0</td><td>null</td><td>1.0</td><td>13804</td><td>null</td><td>null</td><td>null</td><td>null</td><td>null</td><td>null</td><td>null</td><td>1</td><td>3</td><td>3</td><td>3</td><td>3</td></tr><tr><td>&quot;3b357e094d6ee6…</td><td>7758</td><td>0</td><td>4</td><td>13804</td><td>3</td><td>0</td><td>0</td><td>0</td><td>10</td><td>6261</td><td>&quot;d86102dd9c232b…</td><td>92</td><td>&quot;7d76599bd27ff9…</td><td>28</td><td>&quot;c5fe8848b6ab39…</td><td>21</td><td>&quot;b3eab50ccf6ffb…</td><td>20</td><td>0</td><td>19.0</td><td>1.0</td><td>1</td><td>null</td><td>1.0</td><td>null</td><td>1.0</td><td>13804</td><td>null</td><td>null</td><td>null</td><td>null</td><td>null</td><td>null</td><td>null</td><td>3</td><td>3</td><td>2</td><td>3</td><td>3</td></tr><tr><td>&quot;3d79dd87e6377e…</td><td>4984</td><td>0</td><td>4</td><td>13804</td><td>3</td><td>0</td><td>0</td><td>0</td><td>10</td><td>6301</td><td>&quot;d86102dd9c232b…</td><td>91</td><td>&quot;7d76599bd27ff9…</td><td>27</td><td>&quot;c5fe8848b6ab39…</td><td>20</td><td>&quot;b3eab50ccf6ffb…</td><td>19</td><td>0</td><td>31.0</td><td>1.0</td><td>1</td><td>null</td><td>1.0</td><td>null</td><td>1.0</td><td>518</td><td>13804</td><td>null</td><td>null</td><td>null</td><td>null</td><td>null</td><td>null</td><td>3</td><td>2</td><td>2</td><td>3</td><td>3</td></tr><tr><td>&quot;8e18f47edfad72…</td><td>4984</td><td>0</td><td>4</td><td>13804</td><td>3</td><td>0</td><td>0</td><td>0</td><td>10</td><td>6301</td><td>&quot;d86102dd9c232b…</td><td>91</td><td>&quot;7d76599bd27ff9…</td><td>27</td><td>&quot;c5fe8848b6ab39…</td><td>20</td><td>&quot;b3eab50ccf6ffb…</td><td>19</td><td>0</td><td>31.0</td><td>1.0</td><td>1</td><td>null</td><td>1.0</td><td>null</td><td>1.0</td><td>13804</td><td>null</td><td>null</td><td>null</td><td>null</td><td>null</td><td>null</td><td>null</td><td>3</td><td>2</td><td>2</td><td>3</td><td>3</td></tr></tbody></table></div>"
      ],
      "text/plain": [
       "shape: (9_623_201, 40)\n",
       "┌───────────────────────────────┬────────┬────────┬──────┬───┬──────────┬──────┬──────────┬────────┐\n",
       "│ session_id                    ┆ yad_no ┆ target ┆ fold ┆ … ┆ facility ┆ food ┆ exterior ┆ others │\n",
       "│ ---                           ┆ ---    ┆ ---    ┆ ---  ┆   ┆ ---      ┆ ---  ┆ ---      ┆ ---    │\n",
       "│ str                           ┆ i64    ┆ i8     ┆ i32  ┆   ┆ u32      ┆ u32  ┆ u32      ┆ u32    │\n",
       "╞═══════════════════════════════╪════════╪════════╪══════╪═══╪══════════╪══════╪══════════╪════════╡\n",
       "│ 005d9c6b7d2b810bec53415d889b8 ┆ 13757  ┆ 1      ┆ 3    ┆ … ┆ 3        ┆ 0    ┆ 3        ┆ 0      │\n",
       "│ 93f                           ┆        ┆        ┆      ┆   ┆          ┆      ┆          ┆        │\n",
       "│ 00b7614e6f6dbbd7c59fa161d6243 ┆ 5169   ┆ 1      ┆ 1    ┆ … ┆ 3        ┆ 3    ┆ 3        ┆ 3      │\n",
       "│ 3e6                           ┆        ┆        ┆      ┆   ┆          ┆      ┆          ┆        │\n",
       "│ 00bc5b5004cec6eeab375ff379dcd ┆ 532    ┆ 0      ┆ 4    ┆ … ┆ 2        ┆ 2    ┆ 3        ┆ 2      │\n",
       "│ be8                           ┆        ┆        ┆      ┆   ┆          ┆      ┆          ┆        │\n",
       "│ 00c364a9d0297cb7a189cf1283635 ┆ 7500   ┆ 1      ┆ 2    ┆ … ┆ 3        ┆ 3    ┆ 3        ┆ 0      │\n",
       "│ d0b                           ┆        ┆        ┆      ┆   ┆          ┆      ┆          ┆        │\n",
       "│ …                             ┆ …      ┆ …      ┆ …    ┆ … ┆ …        ┆ …    ┆ …        ┆ …      │\n",
       "│ 23850a1b10757be85a21b38c1ff8c ┆ 376    ┆ 0      ┆ 4    ┆ … ┆ 3        ┆ 3    ┆ 3        ┆ 3      │\n",
       "│ 7e2                           ┆        ┆        ┆      ┆   ┆          ┆      ┆          ┆        │\n",
       "│ 3b357e094d6ee64de96d2c3eb0a77 ┆ 7758   ┆ 0      ┆ 4    ┆ … ┆ 3        ┆ 2    ┆ 3        ┆ 3      │\n",
       "│ 525                           ┆        ┆        ┆      ┆   ┆          ┆      ┆          ┆        │\n",
       "│ 3d79dd87e6377e2e356a1783fbe24 ┆ 4984   ┆ 0      ┆ 4    ┆ … ┆ 2        ┆ 2    ┆ 3        ┆ 3      │\n",
       "│ b6f                           ┆        ┆        ┆      ┆   ┆          ┆      ┆          ┆        │\n",
       "│ 8e18f47edfad72e6b344e39f12887 ┆ 4984   ┆ 0      ┆ 4    ┆ … ┆ 2        ┆ 2    ┆ 3        ┆ 3      │\n",
       "│ 899                           ┆        ┆        ┆      ┆   ┆          ┆      ┆          ┆        │\n",
       "└───────────────────────────────┴────────┴────────┴──────┴───┴──────────┴──────┴──────────┴────────┘"
      ]
     },
     "execution_count": 30,
     "metadata": {},
     "output_type": "execute_result"
    }
   ],
   "source": [
    "train_candidate"
   ]
  },
  {
   "cell_type": "code",
   "execution_count": 31,
   "id": "dd404678-f068-4fd1-951d-f4f1bc47f2d8",
   "metadata": {},
   "outputs": [],
   "source": [
    "# 特徴量保存\n",
    "train_candidate.write_parquet(CFG.path_exp / \"train_candidate.parquet\")\n",
    "test_candidate.write_parquet(CFG.path_exp / \"test_candidate.parquet\")"
   ]
  },
  {
   "cell_type": "code",
   "execution_count": 32,
   "metadata": {},
   "outputs": [
    {
     "data": {
      "text/plain": [
       "(9623201, 40)"
      ]
     },
     "execution_count": 32,
     "metadata": {},
     "output_type": "execute_result"
    }
   ],
   "source": [
    "train_candidate.shape"
   ]
  },
  {
   "cell_type": "code",
   "execution_count": 33,
   "id": "be3efe20-6311-41c7-9854-10b8c8d5844b",
   "metadata": {},
   "outputs": [
    {
     "data": {
      "text/plain": [
       "0.6588753645678183"
      ]
     },
     "execution_count": 33,
     "metadata": {},
     "output_type": "execute_result"
    }
   ],
   "source": [
    "train_candidate.get_column(\"target\").sum() / len(label)"
   ]
  },
  {
   "cell_type": "markdown",
   "id": "3e26c682-1ac1-44ea-aefd-13c5b6bb6892",
   "metadata": {},
   "source": [
    "## ReRankモデル"
   ]
  },
  {
   "cell_type": "code",
   "execution_count": 34,
   "id": "2ef91027-dc31-487a-b356-7ad71263eaaa",
   "metadata": {},
   "outputs": [],
   "source": [
    "train = pl.read_parquet(CFG.path_exp / \"train_candidate.parquet\")\n",
    "test = pl.read_parquet(CFG.path_exp / \"test_candidate.parquet\")"
   ]
  },
  {
   "cell_type": "code",
   "execution_count": 35,
   "id": "9cf97e5e-07c0-4023-adbb-7bcfaa4627e2",
   "metadata": {},
   "outputs": [],
   "source": [
    "# session_id単位でtarge=1がなければ、session_idごと削除\n",
    "use_session_ids = train.group_by('session_id').agg(pl.col('target').sum()).filter(pl.col('target') == 1)['session_id']"
   ]
  },
  {
   "cell_type": "markdown",
   "id": "9e68de01-ec52-473c-81a3-16faa7d9eb5f",
   "metadata": {},
   "source": [
    "### Lightgbmで学習"
   ]
  },
  {
   "cell_type": "code",
   "execution_count": 36,
   "id": "bad20397-00d2-4a1f-8e3c-d9102f3f90ac",
   "metadata": {},
   "outputs": [
    {
     "name": "stdout",
     "output_type": "stream",
     "text": [
      "[LightGBM] [Warning] Categorical features with more bins than the configured maximum bin number found.\n",
      "[LightGBM] [Warning] For categorical features, max_bin and max_bin_by_feature may be ignored with a large number of categories.\n",
      "[LightGBM] [Info] Number of positive: 152000, number of negative: 4926141\n",
      "[LightGBM] [Info] Auto-choosing row-wise multi-threading, the overhead of testing was 0.242204 seconds.\n",
      "You can set `force_row_wise=true` to remove the overhead.\n",
      "And if memory is not enough, you can set `force_col_wise=true`.\n",
      "[LightGBM] [Info] Total Bins 21140\n",
      "[LightGBM] [Info] Number of data points in the train set: 5078141, number of used features: 37\n",
      "[LightGBM] [Info] [binary:BoostFromScore]: pavg=0.029932 -> initscore=-3.478431\n",
      "[LightGBM] [Info] Start training from score -3.478431\n",
      "Training until validation scores don't improve for 200 rounds\n",
      "Early stopping, best iteration is:\n",
      "[493]\ttrain's auc: 0.970618\tvalid's auc: 0.915065\n",
      "[LightGBM] [Warning] Categorical features with more bins than the configured maximum bin number found.\n",
      "[LightGBM] [Warning] For categorical features, max_bin and max_bin_by_feature may be ignored with a large number of categories.\n",
      "[LightGBM] [Info] Number of positive: 152261, number of negative: 4934961\n",
      "[LightGBM] [Info] Auto-choosing row-wise multi-threading, the overhead of testing was 0.161178 seconds.\n",
      "You can set `force_row_wise=true` to remove the overhead.\n",
      "And if memory is not enough, you can set `force_col_wise=true`.\n",
      "[LightGBM] [Info] Total Bins 21095\n",
      "[LightGBM] [Info] Number of data points in the train set: 5087222, number of used features: 37\n",
      "[LightGBM] [Info] [binary:BoostFromScore]: pavg=0.029930 -> initscore=-3.478504\n",
      "[LightGBM] [Info] Start training from score -3.478504\n",
      "Training until validation scores don't improve for 200 rounds\n",
      "Early stopping, best iteration is:\n",
      "[680]\ttrain's auc: 0.975302\tvalid's auc: 0.91511\n",
      "[LightGBM] [Warning] Categorical features with more bins than the configured maximum bin number found.\n",
      "[LightGBM] [Warning] For categorical features, max_bin and max_bin_by_feature may be ignored with a large number of categories.\n",
      "[LightGBM] [Info] Number of positive: 152058, number of negative: 4929703\n",
      "[LightGBM] [Info] Auto-choosing row-wise multi-threading, the overhead of testing was 0.224051 seconds.\n",
      "You can set `force_row_wise=true` to remove the overhead.\n",
      "And if memory is not enough, you can set `force_col_wise=true`.\n",
      "[LightGBM] [Info] Total Bins 21044\n",
      "[LightGBM] [Info] Number of data points in the train set: 5081761, number of used features: 37\n",
      "[LightGBM] [Info] [binary:BoostFromScore]: pavg=0.029922 -> initscore=-3.478772\n",
      "[LightGBM] [Info] Start training from score -3.478772\n",
      "Training until validation scores don't improve for 200 rounds\n",
      "Early stopping, best iteration is:\n",
      "[219]\ttrain's auc: 0.954787\tvalid's auc: 0.915534\n",
      "[LightGBM] [Warning] Categorical features with more bins than the configured maximum bin number found.\n",
      "[LightGBM] [Warning] For categorical features, max_bin and max_bin_by_feature may be ignored with a large number of categories.\n",
      "[LightGBM] [Info] Number of positive: 152195, number of negative: 4931120\n",
      "[LightGBM] [Info] Auto-choosing row-wise multi-threading, the overhead of testing was 0.156026 seconds.\n",
      "You can set `force_row_wise=true` to remove the overhead.\n",
      "And if memory is not enough, you can set `force_col_wise=true`.\n",
      "[LightGBM] [Info] Total Bins 21130\n",
      "[LightGBM] [Info] Number of data points in the train set: 5083315, number of used features: 37\n",
      "[LightGBM] [Info] [binary:BoostFromScore]: pavg=0.029940 -> initscore=-3.478159\n",
      "[LightGBM] [Info] Start training from score -3.478159\n",
      "Training until validation scores don't improve for 200 rounds\n",
      "Early stopping, best iteration is:\n",
      "[657]\ttrain's auc: 0.975283\tvalid's auc: 0.916718\n",
      "[LightGBM] [Warning] Categorical features with more bins than the configured maximum bin number found.\n",
      "[LightGBM] [Warning] For categorical features, max_bin and max_bin_by_feature may be ignored with a large number of categories.\n",
      "[LightGBM] [Info] Number of positive: 152350, number of negative: 4935919\n",
      "[LightGBM] [Info] Auto-choosing row-wise multi-threading, the overhead of testing was 0.151018 seconds.\n",
      "You can set `force_row_wise=true` to remove the overhead.\n",
      "And if memory is not enough, you can set `force_col_wise=true`.\n",
      "[LightGBM] [Info] Total Bins 21096\n",
      "[LightGBM] [Info] Number of data points in the train set: 5088269, number of used features: 37\n",
      "[LightGBM] [Info] [binary:BoostFromScore]: pavg=0.029941 -> initscore=-3.478114\n",
      "[LightGBM] [Info] Start training from score -3.478114\n",
      "Training until validation scores don't improve for 200 rounds\n",
      "Early stopping, best iteration is:\n",
      "[392]\ttrain's auc: 0.965714\tvalid's auc: 0.915781\n"
     ]
    }
   ],
   "source": [
    "# Lightgbmで学習\n",
    "lgbm_params = {\n",
    "        'objective': 'binary',\n",
    "        'metric': 'auc',\n",
    "        'boosting_type' : 'gbdt',\n",
    "        'seed' : CFG.seed,\n",
    "        'learning_rate': 0.2, \n",
    "}\n",
    "\n",
    "lgb_model_list = []\n",
    "pred = np.zeros(len(test))\n",
    "for fold in range(CFG.fold_num):\n",
    "    X_train = train.filter((pl.col('session_id').is_in(use_session_ids)) & (pl.col('fold') != fold)).drop(['fold','target','session_id'])\n",
    "    Y_train = train.filter((pl.col('session_id').is_in(use_session_ids)) & (pl.col('fold') != fold))['target'].to_numpy()\n",
    "    X_valid = train.filter((pl.col('session_id').is_in(use_session_ids)) & (pl.col('fold') == fold)).drop(['fold','target','session_id'])\n",
    "    Y_valid = train.filter((pl.col('session_id').is_in(use_session_ids)) & (pl.col('fold') == fold))['target'].to_numpy()\n",
    "\n",
    "\n",
    "    # pandasの方が扱いやすいので変換\n",
    "    X_train = X_train.to_pandas()\n",
    "    X_valid = X_valid.to_pandas()\n",
    "    for feature in CFG.cat_features:\n",
    "        X_train[feature] = X_train[feature].astype('category')\n",
    "        X_valid[feature] = X_valid[feature].astype('category')\n",
    "\n",
    "    lgb_train = lgb.Dataset(X_train, Y_train)\n",
    "    lgb_valid = lgb.Dataset(X_valid, Y_valid)\n",
    "    lgb_model = lgb.train(lgbm_params,\n",
    "                      lgb_train,\n",
    "                      valid_sets=[lgb_train, lgb_valid], \n",
    "                      valid_names=['train', 'valid'],\n",
    "                      callbacks=[lgb.early_stopping(200), lgb.log_evaluation(1000)],\n",
    "                      **CFG.lgb_train_params\n",
    "                    )\n",
    "\n",
    "    lgb_model_list.append(lgb_model)\n",
    "\n",
    "    del X_train,Y_train,X_valid,Y_valid,lgb_train,lgb_valid\n",
    "    gc.collect()"
   ]
  },
  {
   "cell_type": "markdown",
   "id": "5951bc22-4b0c-45d9-9277-84f944d1884b",
   "metadata": {},
   "source": [
    "### 推論"
   ]
  },
  {
   "cell_type": "code",
   "execution_count": 37,
   "id": "54dcc223-6d2c-4b91-93ff-7b745418ed34",
   "metadata": {},
   "outputs": [],
   "source": [
    "def apk(actual, predicted, k=10):\n",
    "    \"\"\"\n",
    "    Computes the average precision at k for a single actual value.\n",
    "\n",
    "    Parameters:\n",
    "    actual : int\n",
    "        The actual value that is to be predicted\n",
    "    predicted : list\n",
    "        A list of predicted elements (order does matter)\n",
    "    k : int, optional\n",
    "        The maximum number of predicted elements\n",
    "\n",
    "    Returns:\n",
    "    float\n",
    "        The average precision at k\n",
    "    \"\"\"\n",
    "    if actual in predicted[:k]:\n",
    "        return 1.0 / (predicted[:k].index(actual) + 1)\n",
    "    return 0.0\n",
    "\n",
    "def mapk(actual, predicted, k=10):\n",
    "    \"\"\"\n",
    "    Computes the mean average precision at k for lists of actual values and predicted values.\n",
    "\n",
    "    Parameters:\n",
    "    actual : list\n",
    "        A list of actual values that are to be predicted\n",
    "    predicted : list\n",
    "        A list of lists of predicted elements (order does matter in the lists)\n",
    "    k : int, optional\n",
    "        The maximum number of predicted elements\n",
    "\n",
    "    Returns:\n",
    "    float\n",
    "        The mean average precision at k\n",
    "    \"\"\"\n",
    "    return sum(apk(a, p, k) for a, p in zip(actual, predicted)) / len(actual)"
   ]
  },
  {
   "cell_type": "code",
   "execution_count": 38,
   "id": "ff113439-a9a1-45ba-918b-0f105c1bcc99",
   "metadata": {},
   "outputs": [],
   "source": [
    "def create_top_10_yad_predict(_df):\n",
    "\n",
    "    # セッションごとに予測確率の高い順に yad_no の配列を作成\n",
    "    _agg = _df.sort_values(\"predict\", ascending=False).groupby(\"session_id\")[\"yad_no\"].apply(list)\n",
    "\n",
    "    out_df = pd.DataFrame(index=_agg.index, data=_agg.values.tolist()).iloc[:, :10]\n",
    "\n",
    "    return out_df"
   ]
  },
  {
   "cell_type": "code",
   "execution_count": 39,
   "id": "9b6023ad-6388-45df-bd44-b5a182784032",
   "metadata": {},
   "outputs": [],
   "source": [
    "oof = pd.DataFrame()\n",
    "test = test.with_columns(pl.lit(0).alias('predict'))\n",
    "X_test = test.drop(['session_id'])\n",
    "X_test = X_test.to_pandas()\n",
    "for feature in CFG.cat_features:\n",
    "    X_test[feature] = X_test[feature].astype('category')\n",
    "\n",
    "for fold in range(CFG.fold_num):\n",
    "    X_valid = train.filter((pl.col('fold') == fold)).drop(['fold','target','session_id'])\n",
    "    Y_valid = train.filter((pl.col('fold') == fold))['target'].to_numpy()\n",
    "\n",
    "    # pandasの方が扱いやすいので変換\n",
    "    X_valid = X_valid.to_pandas()\n",
    "    for feature in CFG.cat_features:\n",
    "        X_valid[feature] = X_valid[feature].astype('category')\n",
    "\n",
    "    X_valid['predict'] = lgb_model_list[fold].predict(X_valid)\n",
    "    X_valid['session_id'] = train.filter((pl.col('fold') == fold))['session_id'].to_numpy()\n",
    "    X_test['predict'] += lgb_model_list[fold].predict(X_test.drop('predict',axis=1))/CFG.fold_num\n",
    "    oof = pd.concat([oof,X_valid[['session_id','predict','yad_no']]])\n",
    "X_test['session_id'] = test['session_id'].to_numpy()"
   ]
  },
  {
   "cell_type": "code",
   "execution_count": 40,
   "id": "403068a8-2d79-4c7e-95af-95d1049f972a",
   "metadata": {},
   "outputs": [],
   "source": [
    "oof = oof.sort_values(['session_id','predict'],ascending=False)\n",
    "oof_ = create_top_10_yad_predict(oof)"
   ]
  },
  {
   "cell_type": "code",
   "execution_count": 41,
   "id": "3c270283-0b6b-49f8-ba72-6fc3ada1b120",
   "metadata": {},
   "outputs": [
    {
     "data": {
      "text/plain": [
       "0.3842769403562316"
      ]
     },
     "execution_count": 41,
     "metadata": {},
     "output_type": "execute_result"
    }
   ],
   "source": [
    "label = pd.read_csv(CFG.path_input / \"train_label.csv\")\n",
    "\n",
    "mapk(actual=label[label['session_id'].isin(oof_.reset_index()['session_id'])].sort_values('session_id',ascending=True)['yad_no'].to_list(),\n",
    "     predicted=oof_.values.tolist(), k=10)"
   ]
  },
  {
   "cell_type": "code",
   "execution_count": 42,
   "metadata": {},
   "outputs": [],
   "source": [
    "oof_.to_csv(CFG.path_exp / \"oof.csv\")"
   ]
  },
  {
   "cell_type": "code",
   "execution_count": 43,
   "id": "e3f53b52-a800-4f37-a5ef-bfa96f9b9cd1",
   "metadata": {},
   "outputs": [],
   "source": [
    "# CV = 0.35497319410061673"
   ]
  },
  {
   "cell_type": "code",
   "execution_count": 44,
   "id": "565087e0-a628-4fa6-8ba4-b4d6241b11ad",
   "metadata": {},
   "outputs": [],
   "source": [
    "sub = create_top_10_yad_predict(X_test)\n",
    "sub.columns = [f'predict_{c}' for c in sub.columns]\n",
    "sub = sub.reset_index(drop=True)"
   ]
  },
  {
   "cell_type": "code",
   "execution_count": 45,
   "id": "44aedbee-c2bb-46ae-936a-b7e702e1a085",
   "metadata": {},
   "outputs": [],
   "source": [
    "sub.to_csv(CFG.path_exp / \"submission.csv\", index=False)"
   ]
  },
  {
   "cell_type": "code",
   "execution_count": null,
   "metadata": {},
   "outputs": [],
   "source": []
  }
 ],
 "metadata": {
  "kernelspec": {
   "display_name": "Python 3 (ipykernel)",
   "language": "python",
   "name": "python3"
  },
  "language_info": {
   "codemirror_mode": {
    "name": "ipython",
    "version": 3
   },
   "file_extension": ".py",
   "mimetype": "text/x-python",
   "name": "python",
   "nbconvert_exporter": "python",
   "pygments_lexer": "ipython3",
   "version": "3.10.10"
  }
 },
 "nbformat": 4,
 "nbformat_minor": 5
}
